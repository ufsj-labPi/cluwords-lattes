{
 "cells": [
  {
   "cell_type": "code",
   "execution_count": 1,
   "metadata": {},
   "outputs": [],
   "source": [
    "import re\n",
    "import sys\n",
    "import os\n",
    "import pandas as pd\n",
    "import numpy as np"
   ]
  },
  {
   "cell_type": "code",
   "execution_count": 2,
   "metadata": {},
   "outputs": [],
   "source": [
    "def only_numbers(number):\n",
    "    n = re.sub('[^0-9 .-]', '', number)\n",
    "    n = n.split(' ')\n",
    "    return n"
   ]
  },
  {
   "cell_type": "code",
   "execution_count": 3,
   "metadata": {},
   "outputs": [],
   "source": [
    "file = open('resultados/titles_titles/results/titles/result_topic_10.txt', 'r')\n",
    "data = file.readlines()\n",
    "coherence = data[52]\n",
    "pmi = data[54]\n",
    "npmi = data[107]\n",
    "w2v = data[108]\n",
    "file.close()\n",
    "base_dir = 'resultados/'\n",
    "dates = ['all_titles_lem_titles', 'all_titles_lem_titles_lem', 'all_titles_titles', 'all_titles_titles_lem', 'google_titles', 'google_titles_lem', 'titles_lem_titles', 'titles_lem_tiles_lem', 'titles_titles', 'titles_titles_lem', 'titles_sw_titles', 'titles_sw_titles_lem']\n",
    "n_words = ['5_words', '10_words', '20_words']\n",
    "metrics = ['coherence', 'pmi', 'npmi', 'w2v']\n",
    "#dataframe = pd.MultiIndex.from_product([dates, n_words], names=metrics)\n",
    "#cols = pd.MultiIndex.from_product([dataframe, metrics])\n",
    "#pd.DataFrame('-', dataframe)\n",
    "dataframe = pd.MultiIndex.from_product([dates,\n",
    "                                  n_words])\n",
    "result = [5, 10, 20]"
   ]
  },
  {
   "cell_type": "code",
   "execution_count": 4,
   "metadata": {},
   "outputs": [
    {
     "ename": "FileNotFoundError",
     "evalue": "[Errno 2] No such file or directory: 'resultados/all_titles_titles_lem/results/titles_lem/result_topic_5.txt'",
     "output_type": "error",
     "traceback": [
      "\u001b[0;31m---------------------------------------------------------------------------\u001b[0m",
      "\u001b[0;31mFileNotFoundError\u001b[0m                         Traceback (most recent call last)",
      "\u001b[0;32m<ipython-input-4-3e4d1dbcd54a>\u001b[0m in \u001b[0;36m<module>\u001b[0;34m\u001b[0m\n\u001b[1;32m     11\u001b[0m                 \u001b[0mfile\u001b[0m \u001b[0;34m=\u001b[0m \u001b[0mos\u001b[0m\u001b[0;34m.\u001b[0m\u001b[0mpath\u001b[0m\u001b[0;34m.\u001b[0m\u001b[0mjoin\u001b[0m\u001b[0;34m(\u001b[0m\u001b[0mpath\u001b[0m\u001b[0;34m,\u001b[0m \u001b[0;34m'result_topic_'\u001b[0m \u001b[0;34m+\u001b[0m \u001b[0mstr\u001b[0m\u001b[0;34m(\u001b[0m\u001b[0mfiles\u001b[0m\u001b[0;34m)\u001b[0m \u001b[0;34m+\u001b[0m \u001b[0;34m'.txt'\u001b[0m\u001b[0;34m)\u001b[0m\u001b[0;34m\u001b[0m\u001b[0;34m\u001b[0m\u001b[0m\n\u001b[0;32m---> 12\u001b[0;31m                 \u001b[0mf\u001b[0m \u001b[0;34m=\u001b[0m \u001b[0mopen\u001b[0m\u001b[0;34m(\u001b[0m\u001b[0mfile\u001b[0m\u001b[0;34m,\u001b[0m \u001b[0;34m'r'\u001b[0m\u001b[0;34m)\u001b[0m\u001b[0;34m\u001b[0m\u001b[0;34m\u001b[0m\u001b[0m\n\u001b[0m\u001b[1;32m     13\u001b[0m             \u001b[0;32mexcept\u001b[0m\u001b[0;34m:\u001b[0m\u001b[0;34m\u001b[0m\u001b[0;34m\u001b[0m\u001b[0m\n",
      "\u001b[0;31mFileNotFoundError\u001b[0m: [Errno 2] No such file or directory: 'resultados/all_titles_titles_lem/results/titles/result_topic_5.txt'",
      "\nDuring handling of the above exception, another exception occurred:\n",
      "\u001b[0;31mFileNotFoundError\u001b[0m                         Traceback (most recent call last)",
      "\u001b[0;32m<ipython-input-4-3e4d1dbcd54a>\u001b[0m in \u001b[0;36m<module>\u001b[0;34m\u001b[0m\n\u001b[1;32m     14\u001b[0m                 \u001b[0mpath2\u001b[0m \u001b[0;34m=\u001b[0m \u001b[0mpath\u001b[0m \u001b[0;34m+\u001b[0m \u001b[0;34m'_lem'\u001b[0m\u001b[0;34m\u001b[0m\u001b[0;34m\u001b[0m\u001b[0m\n\u001b[1;32m     15\u001b[0m                 \u001b[0mfile\u001b[0m \u001b[0;34m=\u001b[0m \u001b[0mos\u001b[0m\u001b[0;34m.\u001b[0m\u001b[0mpath\u001b[0m\u001b[0;34m.\u001b[0m\u001b[0mjoin\u001b[0m\u001b[0;34m(\u001b[0m\u001b[0mpath2\u001b[0m\u001b[0;34m,\u001b[0m \u001b[0;34m'result_topic_'\u001b[0m \u001b[0;34m+\u001b[0m \u001b[0mstr\u001b[0m\u001b[0;34m(\u001b[0m\u001b[0mfiles\u001b[0m\u001b[0;34m)\u001b[0m \u001b[0;34m+\u001b[0m \u001b[0;34m'.txt'\u001b[0m\u001b[0;34m)\u001b[0m\u001b[0;34m\u001b[0m\u001b[0;34m\u001b[0m\u001b[0m\n\u001b[0;32m---> 16\u001b[0;31m                 \u001b[0mf\u001b[0m \u001b[0;34m=\u001b[0m \u001b[0mopen\u001b[0m\u001b[0;34m(\u001b[0m\u001b[0mfile\u001b[0m\u001b[0;34m,\u001b[0m \u001b[0;34m'r'\u001b[0m\u001b[0;34m)\u001b[0m\u001b[0;34m\u001b[0m\u001b[0;34m\u001b[0m\u001b[0m\n\u001b[0m\u001b[1;32m     17\u001b[0m             \u001b[0mdata\u001b[0m \u001b[0;34m=\u001b[0m \u001b[0mf\u001b[0m\u001b[0;34m.\u001b[0m\u001b[0mreadlines\u001b[0m\u001b[0;34m(\u001b[0m\u001b[0;34m)\u001b[0m\u001b[0;34m\u001b[0m\u001b[0;34m\u001b[0m\u001b[0m\n\u001b[1;32m     18\u001b[0m             \u001b[0mcoherence\u001b[0m \u001b[0;34m=\u001b[0m \u001b[0mdata\u001b[0m\u001b[0;34m[\u001b[0m\u001b[0;36m52\u001b[0m\u001b[0;34m]\u001b[0m\u001b[0;34m\u001b[0m\u001b[0;34m\u001b[0m\u001b[0m\n",
      "\u001b[0;31mFileNotFoundError\u001b[0m: [Errno 2] No such file or directory: 'resultados/all_titles_titles_lem/results/titles_lem/result_topic_5.txt'"
     ]
    }
   ],
   "source": [
    "ch = []\n",
    "pm = []\n",
    "np = []\n",
    "w2 = []\n",
    "for folder in sorted(os.listdir(base_dir)):\n",
    "    if not folder.startswith('.'):\n",
    "        path = os.path.join(base_dir, folder)\n",
    "        path += '/results/titles'\n",
    "        for files in result:\n",
    "            try:\n",
    "                file = os.path.join(path, 'result_topic_' + str(files) + '.txt')\n",
    "                f = open(file, 'r')\n",
    "            except:\n",
    "                path2 = path + '_lem'\n",
    "                file = os.path.join(path2, 'result_topic_' + str(files) + '.txt')\n",
    "                f = open(file, 'r')\n",
    "            data = f.readlines()\n",
    "            coherence = data[52]\n",
    "            coherence = only_numbers(coherence)\n",
    "            coherence = coherence[1:]\n",
    "            coherence = [float(i) for i in coherence]\n",
    "            coherence = str(coherence[0]) + ' += ' + str(coherence[1])\n",
    "            pmi = data[54]\n",
    "            pmi = only_numbers(pmi)\n",
    "            pmi = pmi[1:]\n",
    "            pmi = [float(i) for i in pmi]\n",
    "            pmi = str(pmi[0]) + ' += ' + str(pmi[1])\n",
    "            npmi = data[107]\n",
    "            npmi = only_numbers(npmi)\n",
    "            npmi = npmi[2:]\n",
    "            npmi = [float(i) for i in npmi]\n",
    "            npmi = str(npmi[0]) + ' += ' + str(npmi[1])\n",
    "            w2v = data[108]\n",
    "            w2v = only_numbers(w2v)\n",
    "            w2v = w2v[1:]\n",
    "            w2v = [float(i) for i in w2v]\n",
    "            w2v = str(w2v[0]) + ' += ' + str(w2v[1])\n",
    "            ch.append(coherence)\n",
    "            pm.append(pmi)\n",
    "            np.append(npmi)\n",
    "            w2.append(w2v)"
   ]
  },
  {
   "cell_type": "code",
   "execution_count": 13,
   "metadata": {},
   "outputs": [],
   "source": [
    "pd.DataFrame(ch, dataframe, ['coherence']).T.to_csv('coherence.csv', sep='|')"
   ]
  },
  {
   "cell_type": "code",
   "execution_count": 14,
   "metadata": {},
   "outputs": [],
   "source": [
    "pd.DataFrame(pm, dataframe, ['pmi']).T.to_csv('pmi.csv', sep='|')"
   ]
  },
  {
   "cell_type": "code",
   "execution_count": 15,
   "metadata": {},
   "outputs": [],
   "source": [
    "pd.DataFrame(np, dataframe, ['npmi']).T.to_csv('npmi.csv', sep='|')"
   ]
  },
  {
   "cell_type": "code",
   "execution_count": 16,
   "metadata": {},
   "outputs": [],
   "source": [
    "pd.DataFrame(w2, dataframe, ['w2v']).T.to_csv('w2v.csv', sep='|')"
   ]
  }
 ],
 "metadata": {
  "kernelspec": {
   "display_name": "Python 3",
   "language": "python",
   "name": "python3"
  },
  "language_info": {
   "codemirror_mode": {
    "name": "ipython",
    "version": 3
   },
   "file_extension": ".py",
   "mimetype": "text/x-python",
   "name": "python",
   "nbconvert_exporter": "python",
   "pygments_lexer": "ipython3",
   "version": "3.7.4"
  }
 },
 "nbformat": 4,
 "nbformat_minor": 4
}
