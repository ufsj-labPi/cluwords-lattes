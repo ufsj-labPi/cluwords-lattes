{
 "cells": [
  {
   "cell_type": "code",
   "execution_count": 1,
   "metadata": {},
   "outputs": [],
   "source": [
    "import logging\n",
    "import warnings\n",
    "import matplotlib.pyplot as plt\n",
    "%matplotlib inline\n",
    "\n",
    "import pandas as pd\n",
    "import numpy as np\n",
    "from gensim.models import Word2Vec\n",
    "from sklearn.manifold import TSNE\n",
    "\n",
    "# Setting up the loggings to monitor gensim\n",
    "logging.basicConfig(format=\"%(levelname)s - %(asctime)s: %(message)s\", datefmt= '%H:%M:%S', level=logging.INFO)\n",
    "warnings.filterwarnings('ignore')"
   ]
  },
  {
   "cell_type": "code",
   "execution_count": 2,
   "metadata": {},
   "outputs": [],
   "source": [
    "input = './data/corpus/corpus.csv.xz'\n",
    "df = pd.read_csv(input, compression='xz')"
   ]
  },
  {
   "cell_type": "code",
   "execution_count": 3,
   "metadata": {},
   "outputs": [
    {
     "name": "stderr",
     "output_type": "stream",
     "text": [
      "WARNING - 07:14:16: consider setting layer size to a multiple of 4 for greater performance\n",
      "INFO - 07:14:16: collecting all words and their counts\n",
      "INFO - 07:14:16: PROGRESS: at sentence #0, processed 0 words, keeping 0 word types\n",
      "INFO - 07:14:17: collected 87462 word types from a corpus of 1959759 raw words and 8577 sentences\n",
      "INFO - 07:14:17: Loading a fresh vocabulary\n",
      "INFO - 07:14:17: effective_min_count=1 retains 87462 unique words (100% of original 87462, drops 0)\n",
      "INFO - 07:14:17: effective_min_count=1 leaves 1959759 word corpus (100% of original 1959759, drops 0)\n",
      "INFO - 07:14:17: deleting the raw counts dictionary of 87462 items\n",
      "INFO - 07:14:17: sample=0.001 downsamples 27 most-common words\n",
      "INFO - 07:14:17: downsampling leaves estimated 1634200 word corpus (83.4% of prior 1959759)\n",
      "INFO - 07:14:17: estimated required memory for 87462 words and 50 dimensions: 78715800 bytes\n",
      "INFO - 07:14:17: resetting layer weights\n",
      "INFO - 07:14:37: training model with 3 workers on 87462 vocabulary and 50 features, using sg=1 hs=0 sample=0.001 negative=5 window=3\n",
      "INFO - 07:14:38: EPOCH 1 - PROGRESS: at 18.79% examples, 303211 words/s, in_qsize 5, out_qsize 0\n",
      "INFO - 07:14:40: EPOCH 1 - PROGRESS: at 38.30% examples, 304597 words/s, in_qsize 5, out_qsize 0\n",
      "INFO - 07:14:41: EPOCH 1 - PROGRESS: at 55.58% examples, 294169 words/s, in_qsize 5, out_qsize 0\n",
      "INFO - 07:14:42: EPOCH 1 - PROGRESS: at 72.30% examples, 287917 words/s, in_qsize 5, out_qsize 0\n",
      "INFO - 07:14:43: EPOCH 1 - PROGRESS: at 88.60% examples, 282643 words/s, in_qsize 6, out_qsize 0\n",
      "INFO - 07:14:43: worker thread finished; awaiting finish of 2 more threads\n",
      "INFO - 07:14:43: worker thread finished; awaiting finish of 1 more threads\n",
      "INFO - 07:14:43: worker thread finished; awaiting finish of 0 more threads\n",
      "INFO - 07:14:43: EPOCH - 1 : training on 1959759 raw words (1633539 effective words) took 5.8s, 280037 effective words/s\n",
      "INFO - 07:14:44: EPOCH 2 - PROGRESS: at 16.45% examples, 251606 words/s, in_qsize 5, out_qsize 0\n",
      "INFO - 07:14:45: EPOCH 2 - PROGRESS: at 32.45% examples, 250879 words/s, in_qsize 5, out_qsize 0\n",
      "INFO - 07:14:46: EPOCH 2 - PROGRESS: at 48.48% examples, 249935 words/s, in_qsize 5, out_qsize 0\n",
      "INFO - 07:14:47: EPOCH 2 - PROGRESS: at 66.71% examples, 263900 words/s, in_qsize 5, out_qsize 0\n",
      "INFO - 07:14:48: EPOCH 2 - PROGRESS: at 85.88% examples, 268508 words/s, in_qsize 4, out_qsize 1\n",
      "INFO - 07:14:49: worker thread finished; awaiting finish of 2 more threads\n",
      "INFO - 07:14:49: worker thread finished; awaiting finish of 1 more threads\n",
      "INFO - 07:14:49: worker thread finished; awaiting finish of 0 more threads\n",
      "INFO - 07:14:49: EPOCH - 2 : training on 1959759 raw words (1634093 effective words) took 5.9s, 276513 effective words/s\n",
      "INFO - 07:14:50: EPOCH 3 - PROGRESS: at 20.05% examples, 315725 words/s, in_qsize 5, out_qsize 0\n",
      "INFO - 07:14:51: EPOCH 3 - PROGRESS: at 38.82% examples, 308531 words/s, in_qsize 5, out_qsize 0\n",
      "INFO - 07:14:52: EPOCH 3 - PROGRESS: at 54.58% examples, 291776 words/s, in_qsize 5, out_qsize 0\n",
      "INFO - 07:14:53: EPOCH 3 - PROGRESS: at 70.65% examples, 283246 words/s, in_qsize 5, out_qsize 0\n",
      "INFO - 07:14:54: EPOCH 3 - PROGRESS: at 90.95% examples, 290879 words/s, in_qsize 6, out_qsize 0\n",
      "INFO - 07:14:55: worker thread finished; awaiting finish of 2 more threads\n",
      "INFO - 07:14:55: worker thread finished; awaiting finish of 1 more threads\n",
      "INFO - 07:14:55: worker thread finished; awaiting finish of 0 more threads\n",
      "INFO - 07:14:55: EPOCH - 3 : training on 1959759 raw words (1633840 effective words) took 5.5s, 294967 effective words/s\n",
      "INFO - 07:14:56: EPOCH 4 - PROGRESS: at 20.05% examples, 317796 words/s, in_qsize 5, out_qsize 0\n",
      "INFO - 07:14:57: EPOCH 4 - PROGRESS: at 38.30% examples, 307603 words/s, in_qsize 5, out_qsize 0\n",
      "INFO - 07:14:58: EPOCH 4 - PROGRESS: at 55.58% examples, 299323 words/s, in_qsize 5, out_qsize 0\n",
      "INFO - 07:14:59: EPOCH 4 - PROGRESS: at 75.61% examples, 305294 words/s, in_qsize 5, out_qsize 0\n",
      "INFO - 07:15:00: EPOCH 4 - PROGRESS: at 96.35% examples, 311120 words/s, in_qsize 6, out_qsize 0\n",
      "INFO - 07:15:00: worker thread finished; awaiting finish of 2 more threads\n",
      "INFO - 07:15:00: worker thread finished; awaiting finish of 1 more threads\n",
      "INFO - 07:15:00: worker thread finished; awaiting finish of 0 more threads\n",
      "INFO - 07:15:00: EPOCH - 4 : training on 1959759 raw words (1633906 effective words) took 5.2s, 312958 effective words/s\n",
      "INFO - 07:15:01: EPOCH 5 - PROGRESS: at 19.39% examples, 312348 words/s, in_qsize 5, out_qsize 0\n",
      "INFO - 07:15:02: EPOCH 5 - PROGRESS: at 37.24% examples, 297456 words/s, in_qsize 5, out_qsize 0\n",
      "INFO - 07:15:03: EPOCH 5 - PROGRESS: at 56.76% examples, 305006 words/s, in_qsize 5, out_qsize 0\n",
      "INFO - 07:15:04: EPOCH 5 - PROGRESS: at 75.17% examples, 298460 words/s, in_qsize 5, out_qsize 0\n",
      "INFO - 07:15:05: EPOCH 5 - PROGRESS: at 92.93% examples, 296176 words/s, in_qsize 5, out_qsize 0\n",
      "INFO - 07:15:06: worker thread finished; awaiting finish of 2 more threads\n",
      "INFO - 07:15:06: worker thread finished; awaiting finish of 1 more threads\n",
      "INFO - 07:15:06: worker thread finished; awaiting finish of 0 more threads\n",
      "INFO - 07:15:06: EPOCH - 5 : training on 1959759 raw words (1634102 effective words) took 5.7s, 288680 effective words/s\n",
      "INFO - 07:15:06: training on a 9798795 raw words (8169480 effective words) took 28.2s, 289943 effective words/s\n"
     ]
    }
   ],
   "source": [
    "sent = [sentence.split() for sentence in df['titulo']]\n",
    "model = Word2Vec(sent, min_count=1,size= 50,workers=3, window =3, sg = 1)"
   ]
  },
  {
   "cell_type": "markdown",
   "metadata": {},
   "source": [
    "### T-SNE Plot"
   ]
  },
  {
   "cell_type": "code",
   "execution_count": 4,
   "metadata": {},
   "outputs": [
    {
     "name": "stderr",
     "output_type": "stream",
     "text": [
      "INFO - 07:15:06: precomputing L2-norms of word weight vectors\n"
     ]
    },
    {
     "data": {
      "image/png": "[encoded data removed]",
      "text/plain": [
       "<Figure size 432x288 with 1 Axes>"
      ]
     },
     "metadata": {
      "needs_background": "light"
     },
     "output_type": "display_data"
    }
   ],
   "source": [
    "def display_closestwords_tsnescatterplot(model, word, size):\n",
    "    \n",
    "    arr = np.empty((0,size), dtype='f')\n",
    "    word_labels = [word]\n",
    "\n",
    "    close_words = model.similar_by_word(word)\n",
    "\n",
    "    arr = np.append(arr, np.array([model[word]]), axis=0)\n",
    "    for wrd_score in close_words:\n",
    "        wrd_vector = model[wrd_score[0]]\n",
    "        word_labels.append(wrd_score[0])\n",
    "        arr = np.append(arr, np.array([wrd_vector]), axis=0)\n",
    "        \n",
    "    tsne = TSNE(n_components=2, random_state=0)\n",
    "    np.set_printoptions(suppress=True)\n",
    "    Y = tsne.fit_transform(arr)\n",
    "\n",
    "    x_coords = Y[:, 0]\n",
    "    y_coords = Y[:, 1]\n",
    "    plt.scatter(x_coords, y_coords)\n",
    "\n",
    "    for label, x, y in zip(word_labels, x_coords, y_coords):\n",
    "        plt.annotate(label, xy=(x, y), xytext=(0, 0), textcoords='offset points')\n",
    "\n",
    "    plt.xlim(x_coords.min()+0.00005, x_coords.max()+0.00005)\n",
    "    plt.ylim(y_coords.min()+0.00005, y_coords.max()+0.00005)\n",
    "    plt.show()\n",
    "\n",
    "query = 'hardware'\n",
    "display_closestwords_tsnescatterplot(model, query, 50)"
   ]
  },
  {
   "cell_type": "code",
   "execution_count": null,
   "metadata": {},
   "outputs": [],
   "source": []
  }
 ],
 "metadata": {
  "kernelspec": {
   "display_name": "Python 3.8.2 64-bit ('.venv': venv)",
   "language": "python",
   "name": "python38264bitvenvvenv2bbc39647f214cc383d5c83f858d10a1"
  },
  "language_info": {
   "codemirror_mode": {
    "name": "ipython",
    "version": 3
   },
   "file_extension": ".py",
   "mimetype": "text/x-python",
   "name": "python",
   "nbconvert_exporter": "python",
   "pygments_lexer": "ipython3",
   "version": "3.8.2"
  }
 },
 "nbformat": 4,
 "nbformat_minor": 4
}
