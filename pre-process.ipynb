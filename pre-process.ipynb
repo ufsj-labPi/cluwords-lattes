{
 "cells": [
  {
   "cell_type": "code",
   "execution_count": 1,
   "metadata": {},
   "outputs": [],
   "source": [
    "import pandas as pd\n",
    "import numpy as np\n",
    "import string, html\n",
    "import langid\n",
    "\n",
    "from time import time\n",
    "from pathlib import Path\n",
    "from bs4 import BeautifulSoup\n",
    "\n",
    "from nltk.tokenize import word_tokenize\n",
    "from nltk.stem.snowball import SnowballStemmer\n",
    "#from nltk.stem import PorterStemmer\n",
    "from nltk.corpus import stopwords\n",
    "\n",
    "SELECT_YEAR = 2017\n",
    "\n",
    "DATA_PATH = './data'\n",
    "PAPERS_FILE = '{}/papers_22072019.csv.xz'.format(DATA_PATH)\n",
    "WORKS_FILE  = '{}/works_22072019.csv.xz'.format(DATA_PATH)\n",
    "\n",
    "DEFAULT_STEMMER = SnowballStemmer('english')\n",
    "DEFAULT_STOPWORDS = stopwords.words('english')"
   ]
  },
  {
   "cell_type": "markdown",
   "metadata": {},
   "source": [
    "### Data Read"
   ]
  },
  {
   "cell_type": "code",
   "execution_count": 2,
   "metadata": {},
   "outputs": [
    {
     "name": "stdout",
     "output_type": "stream",
     "text": [
      "(61154, 3) artigos\n",
      "(119965, 3) trabalhos\n"
     ]
    }
   ],
   "source": [
    "# Artigos Extraidos\n",
    "df_papers = pd.read_csv(PAPERS_FILE, sep='|', compression='xz')\n",
    "df_papers.drop(df_papers.loc[df_papers['idioma']!='Inglês'].index, inplace=True)\n",
    "df_papers.drop(['id_doc','autores_cnpq','autores','idioma','revista','natureza'], axis=1, inplace=True)\n",
    "df_papers.dropna(inplace=True)\n",
    "df_papers.reset_index(inplace=True, drop=True)\n",
    "\n",
    "# Trabalhos Extraidos\n",
    "df_works = pd.read_csv(WORKS_FILE, sep='|', compression='xz')\n",
    "df_works.drop(df_works.loc[df_works['idioma']!='Inglês'].index, inplace=True)\n",
    "df_works.drop(['id_doc','autores_cnpq','autores','idioma','anais','natureza'], axis=1, inplace=True)\n",
    "df_works.dropna(inplace=True)\n",
    "df_works.reset_index(inplace=True, drop=True)\n",
    "\n",
    "print('{} artigos\\n{} trabalhos'.format(df_papers.shape, df_works.shape))"
   ]
  },
  {
   "cell_type": "markdown",
   "metadata": {},
   "source": [
    "### Concatena Dataframes"
   ]
  },
  {
   "cell_type": "code",
   "execution_count": 3,
   "metadata": {},
   "outputs": [
    {
     "name": "stdout",
     "output_type": "stream",
     "text": [
      "(180252, 3) docs shape [concat]\n"
     ]
    },
    {
     "data": {
      "text/plain": [
       "id         int64\n",
       "titulo    object\n",
       "ano        int64\n",
       "dtype: object"
      ]
     },
     "execution_count": 3,
     "metadata": {},
     "output_type": "execute_result"
    }
   ],
   "source": [
    "frames = [df_papers, df_works]\n",
    "df = pd.concat(frames)\n",
    "del [frames, df_papers, df_works]\n",
    "\n",
    "df.drop_duplicates(inplace=True)\n",
    "df.reset_index(inplace=True, drop=True)\n",
    "df.sort_values(by=['id','ano'], ignore_index=True, inplace=True)\n",
    "\n",
    "# Localiza dados invalidos para 'ano' / Converte 'ano' em int\n",
    "df.drop(df.loc[~df['ano'].astype(str).str.isnumeric()].index, inplace=True)\n",
    "df['ano'] = df['ano'].astype(int)\n",
    "\n",
    "print('{} docs shape [concat]'.format(df.shape))\n",
    "df.dtypes"
   ]
  },
  {
   "cell_type": "markdown",
   "metadata": {},
   "source": [
    "### Seleciona Ano/Concacatena Autor"
   ]
  },
  {
   "cell_type": "code",
   "execution_count": 4,
   "metadata": {},
   "outputs": [
    {
     "name": "stdout",
     "output_type": "stream",
     "text": [
      "(3055, 2) docs shape [SELECT_YEAR]\n"
     ]
    },
    {
     "data": {
      "image/png": "[encoded data removed]",
      "text/plain": [
       "<Figure size 432x288 with 1 Axes>"
      ]
     },
     "metadata": {
      "needs_background": "light"
     },
     "output_type": "display_data"
    }
   ],
   "source": [
    "df['ano'].value_counts().sort_index(ascending=False).head(11).plot(kind='bar')\n",
    "\n",
    "df.drop(df.loc[df['ano']!=SELECT_YEAR].index, inplace=True)\n",
    "df.sort_values(by=['id'], ignore_index=True, inplace=True)\n",
    "\n",
    "# Concatena por Autor\n",
    "df.drop(['ano'], axis=1, inplace=True)\n",
    "df = df.groupby('id', sort=False).titulo.apply(' '.join).reset_index(name='titulo')\n",
    "\n",
    "print('{} docs shape [SELECT_YEAR]'.format(df.shape))"
   ]
  },
  {
   "cell_type": "markdown",
   "metadata": {},
   "source": [
    "### Normalização"
   ]
  },
  {
   "cell_type": "code",
   "execution_count": 5,
   "metadata": {},
   "outputs": [
    {
     "name": "stdout",
     "output_type": "stream",
     "text": [
      "Normalization Time: 0.0 mins\n"
     ]
    },
    {
     "data": {
      "text/html": [
       "<div>\n",
       "<style scoped>\n",
       "    .dataframe tbody tr th:only-of-type {\n",
       "        vertical-align: middle;\n",
       "    }\n",
       "\n",
       "    .dataframe tbody tr th {\n",
       "        vertical-align: top;\n",
       "    }\n",
       "\n",
       "    .dataframe thead th {\n",
       "        text-align: right;\n",
       "    }\n",
       "</style>\n",
       "<table border=\"1\" class=\"dataframe\">\n",
       "  <thead>\n",
       "    <tr style=\"text-align: right;\">\n",
       "      <th></th>\n",
       "      <th>id</th>\n",
       "      <th>titulo</th>\n",
       "      <th>clean</th>\n",
       "    </tr>\n",
       "  </thead>\n",
       "  <tbody>\n",
       "    <tr>\n",
       "      <th>0</th>\n",
       "      <td>104124422364023</td>\n",
       "      <td>Exploiting photo location and direction for cl...</td>\n",
       "      <td>exploiting photo location and direction for cl...</td>\n",
       "    </tr>\n",
       "    <tr>\n",
       "      <th>1</th>\n",
       "      <td>105670521813027</td>\n",
       "      <td>Gene expression analysis in &lt;i&gt;Musa acuminata&lt;...</td>\n",
       "      <td>gene expression analysis in musa acuminata dur...</td>\n",
       "    </tr>\n",
       "    <tr>\n",
       "      <th>2</th>\n",
       "      <td>109837868064895</td>\n",
       "      <td>A study of equivalent electrical circuit fitti...</td>\n",
       "      <td>a study of equivalent electrical circuit fitti...</td>\n",
       "    </tr>\n",
       "    <tr>\n",
       "      <th>3</th>\n",
       "      <td>116792663386170</td>\n",
       "      <td>DYNAMICS OF CONNECTED VESSELS WITH RUNAWAY REA...</td>\n",
       "      <td>dynamics of connected vessels with runaway rea...</td>\n",
       "    </tr>\n",
       "    <tr>\n",
       "      <th>4</th>\n",
       "      <td>117460865270656</td>\n",
       "      <td>YBS heuristic for routing and spectrum allocat...</td>\n",
       "      <td>ybs heuristic for routing and spectrum allocat...</td>\n",
       "    </tr>\n",
       "    <tr>\n",
       "      <th>...</th>\n",
       "      <td>...</td>\n",
       "      <td>...</td>\n",
       "      <td>...</td>\n",
       "    </tr>\n",
       "    <tr>\n",
       "      <th>3050</th>\n",
       "      <td>9976045320641172</td>\n",
       "      <td>Retrieving 2D shapes by similarity based on ba...</td>\n",
       "      <td>retrieving 2d shapes by similarity based on ba...</td>\n",
       "    </tr>\n",
       "    <tr>\n",
       "      <th>3051</th>\n",
       "      <td>9981634193003068</td>\n",
       "      <td>Spatiotemporal Data Representation in R PostGI...</td>\n",
       "      <td>spatiotemporal data representation in r postgi...</td>\n",
       "    </tr>\n",
       "    <tr>\n",
       "      <th>3052</th>\n",
       "      <td>9990463602315076</td>\n",
       "      <td>An Interactive Tool for the Synthesis of Conso...</td>\n",
       "      <td>an interactive tool for the synthesis of conso...</td>\n",
       "    </tr>\n",
       "    <tr>\n",
       "      <th>3053</th>\n",
       "      <td>9997398594109675</td>\n",
       "      <td>A sentence a day: how to engage students in a ...</td>\n",
       "      <td>a sentence a day how to engage students in a d...</td>\n",
       "    </tr>\n",
       "    <tr>\n",
       "      <th>3054</th>\n",
       "      <td>9997641567631872</td>\n",
       "      <td>An Airspace Capacity-Based Safety Assessment M...</td>\n",
       "      <td>an airspace capacity based safety assessment m...</td>\n",
       "    </tr>\n",
       "  </tbody>\n",
       "</table>\n",
       "<p>3055 rows × 3 columns</p>\n",
       "</div>"
      ],
      "text/plain": [
       "                    id                                             titulo  \\\n",
       "0      104124422364023  Exploiting photo location and direction for cl...   \n",
       "1      105670521813027  Gene expression analysis in <i>Musa acuminata<...   \n",
       "2      109837868064895  A study of equivalent electrical circuit fitti...   \n",
       "3      116792663386170  DYNAMICS OF CONNECTED VESSELS WITH RUNAWAY REA...   \n",
       "4      117460865270656  YBS heuristic for routing and spectrum allocat...   \n",
       "...                ...                                                ...   \n",
       "3050  9976045320641172  Retrieving 2D shapes by similarity based on ba...   \n",
       "3051  9981634193003068  Spatiotemporal Data Representation in R PostGI...   \n",
       "3052  9990463602315076  An Interactive Tool for the Synthesis of Conso...   \n",
       "3053  9997398594109675  A sentence a day: how to engage students in a ...   \n",
       "3054  9997641567631872  An Airspace Capacity-Based Safety Assessment M...   \n",
       "\n",
       "                                                  clean  \n",
       "0     exploiting photo location and direction for cl...  \n",
       "1     gene expression analysis in musa acuminata dur...  \n",
       "2     a study of equivalent electrical circuit fitti...  \n",
       "3     dynamics of connected vessels with runaway rea...  \n",
       "4     ybs heuristic for routing and spectrum allocat...  \n",
       "...                                                 ...  \n",
       "3050  retrieving 2d shapes by similarity based on ba...  \n",
       "3051  spatiotemporal data representation in r postgi...  \n",
       "3052  an interactive tool for the synthesis of conso...  \n",
       "3053  a sentence a day how to engage students in a d...  \n",
       "3054  an airspace capacity based safety assessment m...  \n",
       "\n",
       "[3055 rows x 3 columns]"
      ]
     },
     "execution_count": 5,
     "metadata": {},
     "output_type": "execute_result"
    }
   ],
   "source": [
    "df.insert(2, 'clean', df['titulo'])\n",
    "\n",
    "def decode_html(doc):\n",
    "    decoded = html.unescape(doc)\n",
    "    return decoded\n",
    "\n",
    "def strip_html(doc):\n",
    "    soup = BeautifulSoup(doc, \"html.parser\")\n",
    "    return soup.get_text()\n",
    "\n",
    "def remove_separation(doc):\n",
    "    table = doc.maketrans('-/', '  ')\n",
    "    return doc.translate(table)\n",
    "\n",
    "def strip_ponct(doc):\n",
    "    table = str.maketrans({key: None for key in string.punctuation})\n",
    "    return doc.translate(table)\n",
    "\n",
    "def normaliza(doc):\n",
    "    doc = decode_html(doc)\n",
    "    doc = strip_html(doc)\n",
    "    doc = remove_separation(doc)\n",
    "    doc = strip_ponct(doc)\n",
    "    doc = doc.lower()\n",
    "    return doc\n",
    "\n",
    "t = time()\n",
    "df['clean'] = df['clean'].apply(normaliza)\n",
    "print('Normalization Time: {} mins'.format(round((time() - t) / 60, 2)))\n",
    "df"
   ]
  },
  {
   "cell_type": "markdown",
   "metadata": {},
   "source": [
    "### Detect language (experimental)"
   ]
  },
  {
   "cell_type": "code",
   "execution_count": 6,
   "metadata": {},
   "outputs": [
    {
     "name": "stdout",
     "output_type": "stream",
     "text": [
      "(2984, 3) docs shape [concat]\n"
     ]
    }
   ],
   "source": [
    "def detect_language(doc):\n",
    "    lang, log_prob = langid.classify(doc)\n",
    "    if lang != 'en':\n",
    "        return np.nan\n",
    "    return doc\n",
    "\n",
    "df['clean'] = df['clean'].apply(detect_language)\n",
    "df.dropna(inplace=True)\n",
    "df.reset_index(inplace=True, drop=True)\n",
    "print('{} docs shape [concat]'.format(df.shape))"
   ]
  },
  {
   "cell_type": "markdown",
   "metadata": {},
   "source": [
    "### Stopwords / Lemma"
   ]
  },
  {
   "cell_type": "code",
   "execution_count": 7,
   "metadata": {},
   "outputs": [
    {
     "name": "stdout",
     "output_type": "stream",
     "text": [
      "Pre Procces Time: 0.03 mins\n"
     ]
    },
    {
     "data": {
      "text/html": [
       "<div>\n",
       "<style scoped>\n",
       "    .dataframe tbody tr th:only-of-type {\n",
       "        vertical-align: middle;\n",
       "    }\n",
       "\n",
       "    .dataframe tbody tr th {\n",
       "        vertical-align: top;\n",
       "    }\n",
       "\n",
       "    .dataframe thead th {\n",
       "        text-align: right;\n",
       "    }\n",
       "</style>\n",
       "<table border=\"1\" class=\"dataframe\">\n",
       "  <thead>\n",
       "    <tr style=\"text-align: right;\">\n",
       "      <th></th>\n",
       "      <th>id</th>\n",
       "      <th>titulo</th>\n",
       "      <th>clean</th>\n",
       "    </tr>\n",
       "  </thead>\n",
       "  <tbody>\n",
       "    <tr>\n",
       "      <th>0</th>\n",
       "      <td>104124422364023</td>\n",
       "      <td>Exploiting photo location and direction for cl...</td>\n",
       "      <td>[exploit, photo, locat, direct, cluster, base,...</td>\n",
       "    </tr>\n",
       "    <tr>\n",
       "      <th>1</th>\n",
       "      <td>105670521813027</td>\n",
       "      <td>Gene expression analysis in &lt;i&gt;Musa acuminata&lt;...</td>\n",
       "      <td>[gene, express, analysi, musa, acuminata, comp...</td>\n",
       "    </tr>\n",
       "    <tr>\n",
       "      <th>2</th>\n",
       "      <td>109837868064895</td>\n",
       "      <td>A study of equivalent electrical circuit fitti...</td>\n",
       "      <td>[studi, equival, electr, circuit, fit, electro...</td>\n",
       "    </tr>\n",
       "    <tr>\n",
       "      <th>3</th>\n",
       "      <td>116792663386170</td>\n",
       "      <td>DYNAMICS OF CONNECTED VESSELS WITH RUNAWAY REA...</td>\n",
       "      <td>[dynam, connect, vessel, runaway, reaction, ri...</td>\n",
       "    </tr>\n",
       "    <tr>\n",
       "      <th>4</th>\n",
       "      <td>117460865270656</td>\n",
       "      <td>YBS heuristic for routing and spectrum allocat...</td>\n",
       "      <td>[ybs, heurist, rout, spectrum, alloc, flexibl,...</td>\n",
       "    </tr>\n",
       "    <tr>\n",
       "      <th>5</th>\n",
       "      <td>120615995402345</td>\n",
       "      <td>Efficient and Modular Consensus-Free Reconfigu...</td>\n",
       "      <td>[effici, modular, consensus, free, reconfigur,...</td>\n",
       "    </tr>\n",
       "    <tr>\n",
       "      <th>6</th>\n",
       "      <td>122307432250869</td>\n",
       "      <td>Quaternion-based Deep Belief Networks Fine-Tun...</td>\n",
       "      <td>[quaternion, base, deep, belief, network, fine...</td>\n",
       "    </tr>\n",
       "    <tr>\n",
       "      <th>7</th>\n",
       "      <td>122321907341579</td>\n",
       "      <td>A Brazilian look at occupational health and sa...</td>\n",
       "      <td>[brazilian, look, occup, health, safeti, usa, ...</td>\n",
       "    </tr>\n",
       "    <tr>\n",
       "      <th>8</th>\n",
       "      <td>122916218414168</td>\n",
       "      <td>IoT Applied To Precision LABCONM: A Remote Lab...</td>\n",
       "      <td>[iot, appli, precis, labconm, remot, lab, lear...</td>\n",
       "    </tr>\n",
       "    <tr>\n",
       "      <th>9</th>\n",
       "      <td>125036186628507</td>\n",
       "      <td>Self-Adaptive Role-Based Access Control for Bu...</td>\n",
       "      <td>[self, adapt, role, base, access, control, bus...</td>\n",
       "    </tr>\n",
       "  </tbody>\n",
       "</table>\n",
       "</div>"
      ],
      "text/plain": [
       "                id                                             titulo  \\\n",
       "0  104124422364023  Exploiting photo location and direction for cl...   \n",
       "1  105670521813027  Gene expression analysis in <i>Musa acuminata<...   \n",
       "2  109837868064895  A study of equivalent electrical circuit fitti...   \n",
       "3  116792663386170  DYNAMICS OF CONNECTED VESSELS WITH RUNAWAY REA...   \n",
       "4  117460865270656  YBS heuristic for routing and spectrum allocat...   \n",
       "5  120615995402345  Efficient and Modular Consensus-Free Reconfigu...   \n",
       "6  122307432250869  Quaternion-based Deep Belief Networks Fine-Tun...   \n",
       "7  122321907341579  A Brazilian look at occupational health and sa...   \n",
       "8  122916218414168  IoT Applied To Precision LABCONM: A Remote Lab...   \n",
       "9  125036186628507  Self-Adaptive Role-Based Access Control for Bu...   \n",
       "\n",
       "                                               clean  \n",
       "0  [exploit, photo, locat, direct, cluster, base,...  \n",
       "1  [gene, express, analysi, musa, acuminata, comp...  \n",
       "2  [studi, equival, electr, circuit, fit, electro...  \n",
       "3  [dynam, connect, vessel, runaway, reaction, ri...  \n",
       "4  [ybs, heurist, rout, spectrum, alloc, flexibl,...  \n",
       "5  [effici, modular, consensus, free, reconfigur,...  \n",
       "6  [quaternion, base, deep, belief, network, fine...  \n",
       "7  [brazilian, look, occup, health, safeti, usa, ...  \n",
       "8  [iot, appli, precis, labconm, remot, lab, lear...  \n",
       "9  [self, adapt, role, base, access, control, bus...  "
      ]
     },
     "execution_count": 7,
     "metadata": {},
     "output_type": "execute_result"
    }
   ],
   "source": [
    "def remove_stopwords(doc, stop_words=DEFAULT_STOPWORDS):\n",
    "    words = [w for w in doc if not w in stop_words]\n",
    "    return words\n",
    "\n",
    "def stem_text(doc, stemmer=DEFAULT_STEMMER):\n",
    "    words = [stemmer.stem(w) for w in doc]\n",
    "    return words\n",
    "\n",
    "def preprocess(doc):\n",
    "    doc = word_tokenize(doc)\n",
    "    doc = remove_stopwords(doc)\n",
    "    doc = stem_text(doc)\n",
    "    doc = [w for w in doc if len(w) > 1]\n",
    "    return doc\n",
    "\n",
    "t = time()\n",
    "df['clean'] = df['clean'].apply(preprocess)\n",
    "print('Pre Procces Time: {} mins'.format(round((time() - t) / 60, 2)))\n",
    "df.head(10)"
   ]
  },
  {
   "cell_type": "markdown",
   "metadata": {},
   "source": [
    "### Remove Noise"
   ]
  },
  {
   "cell_type": "code",
   "execution_count": 8,
   "metadata": {},
   "outputs": [
    {
     "name": "stdout",
     "output_type": "stream",
     "text": [
      "Remove Noise Time: 0.0 mins\n"
     ]
    }
   ],
   "source": [
    "noise_file = open('{}/extra/noise.txt'.format(DATA_PATH),'r')\n",
    "noise = noise_file.read().splitlines()\n",
    "\n",
    "def remove_noise(doc):\n",
    "    words = [w for w in doc if not w in noise]\n",
    "    return words\n",
    "\n",
    "t = time()\n",
    "df['clean'] = df['clean'].apply(remove_noise)\n",
    "\n",
    "# Destokenizar\n",
    "df['clean'] = df['clean'].apply(lambda x: ' '.join(x))\n",
    "\n",
    "print('Remove Noise Time: {} mins'.format(round((time() - t) / 60, 2)))"
   ]
  },
  {
   "cell_type": "markdown",
   "metadata": {},
   "source": [
    "### Salva CSV"
   ]
  },
  {
   "cell_type": "code",
   "execution_count": 9,
   "metadata": {},
   "outputs": [],
   "source": [
    "path = '{}/'.format(DATA_PATH)\n",
    "Path(path).mkdir(exist_ok=True)\n",
    "\n",
    "pre_file = '{}/{}lattesPre.txt'.format(DATA_PATH, SELECT_YEAR)\n",
    "ida_file = '{}/{}authors.csv.xz'.format(DATA_PATH, SELECT_YEAR)\n",
    "\n",
    "df.to_csv(ida_file, index=None, header=False, compression='xz', columns=['id'])\n",
    "df.to_csv(pre_file, index=None, header=False, columns=['clean'])"
   ]
  },
  {
   "cell_type": "code",
   "execution_count": null,
   "metadata": {},
   "outputs": [],
   "source": []
  }
 ],
 "metadata": {
  "kernelspec": {
   "display_name": "lattes",
   "language": "python",
   "name": "lattes"
  },
  "language_info": {
   "codemirror_mode": {
    "name": "ipython",
    "version": 3
   },
   "file_extension": ".py",
   "mimetype": "text/x-python",
   "name": "python",
   "nbconvert_exporter": "python",
   "pygments_lexer": "ipython3",
   "version": "3.6.9"
  }
 },
 "nbformat": 4,
 "nbformat_minor": 4
}
