{
 "cells": [
  {
   "cell_type": "code",
   "execution_count": 1,
   "metadata": {},
   "outputs": [],
   "source": [
    "import pandas as pd\n",
    "import numpy as np\n",
    "import string, html\n",
    "import langid\n",
    "\n",
    "from time import time\n",
    "from pathlib import Path\n",
    "from bs4 import BeautifulSoup\n",
    "\n",
    "from nltk.tokenize import word_tokenize\n",
    "from nltk.stem.snowball import SnowballStemmer\n",
    "#from nltk.stem import PorterStemmer\n",
    "from nltk.corpus import stopwords\n",
    "\n",
    "SELECT_YEAR = 2017\n",
    "\n",
    "DATA_PATH = './data'\n",
    "PAPERS_FILE = '{}/papers_22072019.csv.xz'.format(DATA_PATH)\n",
    "WORKS_FILE  = '{}/works_22072019.csv.xz'.format(DATA_PATH)\n",
    "\n",
    "DEFAULT_STEMMER = SnowballStemmer('english')\n",
    "DEFAULT_STOPWORDS = stopwords.words('english')"
   ]
  },
  {
   "cell_type": "markdown",
   "metadata": {},
   "source": [
    "### Data Read"
   ]
  },
  {
   "cell_type": "code",
   "execution_count": 2,
   "metadata": {},
   "outputs": [
    {
     "output_type": "stream",
     "name": "stdout",
     "text": "(61154, 3) artigos\n(119965, 3) trabalhos\n"
    }
   ],
   "source": [
    "# Artigos Extraidos\n",
    "df_papers = pd.read_csv(PAPERS_FILE, sep='|', compression='xz')\n",
    "df_papers.drop(df_papers.loc[df_papers['idioma']!='Inglês'].index, inplace=True)\n",
    "df_papers.drop(['id_doc','autores_cnpq','autores','idioma','revista','natureza'], axis=1, inplace=True)\n",
    "df_papers.dropna(inplace=True)\n",
    "df_papers.reset_index(inplace=True, drop=True)\n",
    "\n",
    "# Trabalhos Extraidos\n",
    "df_works = pd.read_csv(WORKS_FILE, sep='|', compression='xz')\n",
    "df_works.drop(df_works.loc[df_works['idioma']!='Inglês'].index, inplace=True)\n",
    "df_works.drop(['id_doc','autores_cnpq','autores','idioma','anais','natureza'], axis=1, inplace=True)\n",
    "df_works.dropna(inplace=True)\n",
    "df_works.reset_index(inplace=True, drop=True)\n",
    "\n",
    "print('{} artigos\\n{} trabalhos'.format(df_papers.shape, df_works.shape))"
   ]
  },
  {
   "cell_type": "markdown",
   "metadata": {},
   "source": [
    "### Concatena Dataframes"
   ]
  },
  {
   "cell_type": "code",
   "execution_count": 3,
   "metadata": {},
   "outputs": [
    {
     "output_type": "stream",
     "name": "stdout",
     "text": "(180252, 3) docs shape [concat]\n"
    },
    {
     "output_type": "execute_result",
     "data": {
      "text/plain": "id         int64\ntitulo    object\nano        int64\ndtype: object"
     },
     "metadata": {},
     "execution_count": 3
    }
   ],
   "source": [
    "frames = [df_papers, df_works]\n",
    "df = pd.concat(frames)\n",
    "del [frames, df_papers, df_works]\n",
    "\n",
    "df.drop_duplicates(inplace=True)\n",
    "df.reset_index(inplace=True, drop=True)\n",
    "df.sort_values(by=['id','ano'], ignore_index=True, inplace=True)\n",
    "\n",
    "# Localiza dados invalidos para 'ano' / Converte 'ano' em int\n",
    "df.drop(df.loc[~df['ano'].astype(str).str.isnumeric()].index, inplace=True)\n",
    "df['ano'] = df['ano'].astype(int)\n",
    "\n",
    "print('{} docs shape [concat]'.format(df.shape))\n",
    "df.dtypes"
   ]
  },
  {
   "cell_type": "markdown",
   "metadata": {},
   "source": [
    "### Seleciona Ano/Concacatena Autor"
   ]
  },
  {
   "cell_type": "code",
   "execution_count": 4,
   "metadata": {},
   "outputs": [
    {
     "output_type": "stream",
     "name": "stdout",
     "text": "(3055, 2) docs shape [SELECT_YEAR]\n"
    },
    {
     "output_type": "display_data",
     "data": {
      "text/plain": "<Figure size 432x288 with 1 Axes>",
      "image/svg+xml": "<?xml version=\"1.0\" encoding=\"utf-8\" standalone=\"no\"?>\n<!DOCTYPE svg PUBLIC \"-//W3C//DTD SVG 1.1//EN\"\n  \"http://www.w3.org/Graphics/SVG/1.1/DTD/svg11.dtd\">\n<!-- Created with matplotlib (https://matplotlib.org/) -->\n<svg height=\"268.081065pt\" version=\"1.1\" viewBox=\"0 0 388.0125 268.081065\" width=\"388.0125pt\" xmlns=\"http://www.w3.org/2000/svg\" xmlns:xlink=\"http://www.w3.org/1999/xlink\">\n <defs>\n  <style type=\"text/css\">\n*{stroke-linecap:butt;stroke-linejoin:round;}\n  </style>\n </defs>\n <g id=\"figure_1\">\n  <g id=\"patch_1\">\n   <path d=\"M 0 268.081065 \nL 388.0125 268.081065 \nL 388.0125 0 \nL 0 0 \nz\n\" style=\"fill:none;\"/>\n  </g>\n  <g id=\"axes_1\">\n   <g id=\"patch_2\">\n    <path d=\"M 46.0125 228.431065 \nL 380.8125 228.431065 \nL 380.8125 10.991065 \nL 46.0125 10.991065 \nz\n\" style=\"fill:#ffffff;\"/>\n   </g>\n   <g id=\"patch_3\">\n    <path clip-path=\"url(#pe0ffe81da4)\" d=\"M 53.621591 228.431065 \nL 68.839773 228.431065 \nL 68.839773 198.1718 \nL 53.621591 198.1718 \nz\n\" style=\"fill:#1f77b4;\"/>\n   </g>\n   <g id=\"patch_4\">\n    <path clip-path=\"url(#pe0ffe81da4)\" d=\"M 84.057955 228.431065 \nL 99.276136 228.431065 \nL 99.276136 66.824845 \nL 84.057955 66.824845 \nz\n\" style=\"fill:#1f77b4;\"/>\n   </g>\n   <g id=\"patch_5\">\n    <path clip-path=\"url(#pe0ffe81da4)\" d=\"M 114.494318 228.431065 \nL 129.7125 228.431065 \nL 129.7125 47.056667 \nL 114.494318 47.056667 \nz\n\" style=\"fill:#1f77b4;\"/>\n   </g>\n   <g id=\"patch_6\">\n    <path clip-path=\"url(#pe0ffe81da4)\" d=\"M 144.930682 228.431065 \nL 160.148864 228.431065 \nL 160.148864 30.078863 \nL 144.930682 30.078863 \nz\n\" style=\"fill:#1f77b4;\"/>\n   </g>\n   <g id=\"patch_7\">\n    <path clip-path=\"url(#pe0ffe81da4)\" d=\"M 175.367045 228.431065 \nL 190.585227 228.431065 \nL 190.585227 25.277243 \nL 175.367045 25.277243 \nz\n\" style=\"fill:#1f77b4;\"/>\n   </g>\n   <g id=\"patch_8\">\n    <path clip-path=\"url(#pe0ffe81da4)\" d=\"M 205.803409 228.431065 \nL 221.021591 228.431065 \nL 221.021591 21.345351 \nL 205.803409 21.345351 \nz\n\" style=\"fill:#1f77b4;\"/>\n   </g>\n   <g id=\"patch_9\">\n    <path clip-path=\"url(#pe0ffe81da4)\" d=\"M 236.239773 228.431065 \nL 251.457955 228.431065 \nL 251.457955 23.447192 \nL 236.239773 23.447192 \nz\n\" style=\"fill:#1f77b4;\"/>\n   </g>\n   <g id=\"patch_10\">\n    <path clip-path=\"url(#pe0ffe81da4)\" d=\"M 266.676136 228.431065 \nL 281.894318 228.431065 \nL 281.894318 34.4275 \nL 266.676136 34.4275 \nz\n\" style=\"fill:#1f77b4;\"/>\n   </g>\n   <g id=\"patch_11\">\n    <path clip-path=\"url(#pe0ffe81da4)\" d=\"M 297.1125 228.431065 \nL 312.330682 228.431065 \nL 312.330682 40.316279 \nL 297.1125 40.316279 \nz\n\" style=\"fill:#1f77b4;\"/>\n   </g>\n   <g id=\"patch_12\">\n    <path clip-path=\"url(#pe0ffe81da4)\" d=\"M 327.548864 228.431065 \nL 342.767045 228.431065 \nL 342.767045 52.927326 \nL 327.548864 52.927326 \nz\n\" style=\"fill:#1f77b4;\"/>\n   </g>\n   <g id=\"patch_13\">\n    <path clip-path=\"url(#pe0ffe81da4)\" d=\"M 357.985227 228.431065 \nL 373.203409 228.431065 \nL 373.203409 58.671151 \nL 357.985227 58.671151 \nz\n\" style=\"fill:#1f77b4;\"/>\n   </g>\n   <g id=\"matplotlib.axis_1\">\n    <g id=\"xtick_1\">\n     <g id=\"line2d_1\">\n      <defs>\n       <path d=\"M 0 0 \nL 0 3.5 \n\" id=\"mae8bc777a9\" style=\"stroke:#000000;stroke-width:0.8;\"/>\n      </defs>\n      <g>\n       <use style=\"stroke:#000000;stroke-width:0.8;\" x=\"61.230682\" xlink:href=\"#mae8bc777a9\" y=\"228.431065\"/>\n      </g>\n     </g>\n     <g id=\"text_1\">\n      <!-- 2018 -->\n      <defs>\n       <path d=\"M 19.1875 8.296875 \nL 53.609375 8.296875 \nL 53.609375 0 \nL 7.328125 0 \nL 7.328125 8.296875 \nQ 12.9375 14.109375 22.625 23.890625 \nQ 32.328125 33.6875 34.8125 36.53125 \nQ 39.546875 41.84375 41.421875 45.53125 \nQ 43.3125 49.21875 43.3125 52.78125 \nQ 43.3125 58.59375 39.234375 62.25 \nQ 35.15625 65.921875 28.609375 65.921875 \nQ 23.96875 65.921875 18.8125 64.3125 \nQ 13.671875 62.703125 7.8125 59.421875 \nL 7.8125 69.390625 \nQ 13.765625 71.78125 18.9375 73 \nQ 24.125 74.21875 28.421875 74.21875 \nQ 39.75 74.21875 46.484375 68.546875 \nQ 53.21875 62.890625 53.21875 53.421875 \nQ 53.21875 48.921875 51.53125 44.890625 \nQ 49.859375 40.875 45.40625 35.40625 \nQ 44.1875 33.984375 37.640625 27.21875 \nQ 31.109375 20.453125 19.1875 8.296875 \nz\n\" id=\"DejaVuSans-50\"/>\n       <path d=\"M 31.78125 66.40625 \nQ 24.171875 66.40625 20.328125 58.90625 \nQ 16.5 51.421875 16.5 36.375 \nQ 16.5 21.390625 20.328125 13.890625 \nQ 24.171875 6.390625 31.78125 6.390625 \nQ 39.453125 6.390625 43.28125 13.890625 \nQ 47.125 21.390625 47.125 36.375 \nQ 47.125 51.421875 43.28125 58.90625 \nQ 39.453125 66.40625 31.78125 66.40625 \nz\nM 31.78125 74.21875 \nQ 44.046875 74.21875 50.515625 64.515625 \nQ 56.984375 54.828125 56.984375 36.375 \nQ 56.984375 17.96875 50.515625 8.265625 \nQ 44.046875 -1.421875 31.78125 -1.421875 \nQ 19.53125 -1.421875 13.0625 8.265625 \nQ 6.59375 17.96875 6.59375 36.375 \nQ 6.59375 54.828125 13.0625 64.515625 \nQ 19.53125 74.21875 31.78125 74.21875 \nz\n\" id=\"DejaVuSans-48\"/>\n       <path d=\"M 12.40625 8.296875 \nL 28.515625 8.296875 \nL 28.515625 63.921875 \nL 10.984375 60.40625 \nL 10.984375 69.390625 \nL 28.421875 72.90625 \nL 38.28125 72.90625 \nL 38.28125 8.296875 \nL 54.390625 8.296875 \nL 54.390625 0 \nL 12.40625 0 \nz\n\" id=\"DejaVuSans-49\"/>\n       <path d=\"M 31.78125 34.625 \nQ 24.75 34.625 20.71875 30.859375 \nQ 16.703125 27.09375 16.703125 20.515625 \nQ 16.703125 13.921875 20.71875 10.15625 \nQ 24.75 6.390625 31.78125 6.390625 \nQ 38.8125 6.390625 42.859375 10.171875 \nQ 46.921875 13.96875 46.921875 20.515625 \nQ 46.921875 27.09375 42.890625 30.859375 \nQ 38.875 34.625 31.78125 34.625 \nz\nM 21.921875 38.8125 \nQ 15.578125 40.375 12.03125 44.71875 \nQ 8.5 49.078125 8.5 55.328125 \nQ 8.5 64.0625 14.71875 69.140625 \nQ 20.953125 74.21875 31.78125 74.21875 \nQ 42.671875 74.21875 48.875 69.140625 \nQ 55.078125 64.0625 55.078125 55.328125 \nQ 55.078125 49.078125 51.53125 44.71875 \nQ 48 40.375 41.703125 38.8125 \nQ 48.828125 37.15625 52.796875 32.3125 \nQ 56.78125 27.484375 56.78125 20.515625 \nQ 56.78125 9.90625 50.3125 4.234375 \nQ 43.84375 -1.421875 31.78125 -1.421875 \nQ 19.734375 -1.421875 13.25 4.234375 \nQ 6.78125 9.90625 6.78125 20.515625 \nQ 6.78125 27.484375 10.78125 32.3125 \nQ 14.796875 37.15625 21.921875 38.8125 \nz\nM 18.3125 54.390625 \nQ 18.3125 48.734375 21.84375 45.5625 \nQ 25.390625 42.390625 31.78125 42.390625 \nQ 38.140625 42.390625 41.71875 45.5625 \nQ 45.3125 48.734375 45.3125 54.390625 \nQ 45.3125 60.0625 41.71875 63.234375 \nQ 38.140625 66.40625 31.78125 66.40625 \nQ 25.390625 66.40625 21.84375 63.234375 \nQ 18.3125 60.0625 18.3125 54.390625 \nz\n\" id=\"DejaVuSans-56\"/>\n      </defs>\n      <g transform=\"translate(63.990057 260.881065)rotate(-90)scale(0.1 -0.1)\">\n       <use xlink:href=\"#DejaVuSans-50\"/>\n       <use x=\"63.623047\" xlink:href=\"#DejaVuSans-48\"/>\n       <use x=\"127.246094\" xlink:href=\"#DejaVuSans-49\"/>\n       <use x=\"190.869141\" xlink:href=\"#DejaVuSans-56\"/>\n      </g>\n     </g>\n    </g>\n    <g id=\"xtick_2\">\n     <g id=\"line2d_2\">\n      <g>\n       <use style=\"stroke:#000000;stroke-width:0.8;\" x=\"91.667045\" xlink:href=\"#mae8bc777a9\" y=\"228.431065\"/>\n      </g>\n     </g>\n     <g id=\"text_2\">\n      <!-- 2017 -->\n      <defs>\n       <path d=\"M 8.203125 72.90625 \nL 55.078125 72.90625 \nL 55.078125 68.703125 \nL 28.609375 0 \nL 18.3125 0 \nL 43.21875 64.59375 \nL 8.203125 64.59375 \nz\n\" id=\"DejaVuSans-55\"/>\n      </defs>\n      <g transform=\"translate(94.42642 260.881065)rotate(-90)scale(0.1 -0.1)\">\n       <use xlink:href=\"#DejaVuSans-50\"/>\n       <use x=\"63.623047\" xlink:href=\"#DejaVuSans-48\"/>\n       <use x=\"127.246094\" xlink:href=\"#DejaVuSans-49\"/>\n       <use x=\"190.869141\" xlink:href=\"#DejaVuSans-55\"/>\n      </g>\n     </g>\n    </g>\n    <g id=\"xtick_3\">\n     <g id=\"line2d_3\">\n      <g>\n       <use style=\"stroke:#000000;stroke-width:0.8;\" x=\"122.103409\" xlink:href=\"#mae8bc777a9\" y=\"228.431065\"/>\n      </g>\n     </g>\n     <g id=\"text_3\">\n      <!-- 2016 -->\n      <defs>\n       <path d=\"M 33.015625 40.375 \nQ 26.375 40.375 22.484375 35.828125 \nQ 18.609375 31.296875 18.609375 23.390625 \nQ 18.609375 15.53125 22.484375 10.953125 \nQ 26.375 6.390625 33.015625 6.390625 \nQ 39.65625 6.390625 43.53125 10.953125 \nQ 47.40625 15.53125 47.40625 23.390625 \nQ 47.40625 31.296875 43.53125 35.828125 \nQ 39.65625 40.375 33.015625 40.375 \nz\nM 52.59375 71.296875 \nL 52.59375 62.3125 \nQ 48.875 64.0625 45.09375 64.984375 \nQ 41.3125 65.921875 37.59375 65.921875 \nQ 27.828125 65.921875 22.671875 59.328125 \nQ 17.53125 52.734375 16.796875 39.40625 \nQ 19.671875 43.65625 24.015625 45.921875 \nQ 28.375 48.1875 33.59375 48.1875 \nQ 44.578125 48.1875 50.953125 41.515625 \nQ 57.328125 34.859375 57.328125 23.390625 \nQ 57.328125 12.15625 50.6875 5.359375 \nQ 44.046875 -1.421875 33.015625 -1.421875 \nQ 20.359375 -1.421875 13.671875 8.265625 \nQ 6.984375 17.96875 6.984375 36.375 \nQ 6.984375 53.65625 15.1875 63.9375 \nQ 23.390625 74.21875 37.203125 74.21875 \nQ 40.921875 74.21875 44.703125 73.484375 \nQ 48.484375 72.75 52.59375 71.296875 \nz\n\" id=\"DejaVuSans-54\"/>\n      </defs>\n      <g transform=\"translate(124.862784 260.881065)rotate(-90)scale(0.1 -0.1)\">\n       <use xlink:href=\"#DejaVuSans-50\"/>\n       <use x=\"63.623047\" xlink:href=\"#DejaVuSans-48\"/>\n       <use x=\"127.246094\" xlink:href=\"#DejaVuSans-49\"/>\n       <use x=\"190.869141\" xlink:href=\"#DejaVuSans-54\"/>\n      </g>\n     </g>\n    </g>\n    <g id=\"xtick_4\">\n     <g id=\"line2d_4\">\n      <g>\n       <use style=\"stroke:#000000;stroke-width:0.8;\" x=\"152.539773\" xlink:href=\"#mae8bc777a9\" y=\"228.431065\"/>\n      </g>\n     </g>\n     <g id=\"text_4\">\n      <!-- 2015 -->\n      <defs>\n       <path d=\"M 10.796875 72.90625 \nL 49.515625 72.90625 \nL 49.515625 64.59375 \nL 19.828125 64.59375 \nL 19.828125 46.734375 \nQ 21.96875 47.46875 24.109375 47.828125 \nQ 26.265625 48.1875 28.421875 48.1875 \nQ 40.625 48.1875 47.75 41.5 \nQ 54.890625 34.8125 54.890625 23.390625 \nQ 54.890625 11.625 47.5625 5.09375 \nQ 40.234375 -1.421875 26.90625 -1.421875 \nQ 22.3125 -1.421875 17.546875 -0.640625 \nQ 12.796875 0.140625 7.71875 1.703125 \nL 7.71875 11.625 \nQ 12.109375 9.234375 16.796875 8.0625 \nQ 21.484375 6.890625 26.703125 6.890625 \nQ 35.15625 6.890625 40.078125 11.328125 \nQ 45.015625 15.765625 45.015625 23.390625 \nQ 45.015625 31 40.078125 35.4375 \nQ 35.15625 39.890625 26.703125 39.890625 \nQ 22.75 39.890625 18.8125 39.015625 \nQ 14.890625 38.140625 10.796875 36.28125 \nz\n\" id=\"DejaVuSans-53\"/>\n      </defs>\n      <g transform=\"translate(155.299148 260.881065)rotate(-90)scale(0.1 -0.1)\">\n       <use xlink:href=\"#DejaVuSans-50\"/>\n       <use x=\"63.623047\" xlink:href=\"#DejaVuSans-48\"/>\n       <use x=\"127.246094\" xlink:href=\"#DejaVuSans-49\"/>\n       <use x=\"190.869141\" xlink:href=\"#DejaVuSans-53\"/>\n      </g>\n     </g>\n    </g>\n    <g id=\"xtick_5\">\n     <g id=\"line2d_5\">\n      <g>\n       <use style=\"stroke:#000000;stroke-width:0.8;\" x=\"182.976136\" xlink:href=\"#mae8bc777a9\" y=\"228.431065\"/>\n      </g>\n     </g>\n     <g id=\"text_5\">\n      <!-- 2014 -->\n      <defs>\n       <path d=\"M 37.796875 64.3125 \nL 12.890625 25.390625 \nL 37.796875 25.390625 \nz\nM 35.203125 72.90625 \nL 47.609375 72.90625 \nL 47.609375 25.390625 \nL 58.015625 25.390625 \nL 58.015625 17.1875 \nL 47.609375 17.1875 \nL 47.609375 0 \nL 37.796875 0 \nL 37.796875 17.1875 \nL 4.890625 17.1875 \nL 4.890625 26.703125 \nz\n\" id=\"DejaVuSans-52\"/>\n      </defs>\n      <g transform=\"translate(185.735511 260.881065)rotate(-90)scale(0.1 -0.1)\">\n       <use xlink:href=\"#DejaVuSans-50\"/>\n       <use x=\"63.623047\" xlink:href=\"#DejaVuSans-48\"/>\n       <use x=\"127.246094\" xlink:href=\"#DejaVuSans-49\"/>\n       <use x=\"190.869141\" xlink:href=\"#DejaVuSans-52\"/>\n      </g>\n     </g>\n    </g>\n    <g id=\"xtick_6\">\n     <g id=\"line2d_6\">\n      <g>\n       <use style=\"stroke:#000000;stroke-width:0.8;\" x=\"213.4125\" xlink:href=\"#mae8bc777a9\" y=\"228.431065\"/>\n      </g>\n     </g>\n     <g id=\"text_6\">\n      <!-- 2013 -->\n      <defs>\n       <path d=\"M 40.578125 39.3125 \nQ 47.65625 37.796875 51.625 33 \nQ 55.609375 28.21875 55.609375 21.1875 \nQ 55.609375 10.40625 48.1875 4.484375 \nQ 40.765625 -1.421875 27.09375 -1.421875 \nQ 22.515625 -1.421875 17.65625 -0.515625 \nQ 12.796875 0.390625 7.625 2.203125 \nL 7.625 11.71875 \nQ 11.71875 9.328125 16.59375 8.109375 \nQ 21.484375 6.890625 26.8125 6.890625 \nQ 36.078125 6.890625 40.9375 10.546875 \nQ 45.796875 14.203125 45.796875 21.1875 \nQ 45.796875 27.640625 41.28125 31.265625 \nQ 36.765625 34.90625 28.71875 34.90625 \nL 20.21875 34.90625 \nL 20.21875 43.015625 \nL 29.109375 43.015625 \nQ 36.375 43.015625 40.234375 45.921875 \nQ 44.09375 48.828125 44.09375 54.296875 \nQ 44.09375 59.90625 40.109375 62.90625 \nQ 36.140625 65.921875 28.71875 65.921875 \nQ 24.65625 65.921875 20.015625 65.03125 \nQ 15.375 64.15625 9.8125 62.3125 \nL 9.8125 71.09375 \nQ 15.4375 72.65625 20.34375 73.4375 \nQ 25.25 74.21875 29.59375 74.21875 \nQ 40.828125 74.21875 47.359375 69.109375 \nQ 53.90625 64.015625 53.90625 55.328125 \nQ 53.90625 49.265625 50.4375 45.09375 \nQ 46.96875 40.921875 40.578125 39.3125 \nz\n\" id=\"DejaVuSans-51\"/>\n      </defs>\n      <g transform=\"translate(216.171875 260.881065)rotate(-90)scale(0.1 -0.1)\">\n       <use xlink:href=\"#DejaVuSans-50\"/>\n       <use x=\"63.623047\" xlink:href=\"#DejaVuSans-48\"/>\n       <use x=\"127.246094\" xlink:href=\"#DejaVuSans-49\"/>\n       <use x=\"190.869141\" xlink:href=\"#DejaVuSans-51\"/>\n      </g>\n     </g>\n    </g>\n    <g id=\"xtick_7\">\n     <g id=\"line2d_7\">\n      <g>\n       <use style=\"stroke:#000000;stroke-width:0.8;\" x=\"243.848864\" xlink:href=\"#mae8bc777a9\" y=\"228.431065\"/>\n      </g>\n     </g>\n     <g id=\"text_7\">\n      <!-- 2012 -->\n      <g transform=\"translate(246.608239 260.881065)rotate(-90)scale(0.1 -0.1)\">\n       <use xlink:href=\"#DejaVuSans-50\"/>\n       <use x=\"63.623047\" xlink:href=\"#DejaVuSans-48\"/>\n       <use x=\"127.246094\" xlink:href=\"#DejaVuSans-49\"/>\n       <use x=\"190.869141\" xlink:href=\"#DejaVuSans-50\"/>\n      </g>\n     </g>\n    </g>\n    <g id=\"xtick_8\">\n     <g id=\"line2d_8\">\n      <g>\n       <use style=\"stroke:#000000;stroke-width:0.8;\" x=\"274.285227\" xlink:href=\"#mae8bc777a9\" y=\"228.431065\"/>\n      </g>\n     </g>\n     <g id=\"text_8\">\n      <!-- 2011 -->\n      <g transform=\"translate(277.044602 260.881065)rotate(-90)scale(0.1 -0.1)\">\n       <use xlink:href=\"#DejaVuSans-50\"/>\n       <use x=\"63.623047\" xlink:href=\"#DejaVuSans-48\"/>\n       <use x=\"127.246094\" xlink:href=\"#DejaVuSans-49\"/>\n       <use x=\"190.869141\" xlink:href=\"#DejaVuSans-49\"/>\n      </g>\n     </g>\n    </g>\n    <g id=\"xtick_9\">\n     <g id=\"line2d_9\">\n      <g>\n       <use style=\"stroke:#000000;stroke-width:0.8;\" x=\"304.721591\" xlink:href=\"#mae8bc777a9\" y=\"228.431065\"/>\n      </g>\n     </g>\n     <g id=\"text_9\">\n      <!-- 2010 -->\n      <g transform=\"translate(307.480966 260.881065)rotate(-90)scale(0.1 -0.1)\">\n       <use xlink:href=\"#DejaVuSans-50\"/>\n       <use x=\"63.623047\" xlink:href=\"#DejaVuSans-48\"/>\n       <use x=\"127.246094\" xlink:href=\"#DejaVuSans-49\"/>\n       <use x=\"190.869141\" xlink:href=\"#DejaVuSans-48\"/>\n      </g>\n     </g>\n    </g>\n    <g id=\"xtick_10\">\n     <g id=\"line2d_10\">\n      <g>\n       <use style=\"stroke:#000000;stroke-width:0.8;\" x=\"335.157955\" xlink:href=\"#mae8bc777a9\" y=\"228.431065\"/>\n      </g>\n     </g>\n     <g id=\"text_10\">\n      <!-- 2009 -->\n      <defs>\n       <path d=\"M 10.984375 1.515625 \nL 10.984375 10.5 \nQ 14.703125 8.734375 18.5 7.8125 \nQ 22.3125 6.890625 25.984375 6.890625 \nQ 35.75 6.890625 40.890625 13.453125 \nQ 46.046875 20.015625 46.78125 33.40625 \nQ 43.953125 29.203125 39.59375 26.953125 \nQ 35.25 24.703125 29.984375 24.703125 \nQ 19.046875 24.703125 12.671875 31.3125 \nQ 6.296875 37.9375 6.296875 49.421875 \nQ 6.296875 60.640625 12.9375 67.421875 \nQ 19.578125 74.21875 30.609375 74.21875 \nQ 43.265625 74.21875 49.921875 64.515625 \nQ 56.59375 54.828125 56.59375 36.375 \nQ 56.59375 19.140625 48.40625 8.859375 \nQ 40.234375 -1.421875 26.421875 -1.421875 \nQ 22.703125 -1.421875 18.890625 -0.6875 \nQ 15.09375 0.046875 10.984375 1.515625 \nz\nM 30.609375 32.421875 \nQ 37.25 32.421875 41.125 36.953125 \nQ 45.015625 41.5 45.015625 49.421875 \nQ 45.015625 57.28125 41.125 61.84375 \nQ 37.25 66.40625 30.609375 66.40625 \nQ 23.96875 66.40625 20.09375 61.84375 \nQ 16.21875 57.28125 16.21875 49.421875 \nQ 16.21875 41.5 20.09375 36.953125 \nQ 23.96875 32.421875 30.609375 32.421875 \nz\n\" id=\"DejaVuSans-57\"/>\n      </defs>\n      <g transform=\"translate(337.91733 260.881065)rotate(-90)scale(0.1 -0.1)\">\n       <use xlink:href=\"#DejaVuSans-50\"/>\n       <use x=\"63.623047\" xlink:href=\"#DejaVuSans-48\"/>\n       <use x=\"127.246094\" xlink:href=\"#DejaVuSans-48\"/>\n       <use x=\"190.869141\" xlink:href=\"#DejaVuSans-57\"/>\n      </g>\n     </g>\n    </g>\n    <g id=\"xtick_11\">\n     <g id=\"line2d_11\">\n      <g>\n       <use style=\"stroke:#000000;stroke-width:0.8;\" x=\"365.594318\" xlink:href=\"#mae8bc777a9\" y=\"228.431065\"/>\n      </g>\n     </g>\n     <g id=\"text_11\">\n      <!-- 2008 -->\n      <g transform=\"translate(368.353693 260.881065)rotate(-90)scale(0.1 -0.1)\">\n       <use xlink:href=\"#DejaVuSans-50\"/>\n       <use x=\"63.623047\" xlink:href=\"#DejaVuSans-48\"/>\n       <use x=\"127.246094\" xlink:href=\"#DejaVuSans-48\"/>\n       <use x=\"190.869141\" xlink:href=\"#DejaVuSans-56\"/>\n      </g>\n     </g>\n    </g>\n   </g>\n   <g id=\"matplotlib.axis_2\">\n    <g id=\"ytick_1\">\n     <g id=\"line2d_12\">\n      <defs>\n       <path d=\"M 0 0 \nL -3.5 0 \n\" id=\"m119b8d5eaf\" style=\"stroke:#000000;stroke-width:0.8;\"/>\n      </defs>\n      <g>\n       <use style=\"stroke:#000000;stroke-width:0.8;\" x=\"46.0125\" xlink:href=\"#m119b8d5eaf\" y=\"228.431065\"/>\n      </g>\n     </g>\n     <g id=\"text_12\">\n      <!-- 0 -->\n      <g transform=\"translate(32.65 232.230284)scale(0.1 -0.1)\">\n       <use xlink:href=\"#DejaVuSans-48\"/>\n      </g>\n     </g>\n    </g>\n    <g id=\"ytick_2\">\n     <g id=\"line2d_13\">\n      <g>\n       <use style=\"stroke:#000000;stroke-width:0.8;\" x=\"46.0125\" xlink:href=\"#m119b8d5eaf\" y=\"192.192424\"/>\n      </g>\n     </g>\n     <g id=\"text_13\">\n      <!-- 2000 -->\n      <g transform=\"translate(13.5625 195.991643)scale(0.1 -0.1)\">\n       <use xlink:href=\"#DejaVuSans-50\"/>\n       <use x=\"63.623047\" xlink:href=\"#DejaVuSans-48\"/>\n       <use x=\"127.246094\" xlink:href=\"#DejaVuSans-48\"/>\n       <use x=\"190.869141\" xlink:href=\"#DejaVuSans-48\"/>\n      </g>\n     </g>\n    </g>\n    <g id=\"ytick_3\">\n     <g id=\"line2d_14\">\n      <g>\n       <use style=\"stroke:#000000;stroke-width:0.8;\" x=\"46.0125\" xlink:href=\"#m119b8d5eaf\" y=\"155.953783\"/>\n      </g>\n     </g>\n     <g id=\"text_14\">\n      <!-- 4000 -->\n      <g transform=\"translate(13.5625 159.753002)scale(0.1 -0.1)\">\n       <use xlink:href=\"#DejaVuSans-52\"/>\n       <use x=\"63.623047\" xlink:href=\"#DejaVuSans-48\"/>\n       <use x=\"127.246094\" xlink:href=\"#DejaVuSans-48\"/>\n       <use x=\"190.869141\" xlink:href=\"#DejaVuSans-48\"/>\n      </g>\n     </g>\n    </g>\n    <g id=\"ytick_4\">\n     <g id=\"line2d_15\">\n      <g>\n       <use style=\"stroke:#000000;stroke-width:0.8;\" x=\"46.0125\" xlink:href=\"#m119b8d5eaf\" y=\"119.715142\"/>\n      </g>\n     </g>\n     <g id=\"text_15\">\n      <!-- 6000 -->\n      <g transform=\"translate(13.5625 123.514361)scale(0.1 -0.1)\">\n       <use xlink:href=\"#DejaVuSans-54\"/>\n       <use x=\"63.623047\" xlink:href=\"#DejaVuSans-48\"/>\n       <use x=\"127.246094\" xlink:href=\"#DejaVuSans-48\"/>\n       <use x=\"190.869141\" xlink:href=\"#DejaVuSans-48\"/>\n      </g>\n     </g>\n    </g>\n    <g id=\"ytick_5\">\n     <g id=\"line2d_16\">\n      <g>\n       <use style=\"stroke:#000000;stroke-width:0.8;\" x=\"46.0125\" xlink:href=\"#m119b8d5eaf\" y=\"83.476501\"/>\n      </g>\n     </g>\n     <g id=\"text_16\">\n      <!-- 8000 -->\n      <g transform=\"translate(13.5625 87.27572)scale(0.1 -0.1)\">\n       <use xlink:href=\"#DejaVuSans-56\"/>\n       <use x=\"63.623047\" xlink:href=\"#DejaVuSans-48\"/>\n       <use x=\"127.246094\" xlink:href=\"#DejaVuSans-48\"/>\n       <use x=\"190.869141\" xlink:href=\"#DejaVuSans-48\"/>\n      </g>\n     </g>\n    </g>\n    <g id=\"ytick_6\">\n     <g id=\"line2d_17\">\n      <g>\n       <use style=\"stroke:#000000;stroke-width:0.8;\" x=\"46.0125\" xlink:href=\"#m119b8d5eaf\" y=\"47.23786\"/>\n      </g>\n     </g>\n     <g id=\"text_17\">\n      <!-- 10000 -->\n      <g transform=\"translate(7.2 51.037079)scale(0.1 -0.1)\">\n       <use xlink:href=\"#DejaVuSans-49\"/>\n       <use x=\"63.623047\" xlink:href=\"#DejaVuSans-48\"/>\n       <use x=\"127.246094\" xlink:href=\"#DejaVuSans-48\"/>\n       <use x=\"190.869141\" xlink:href=\"#DejaVuSans-48\"/>\n       <use x=\"254.492188\" xlink:href=\"#DejaVuSans-48\"/>\n      </g>\n     </g>\n    </g>\n    <g id=\"ytick_7\">\n     <g id=\"line2d_18\">\n      <g>\n       <use style=\"stroke:#000000;stroke-width:0.8;\" x=\"46.0125\" xlink:href=\"#m119b8d5eaf\" y=\"10.999219\"/>\n      </g>\n     </g>\n     <g id=\"text_18\">\n      <!-- 12000 -->\n      <g transform=\"translate(7.2 14.798438)scale(0.1 -0.1)\">\n       <use xlink:href=\"#DejaVuSans-49\"/>\n       <use x=\"63.623047\" xlink:href=\"#DejaVuSans-50\"/>\n       <use x=\"127.246094\" xlink:href=\"#DejaVuSans-48\"/>\n       <use x=\"190.869141\" xlink:href=\"#DejaVuSans-48\"/>\n       <use x=\"254.492188\" xlink:href=\"#DejaVuSans-48\"/>\n      </g>\n     </g>\n    </g>\n   </g>\n   <g id=\"patch_14\">\n    <path d=\"M 46.0125 228.431065 \nL 46.0125 10.991065 \n\" style=\"fill:none;stroke:#000000;stroke-linecap:square;stroke-linejoin:miter;stroke-width:0.8;\"/>\n   </g>\n   <g id=\"patch_15\">\n    <path d=\"M 380.8125 228.431065 \nL 380.8125 10.991065 \n\" style=\"fill:none;stroke:#000000;stroke-linecap:square;stroke-linejoin:miter;stroke-width:0.8;\"/>\n   </g>\n   <g id=\"patch_16\">\n    <path d=\"M 46.0125 228.431065 \nL 380.8125 228.431065 \n\" style=\"fill:none;stroke:#000000;stroke-linecap:square;stroke-linejoin:miter;stroke-width:0.8;\"/>\n   </g>\n   <g id=\"patch_17\">\n    <path d=\"M 46.0125 10.991065 \nL 380.8125 10.991065 \n\" style=\"fill:none;stroke:#000000;stroke-linecap:square;stroke-linejoin:miter;stroke-width:0.8;\"/>\n   </g>\n  </g>\n </g>\n <defs>\n  <clipPath id=\"pe0ffe81da4\">\n   <rect height=\"217.44\" width=\"334.8\" x=\"46.0125\" y=\"10.991065\"/>\n  </clipPath>\n </defs>\n</svg>\n",
      "image/png": "[encoded data removed]"
     },
     "metadata": {
      "needs_background": "light"
     }
    }
   ],
   "source": [
    "df['ano'].value_counts().sort_index(ascending=False).head(11).plot(kind='bar')\n",
    "\n",
    "df.drop(df.loc[df['ano']!=SELECT_YEAR].index, inplace=True)\n",
    "df.sort_values(by=['id'], ignore_index=True, inplace=True)\n",
    "\n",
    "# Concatena por Autor\n",
    "df.drop(['ano'], axis=1, inplace=True)\n",
    "df = df.groupby('id', sort=False).titulo.apply(' '.join).reset_index(name='titulo')\n",
    "\n",
    "print('{} docs shape [SELECT_YEAR]'.format(df.shape))"
   ]
  },
  {
   "cell_type": "markdown",
   "metadata": {},
   "source": [
    "### Normalização"
   ]
  },
  {
   "cell_type": "code",
   "execution_count": 5,
   "metadata": {},
   "outputs": [
    {
     "output_type": "stream",
     "name": "stdout",
     "text": "Normalization Time: 0.01 mins\n"
    },
    {
     "output_type": "execute_result",
     "data": {
      "text/plain": "                    id                                             titulo  \\\n0      104124422364023  Exploiting photo location and direction for cl...   \n1      105670521813027  Gene expression analysis in <i>Musa acuminata<...   \n2      109837868064895  A study of equivalent electrical circuit fitti...   \n3      116792663386170  DYNAMICS OF CONNECTED VESSELS WITH RUNAWAY REA...   \n4      117460865270656  YBS heuristic for routing and spectrum allocat...   \n...                ...                                                ...   \n3050  9976045320641172  Retrieving 2D shapes by similarity based on ba...   \n3051  9981634193003068  Spatiotemporal Data Representation in R PostGI...   \n3052  9990463602315076  An Interactive Tool for the Synthesis of Conso...   \n3053  9997398594109675  A sentence a day: how to engage students in a ...   \n3054  9997641567631872  An Airspace Capacity-Based Safety Assessment M...   \n\n                                                  clean  \n0     exploiting photo location and direction for cl...  \n1     gene expression analysis in musa acuminata dur...  \n2     a study of equivalent electrical circuit fitti...  \n3     dynamics of connected vessels with runaway rea...  \n4     ybs heuristic for routing and spectrum allocat...  \n...                                                 ...  \n3050  retrieving 2d shapes by similarity based on ba...  \n3051  spatiotemporal data representation in r postgi...  \n3052  an interactive tool for the synthesis of conso...  \n3053  a sentence a day how to engage students in a d...  \n3054  an airspace capacity based safety assessment m...  \n\n[3055 rows x 3 columns]",
      "text/html": "<div>\n<style scoped>\n    .dataframe tbody tr th:only-of-type {\n        vertical-align: middle;\n    }\n\n    .dataframe tbody tr th {\n        vertical-align: top;\n    }\n\n    .dataframe thead th {\n        text-align: right;\n    }\n</style>\n<table border=\"1\" class=\"dataframe\">\n  <thead>\n    <tr style=\"text-align: right;\">\n      <th></th>\n      <th>id</th>\n      <th>titulo</th>\n      <th>clean</th>\n    </tr>\n  </thead>\n  <tbody>\n    <tr>\n      <th>0</th>\n      <td>104124422364023</td>\n      <td>Exploiting photo location and direction for cl...</td>\n      <td>exploiting photo location and direction for cl...</td>\n    </tr>\n    <tr>\n      <th>1</th>\n      <td>105670521813027</td>\n      <td>Gene expression analysis in &lt;i&gt;Musa acuminata&lt;...</td>\n      <td>gene expression analysis in musa acuminata dur...</td>\n    </tr>\n    <tr>\n      <th>2</th>\n      <td>109837868064895</td>\n      <td>A study of equivalent electrical circuit fitti...</td>\n      <td>a study of equivalent electrical circuit fitti...</td>\n    </tr>\n    <tr>\n      <th>3</th>\n      <td>116792663386170</td>\n      <td>DYNAMICS OF CONNECTED VESSELS WITH RUNAWAY REA...</td>\n      <td>dynamics of connected vessels with runaway rea...</td>\n    </tr>\n    <tr>\n      <th>4</th>\n      <td>117460865270656</td>\n      <td>YBS heuristic for routing and spectrum allocat...</td>\n      <td>ybs heuristic for routing and spectrum allocat...</td>\n    </tr>\n    <tr>\n      <th>...</th>\n      <td>...</td>\n      <td>...</td>\n      <td>...</td>\n    </tr>\n    <tr>\n      <th>3050</th>\n      <td>9976045320641172</td>\n      <td>Retrieving 2D shapes by similarity based on ba...</td>\n      <td>retrieving 2d shapes by similarity based on ba...</td>\n    </tr>\n    <tr>\n      <th>3051</th>\n      <td>9981634193003068</td>\n      <td>Spatiotemporal Data Representation in R PostGI...</td>\n      <td>spatiotemporal data representation in r postgi...</td>\n    </tr>\n    <tr>\n      <th>3052</th>\n      <td>9990463602315076</td>\n      <td>An Interactive Tool for the Synthesis of Conso...</td>\n      <td>an interactive tool for the synthesis of conso...</td>\n    </tr>\n    <tr>\n      <th>3053</th>\n      <td>9997398594109675</td>\n      <td>A sentence a day: how to engage students in a ...</td>\n      <td>a sentence a day how to engage students in a d...</td>\n    </tr>\n    <tr>\n      <th>3054</th>\n      <td>9997641567631872</td>\n      <td>An Airspace Capacity-Based Safety Assessment M...</td>\n      <td>an airspace capacity based safety assessment m...</td>\n    </tr>\n  </tbody>\n</table>\n<p>3055 rows × 3 columns</p>\n</div>"
     },
     "metadata": {},
     "execution_count": 5
    }
   ],
   "source": [
    "df.insert(2, 'clean', df['titulo'])\n",
    "\n",
    "def decode_html(doc):\n",
    "    decoded = html.unescape(doc)\n",
    "    return decoded\n",
    "\n",
    "def strip_html(doc):\n",
    "    soup = BeautifulSoup(doc, \"html.parser\")\n",
    "    return soup.get_text()\n",
    "\n",
    "def remove_separation(doc):\n",
    "    table = doc.maketrans('-/', '  ')\n",
    "    return doc.translate(table)\n",
    "\n",
    "def strip_ponct(doc):\n",
    "    table = str.maketrans({key: None for key in string.punctuation})\n",
    "    return doc.translate(table)\n",
    "\n",
    "def normaliza(doc):\n",
    "    doc = decode_html(doc)\n",
    "    doc = strip_html(doc)\n",
    "    doc = remove_separation(doc)\n",
    "    doc = strip_ponct(doc)\n",
    "    doc = doc.lower()\n",
    "    return doc\n",
    "\n",
    "t = time()\n",
    "df['clean'] = df['clean'].apply(normaliza)\n",
    "print('Normalization Time: {} mins'.format(round((time() - t) / 60, 2)))\n",
    "df"
   ]
  },
  {
   "cell_type": "markdown",
   "metadata": {},
   "source": [
    "### Detect language (experimental)"
   ]
  },
  {
   "cell_type": "code",
   "execution_count": 6,
   "metadata": {},
   "outputs": [
    {
     "output_type": "stream",
     "name": "stdout",
     "text": "(2984, 3) docs shape [concat]\n"
    }
   ],
   "source": [
    "def detect_language(doc):\n",
    "    lang, log_prob = langid.classify(doc)\n",
    "    if lang != 'en':\n",
    "        return np.nan\n",
    "    return doc\n",
    "\n",
    "df['clean'] = df['clean'].apply(detect_language)\n",
    "df.dropna(inplace=True)\n",
    "df.reset_index(inplace=True, drop=True)\n",
    "print('{} docs shape [concat]'.format(df.shape))"
   ]
  },
  {
   "cell_type": "markdown",
   "metadata": {},
   "source": [
    "### Stopwords / Lemma"
   ]
  },
  {
   "cell_type": "code",
   "execution_count": 7,
   "metadata": {},
   "outputs": [
    {
     "output_type": "stream",
     "name": "stdout",
     "text": "Pre Procces Time: 0.05 mins\n"
    },
    {
     "output_type": "execute_result",
     "data": {
      "text/plain": "                id                                             titulo  \\\n0  104124422364023  Exploiting photo location and direction for cl...   \n1  105670521813027  Gene expression analysis in <i>Musa acuminata<...   \n2  109837868064895  A study of equivalent electrical circuit fitti...   \n3  116792663386170  DYNAMICS OF CONNECTED VESSELS WITH RUNAWAY REA...   \n4  117460865270656  YBS heuristic for routing and spectrum allocat...   \n5  120615995402345  Efficient and Modular Consensus-Free Reconfigu...   \n6  122307432250869  Quaternion-based Deep Belief Networks Fine-Tun...   \n7  122321907341579  A Brazilian look at occupational health and sa...   \n8  122916218414168  IoT Applied To Precision LABCONM: A Remote Lab...   \n9  125036186628507  Self-Adaptive Role-Based Access Control for Bu...   \n\n                                               clean  \n0  [exploit, photo, locat, direct, cluster, base,...  \n1  [gene, express, analysi, musa, acuminata, comp...  \n2  [studi, equival, electr, circuit, fit, electro...  \n3  [dynam, connect, vessel, runaway, reaction, ri...  \n4  [ybs, heurist, rout, spectrum, alloc, flexibl,...  \n5  [effici, modular, consensus, free, reconfigur,...  \n6  [quaternion, base, deep, belief, network, fine...  \n7  [brazilian, look, occup, health, safeti, usa, ...  \n8  [iot, appli, precis, labconm, remot, lab, lear...  \n9  [self, adapt, role, base, access, control, bus...  ",
      "text/html": "<div>\n<style scoped>\n    .dataframe tbody tr th:only-of-type {\n        vertical-align: middle;\n    }\n\n    .dataframe tbody tr th {\n        vertical-align: top;\n    }\n\n    .dataframe thead th {\n        text-align: right;\n    }\n</style>\n<table border=\"1\" class=\"dataframe\">\n  <thead>\n    <tr style=\"text-align: right;\">\n      <th></th>\n      <th>id</th>\n      <th>titulo</th>\n      <th>clean</th>\n    </tr>\n  </thead>\n  <tbody>\n    <tr>\n      <th>0</th>\n      <td>104124422364023</td>\n      <td>Exploiting photo location and direction for cl...</td>\n      <td>[exploit, photo, locat, direct, cluster, base,...</td>\n    </tr>\n    <tr>\n      <th>1</th>\n      <td>105670521813027</td>\n      <td>Gene expression analysis in &lt;i&gt;Musa acuminata&lt;...</td>\n      <td>[gene, express, analysi, musa, acuminata, comp...</td>\n    </tr>\n    <tr>\n      <th>2</th>\n      <td>109837868064895</td>\n      <td>A study of equivalent electrical circuit fitti...</td>\n      <td>[studi, equival, electr, circuit, fit, electro...</td>\n    </tr>\n    <tr>\n      <th>3</th>\n      <td>116792663386170</td>\n      <td>DYNAMICS OF CONNECTED VESSELS WITH RUNAWAY REA...</td>\n      <td>[dynam, connect, vessel, runaway, reaction, ri...</td>\n    </tr>\n    <tr>\n      <th>4</th>\n      <td>117460865270656</td>\n      <td>YBS heuristic for routing and spectrum allocat...</td>\n      <td>[ybs, heurist, rout, spectrum, alloc, flexibl,...</td>\n    </tr>\n    <tr>\n      <th>5</th>\n      <td>120615995402345</td>\n      <td>Efficient and Modular Consensus-Free Reconfigu...</td>\n      <td>[effici, modular, consensus, free, reconfigur,...</td>\n    </tr>\n    <tr>\n      <th>6</th>\n      <td>122307432250869</td>\n      <td>Quaternion-based Deep Belief Networks Fine-Tun...</td>\n      <td>[quaternion, base, deep, belief, network, fine...</td>\n    </tr>\n    <tr>\n      <th>7</th>\n      <td>122321907341579</td>\n      <td>A Brazilian look at occupational health and sa...</td>\n      <td>[brazilian, look, occup, health, safeti, usa, ...</td>\n    </tr>\n    <tr>\n      <th>8</th>\n      <td>122916218414168</td>\n      <td>IoT Applied To Precision LABCONM: A Remote Lab...</td>\n      <td>[iot, appli, precis, labconm, remot, lab, lear...</td>\n    </tr>\n    <tr>\n      <th>9</th>\n      <td>125036186628507</td>\n      <td>Self-Adaptive Role-Based Access Control for Bu...</td>\n      <td>[self, adapt, role, base, access, control, bus...</td>\n    </tr>\n  </tbody>\n</table>\n</div>"
     },
     "metadata": {},
     "execution_count": 7
    }
   ],
   "source": [
    "def remove_stopwords(doc, stop_words=DEFAULT_STOPWORDS):\n",
    "    words = [w for w in doc if not w in stop_words]\n",
    "    return words\n",
    "\n",
    "def stem_text(doc, stemmer=DEFAULT_STEMMER):\n",
    "    words = [stemmer.stem(w) for w in doc]\n",
    "    return words\n",
    "\n",
    "def preprocess(doc):\n",
    "    doc = word_tokenize(doc)\n",
    "    doc = remove_stopwords(doc)\n",
    "    doc = stem_text(doc)\n",
    "    doc = [w for w in doc if len(w) > 1]\n",
    "    return doc\n",
    "\n",
    "t = time()\n",
    "df['clean'] = df['clean'].apply(preprocess)\n",
    "print('Pre Procces Time: {} mins'.format(round((time() - t) / 60, 2)))\n",
    "df.head(10)"
   ]
  },
  {
   "cell_type": "markdown",
   "metadata": {},
   "source": [
    "### Remove Noise"
   ]
  },
  {
   "cell_type": "code",
   "execution_count": 8,
   "metadata": {},
   "outputs": [
    {
     "output_type": "stream",
     "name": "stdout",
     "text": "Remove Noise Time: 0.0 mins\n"
    }
   ],
   "source": [
    "noise_file = open('{}/extra/noise.txt'.format(DATA_PATH),'r')\n",
    "noise = noise_file.read().splitlines()\n",
    "\n",
    "def remove_noise(doc):\n",
    "    words = [w for w in doc if not w in noise]\n",
    "    return words\n",
    "\n",
    "t = time()\n",
    "df['clean'] = df['clean'].apply(remove_noise)\n",
    "\n",
    "# Destokenizar\n",
    "df['clean'] = df['clean'].apply(lambda x: ' '.join(x))\n",
    "\n",
    "print('Remove Noise Time: {} mins'.format(round((time() - t) / 60, 2)))"
   ]
  },
  {
   "cell_type": "markdown",
   "metadata": {},
   "source": [
    "### Salva CSV"
   ]
  },
  {
   "cell_type": "code",
   "execution_count": 9,
   "metadata": {},
   "outputs": [],
   "source": [
    "path = '{}/'.format(DATA_PATH)\n",
    "Path(path).mkdir(exist_ok=True)\n",
    "\n",
    "pre_file = '{}/{}lattesPre.txt'.format(DATA_PATH, SELECT_YEAR)\n",
    "ida_file = '{}/{}authors.csv.xz'.format(DATA_PATH, SELECT_YEAR)\n",
    "\n",
    "df.to_csv(ida_file, index=None, header=False, compression='xz', columns=['id'])\n",
    "df.to_csv(pre_file, index=None, header=False, columns=['clean'])"
   ]
  },
  {
   "cell_type": "code",
   "execution_count": null,
   "metadata": {},
   "outputs": [],
   "source": []
  }
 ],
 "metadata": {
  "kernelspec": {
   "display_name": "Python 3.8.2 64-bit ('.venv': venv)",
   "language": "python",
   "name": "python38264bitvenvvenv2bbc39647f214cc383d5c83f858d10a1"
  },
  "language_info": {
   "codemirror_mode": {
    "name": "ipython",
    "version": 3
   },
   "file_extension": ".py",
   "mimetype": "text/x-python",
   "name": "python",
   "nbconvert_exporter": "python",
   "pygments_lexer": "ipython3",
   "version": "3.8.2-final"
  }
 },
 "nbformat": 4,
 "nbformat_minor": 4
}