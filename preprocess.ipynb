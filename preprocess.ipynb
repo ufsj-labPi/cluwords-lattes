{
 "cells": [
  {
   "cell_type": "code",
   "execution_count": 1,
   "metadata": {},
   "outputs": [],
   "source": [
    "import pandas as pd\n",
    "import csv, re, html\n",
    "from nltk.corpus import stopwords"
   ]
  },
  {
   "cell_type": "code",
   "execution_count": 2,
   "metadata": {},
   "outputs": [],
   "source": [
    "papers_file = './data/papers_22072019.csv.xz'\n",
    "works_file  = './data/works_22072019.csv.xz'"
   ]
  },
  {
   "cell_type": "markdown",
   "metadata": {},
   "source": [
    "## Abrindo Artigos e Trabalhos"
   ]
  },
  {
   "cell_type": "code",
   "execution_count": 3,
   "metadata": {},
   "outputs": [],
   "source": [
    "df_papers = pd.read_csv(papers_file, sep='|', compression='xz')\n",
    "df_papers.drop(df_papers.loc[df_papers['idioma']=='Português'].index, inplace=True)\n",
    "df_papers.drop(['id_doc','autores_cnpq','autores','idioma','revista','natureza'], axis=1, inplace=True)\n",
    "df_papers.dropna(inplace=True)"
   ]
  },
  {
   "cell_type": "code",
   "execution_count": 4,
   "metadata": {},
   "outputs": [],
   "source": [
    "df_works = pd.read_csv(works_file, sep='|', compression='xz')\n",
    "df_works.drop(df_works.loc[df_works['idioma']=='Português'].index, inplace=True)\n",
    "df_works.drop(['id_doc','autores_cnpq','autores','idioma','anais','natureza'], axis=1, inplace=True)\n",
    "df_works.dropna(inplace=True)"
   ]
  },
  {
   "cell_type": "code",
   "execution_count": 5,
   "metadata": {},
   "outputs": [],
   "source": [
    "del [papers_file, works_file]"
   ]
  },
  {
   "cell_type": "markdown",
   "metadata": {},
   "source": [
    "## Concatenando Dataframe"
   ]
  },
  {
   "cell_type": "code",
   "execution_count": 6,
   "metadata": {},
   "outputs": [],
   "source": [
    "frames = [df_papers, df_works]\n",
    "df_lattes = pd.concat(frames)\n",
    "df_lattes.sort_values(by=['id','ano'], ignore_index=True, inplace=True)"
   ]
  },
  {
   "cell_type": "code",
   "execution_count": 7,
   "metadata": {},
   "outputs": [],
   "source": [
    "del [frames, df_papers, df_works]"
   ]
  },
  {
   "cell_type": "markdown",
   "metadata": {},
   "source": [
    "## Seleciona Ano"
   ]
  },
  {
   "cell_type": "code",
   "execution_count": 8,
   "metadata": {},
   "outputs": [
    {
     "output_type": "execute_result",
     "data": {
      "text/plain": "(186728, 3)"
     },
     "metadata": {},
     "execution_count": 8
    }
   ],
   "source": [
    "df_lattes.drop(df_lattes.loc[~df_lattes['ano'].astype(str).str.isnumeric()].index, inplace=True)\n",
    "df_lattes['ano'] = df_lattes['ano'].astype(int)\n",
    "df_lattes.shape\n"
   ]
  },
  {
   "cell_type": "code",
   "execution_count": 9,
   "metadata": {},
   "outputs": [
    {
     "output_type": "execute_result",
     "data": {
      "text/plain": "<bound method PlotAccessor.bar of <pandas.plotting._core.PlotAccessor object at 0x7f2768d97c40>>"
     },
     "metadata": {},
     "execution_count": 9
    }
   ],
   "source": [
    "ano_docs = df_lattes['ano'].value_counts().sort_index(ascending=False).head(19)\n",
    "ano_docs.plot.bar"
   ]
  },
  {
   "cell_type": "code",
   "execution_count": 10,
   "metadata": {},
   "outputs": [
    {
     "output_type": "execute_result",
     "data": {
      "text/plain": "(9130, 2)"
     },
     "metadata": {},
     "execution_count": 10
    }
   ],
   "source": [
    "select_year = 2017\n",
    "\n",
    "df_lattes.drop(df_lattes.loc[df_lattes['ano']!=select_year].index, inplace=True)\n",
    "df_lattes.drop(['ano'], axis=1, inplace=True)\n",
    "df_lattes.sort_values(by=['id'], ignore_index=True, inplace=True)\n",
    "df_lattes.shape"
   ]
  },
  {
   "cell_type": "markdown",
   "metadata": {},
   "source": [
    "## Remove Tags HTML"
   ]
  },
  {
   "cell_type": "code",
   "execution_count": 11,
   "metadata": {},
   "outputs": [],
   "source": [
    "def decode_html(text):\n",
    "    decoded = html.unescape(text)\n",
    "    return decoded\n",
    "\n",
    "def remove_tags1(text):\n",
    "    clean = re.compile(r'(<!--.*?-->|<[^>]*>)')\n",
    "    cleantext = re.sub(clean, '', text)\n",
    "    return cleantext\n",
    "\n",
    "def remove_tags2(text):\n",
    "    clean = re.compile('{.*?}')\n",
    "    cleantext = re.sub(clean, '', text)\n",
    "    return cleantext\n",
    "\n",
    "df_lattes['titulo'] = df_lattes['titulo'].apply(decode_html)\n",
    "df_lattes['titulo'] = df_lattes['titulo'].apply(remove_tags1)\n",
    "#df_lattes['titulo'] = df_lattes['titulo'].apply(remove_tags2)"
   ]
  },
  {
   "cell_type": "markdown",
   "metadata": {},
   "source": [
    "## Remove Stopwords"
   ]
  },
  {
   "cell_type": "code",
   "execution_count": 12,
   "metadata": {},
   "outputs": [],
   "source": [
    "sw = stopwords.words('english')\n",
    "sw_extra_file = open('./data/stopwords_extra.txt','r')\n",
    "sw_extra = sw_extra_file.read().splitlines()\n",
    "\n",
    "def stopwords(text):\n",
    "    text = [word.lower() for word in text.split() if word.lower() not in sw]\n",
    "    return \" \".join(text)\n",
    "\n",
    "def stopwords_extra(text):\n",
    "    new_title = []\n",
    "    for word in text:\n",
    "        if word not in sw_extra:\n",
    "            new_title.append(word)\n",
    "    return new_title\n",
    "\n",
    "df_lattes['titulo'] = df_lattes['titulo'].apply(stopwords)\n",
    "#df_lattes['titulo'] = df_lattes['titulo'].apply(stopwords_extra)\n",
    "df_lattes.dropna(inplace=True)"
   ]
  },
  {
   "cell_type": "markdown",
   "metadata": {},
   "source": [
    "## Remove Pontuação"
   ]
  },
  {
   "cell_type": "code",
   "execution_count": 13,
   "metadata": {},
   "outputs": [],
   "source": [
    "def remove_punctuation(text):\n",
    "    delete  = '\":()!,;$?\\''\n",
    "    table = text.maketrans('', '', delete)\n",
    "    return text.translate(table)\n",
    "\n",
    "df_lattes['titulo'] = df_lattes['titulo'].apply(remove_punctuation)"
   ]
  },
  {
   "cell_type": "markdown",
   "metadata": {},
   "source": [
    "## Remove Noise"
   ]
  },
  {
   "cell_type": "code",
   "execution_count": 14,
   "metadata": {},
   "outputs": [],
   "source": [
    "def remove_spaces(text):\n",
    "    return \" \".join(text.split())\n",
    "\n",
    "df_lattes['titulo'] = df_lattes['titulo'].apply(remove_spaces)"
   ]
  },
  {
   "cell_type": "markdown",
   "metadata": {},
   "source": [
    "## Salva CSV"
   ]
  },
  {
   "cell_type": "code",
   "execution_count": 15,
   "metadata": {},
   "outputs": [
    {
     "output_type": "execute_result",
     "data": {
      "text/plain": "0"
     },
     "metadata": {},
     "execution_count": 15
    }
   ],
   "source": [
    "out_file = './data/out/preprocess.csv.xz'\n",
    "dev_file = './data/out/preprocess.csv'\n",
    "df_lattes.isnull().any().sum()\n",
    "#df_lattes.to_csv(out_file, header=None, index=None, compression='xz')\n",
    "#df_lattes.to_csv(dev_file, header=None, index=None)"
   ]
  },
  {
   "cell_type": "code",
   "execution_count": null,
   "metadata": {},
   "outputs": [],
   "source": []
  }
 ],
 "metadata": {
  "kernelspec": {
   "display_name": "Python 3.8.2 64-bit ('.venv': venv)",
   "language": "python",
   "name": "python38264bitvenvvenv2bbc39647f214cc383d5c83f858d10a1"
  },
  "language_info": {
   "codemirror_mode": {
    "name": "ipython",
    "version": 3
   },
   "file_extension": ".py",
   "mimetype": "text/x-python",
   "name": "python",
   "nbconvert_exporter": "python",
   "pygments_lexer": "ipython3",
   "version": "3.8.2-final"
  }
 },
 "nbformat": 4,
 "nbformat_minor": 4
}