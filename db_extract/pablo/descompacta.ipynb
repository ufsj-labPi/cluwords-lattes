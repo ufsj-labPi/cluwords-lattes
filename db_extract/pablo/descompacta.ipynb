{
 "cells": [
  {
   "cell_type": "code",
   "execution_count": 1,
   "metadata": {},
   "outputs": [],
   "source": [
    "import os\n",
    "import glob\n",
    "import zipfile\n",
    "\n",
    "from IPython.display import clear_output\n",
    "\n",
    "BASE_DIR = '/home/pablo/base-lattes/Collection'"
   ]
  },
  {
   "cell_type": "code",
   "execution_count": 2,
   "metadata": {},
   "outputs": [
    {
     "name": "stdout",
     "output_type": "stream",
     "text": [
      "Arquivos ZIP Lattes: 3055\n"
     ]
    }
   ],
   "source": [
    "files_list = glob.glob(\"{}/00/*.zip\".format(BASE_DIR))\n",
    "\n",
    "n_files = len(files_list)\n",
    "print('Arquivos ZIP Lattes: {}'.format(n_files))"
   ]
  },
  {
   "cell_type": "code",
   "execution_count": 3,
   "metadata": {},
   "outputs": [
    {
     "name": "stdout",
     "output_type": "stream",
     "text": [
      "Processando... 1e+02%\n"
     ]
    }
   ],
   "source": [
    "for idx, file in enumerate(files_list):\n",
    "    \n",
    "    path = file[0:38]\n",
    "    \n",
    "    with zipfile.ZipFile(file) as zf:\n",
    "        zf.extractall(path)\n",
    "        os.rename(path + 'curriculo.xml', path + file[38:-4] + '.xml')\n",
    "        os.remove(file)\n",
    "        \n",
    "    clear_output(wait=True)\n",
    "    print('Processando... {:.2f}%'.format(idx * 100 / n_files))"
   ]
  },
  {
   "cell_type": "code",
   "execution_count": null,
   "metadata": {},
   "outputs": [],
   "source": []
  }
 ],
 "metadata": {
  "kernelspec": {
   "display_name": "Python 3",
   "language": "python",
   "name": "python3"
  },
  "language_info": {
   "codemirror_mode": {
    "name": "ipython",
    "version": 3
   },
   "file_extension": ".py",
   "mimetype": "text/x-python",
   "name": "python",
   "nbconvert_exporter": "python",
   "pygments_lexer": "ipython3",
   "version": "3.6.9"
  }
 },
 "nbformat": 4,
 "nbformat_minor": 4
}
