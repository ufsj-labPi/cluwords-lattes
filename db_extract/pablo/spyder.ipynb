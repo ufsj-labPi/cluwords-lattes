{
 "cells": [
  {
   "cell_type": "code",
   "execution_count": null,
   "metadata": {},
   "outputs": [],
   "source": [
    "import scrapy"
   ]
  },
  {
   "cell_type": "code",
   "execution_count": null,
   "metadata": {},
   "outputs": [],
   "source": [
    "class LattesSpider(scrapy.Spider):\n",
    "    name = \"curriculos\"\n",
    "\n",
    "    def start_requests(self):\n",
    "        urls = []\n",
    "\n",
    "        for i in range(0,34338,10):\n",
    "            urls.append('http://buscatextual.cnpq.br/buscatextual/busca.do?'+\\\n",
    "                        'metodo=forwardPaginaResultados&registros='+str(i)+\\\n",
    "                        ';10&query=%28+%2Bidx_formacao_academica%3Adoutorado+++++++++++++++'+\\\n",
    "                        '%2Bidx_particao%3A1+%2Bidx_nacionalidade%3Ae%29+or+%28+'+\\\n",
    "                        '%2Bidx_formacao_academica%3Adoutorado+++++++++++++++'+\\\n",
    "                        '%2Bidx_particao%3A1+%2Bidx_nacionalidade%3Ab+%5E500+'+\\\n",
    "                        '%29&analise=cv&tipoOrdenacao=null&paginaOrigem=index.do&'+\\\n",
    "                        'mostrarScore=false&mostrarBandeira=true&modoIndAdhoc=null')\n",
    "\n",
    "        for url in urls:\n",
    "            yield scrapy.Request(url=url, callback=self.parse)\n",
    "\n",
    "    def parse(self, response):\n",
    "\n",
    "        for resultado in response.css('div.resultado li'):\n",
    "            \n",
    "            NAME_SELECTOR = 'a ::text'\n",
    "            ID10_SELECTOR = 'a::attr(href)'\n",
    "            INFO_SELECTOR = 'li ::text'\n",
    "            \n",
    "            json_saida = {\n",
    "                'nome': resultado.css(NAME_SELECTOR).get(),\n",
    "                'ID10': (resultado.css(ID10_SELECTOR).re(r\"\\('\\w+\"))[0][2:],\n",
    "                'info': (resultado.css(INFO_SELECTOR).getall())[2],\n",
    "            }\n",
    "\n",
    "            with open('lattes_spider.csv','a') as f:\n",
    "                f.write('\"'+json_saida['nome']+'\";\"'+json_saida['ID10']+'\";\"'+json_saida['info']+'\"\\n')\n",
    "\n",
    "            yield json_saida"
   ]
  }
 ],
 "metadata": {
  "language_info": {
   "codemirror_mode": {
    "name": "ipython",
    "version": 3
   },
   "file_extension": ".py",
   "mimetype": "text/x-python",
   "name": "python",
   "nbconvert_exporter": "python",
   "pygments_lexer": "ipython3",
   "version": 3
  },
  "orig_nbformat": 2
 },
 "nbformat": 4,
 "nbformat_minor": 2
}