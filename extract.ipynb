{
 "cells": [
  {
   "cell_type": "code",
   "execution_count": 65,
   "metadata": {},
   "outputs": [],
   "source": [
    "import xmltodict\n",
    "import pandas as pd\n",
    "import copy\n",
    "import csv\n",
    "import os\n",
    "import langid\n",
    "import multiprocessing\n",
    "BASE_DIR = '/home/antonio/lattes_base/Collection'"
   ]
  },
  {
   "cell_type": "code",
   "execution_count": 2,
   "metadata": {},
   "outputs": [],
   "source": [
    "def get_author(doc):\n",
    "    author = {}\n",
    "    valid = 0\n",
    "    try :\n",
    "        if(doc['CURRICULO-VITAE']['DADOS-GERAIS']['FORMACAO-ACADEMICA-TITULACAO']['DOUTORADO']['@NOME-CURSO']  == 'Ciências da Computação'):\n",
    "            author_name = doc['CURRICULO-VITAE']['DADOS-GERAIS']['@NOME-EM-CITACOES-BIBLIOGRAFICAS']\n",
    "            author_id = doc['CURRICULO-VITAE']['@NUMERO-IDENTIFICADOR']\n",
    "            author_complete_name = doc['CURRICULO-VITAE']['DADOS-GERAIS']['@NOME-COMPLETO']\n",
    "\n",
    "            author['author_id'] = author_id\n",
    "            author['author_name'] = author_complete_name\n",
    "            author['author_ref'] = author_name\n",
    "            artigos = doc['CURRICULO-VITAE']['PRODUCAO-BIBLIOGRAFICA']['ARTIGOS-PUBLICADOS']['ARTIGO-PUBLICADO']\n",
    "            for artigo in artigos:\n",
    "                lang, log_prob = langid.classify(artigo['DADOS-BASICOS-DO-ARTIGO']['@TITULO-DO-ARTIGO'])\n",
    "                if(artigo['DADOS-BASICOS-DO-ARTIGO']['@IDIOMA'] == \"Inglês\" and lang  == 'en'):\n",
    "                    valid = 1\n",
    "                    author['paper'] = artigo['DADOS-BASICOS-DO-ARTIGO']['@TITULO-DO-ARTIGO']\n",
    "                    author['paper_issn'] = artigo['DETALHAMENTO-DO-ARTIGO']['@ISSN']\n",
    "                    author['paper_ano'] = artigo['DADOS-BASICOS-DO-ARTIGO']['@ANO-DO-ARTIGO']\n",
    "                    author['paper_home_page'] = artigo['DADOS-BASICOS-DO-ARTIGO']['@HOME-PAGE-DO-TRABALHO']       \n",
    "                    string = ''\n",
    "                    for autores in artigo['AUTORES']:     \n",
    "                        string += 'ordem: ' + autores['@ORDEM-DE-AUTORIA'] + '\\n'\n",
    "                        string += 'name: ' + autores['@NOME-COMPLETO-DO-AUTOR'] + '\\n'\n",
    "                        string += 'name_ref ' + autores['@NOME-PARA-CITACAO']  + '\\n'\n",
    "                    author['coauthors'] = string\n",
    "    except:\n",
    "        pass\n",
    "    if valid == 1:\n",
    "        return author\n",
    "    return None"
   ]
  },
  {
   "cell_type": "code",
   "execution_count": 3,
   "metadata": {},
   "outputs": [],
   "source": [
    "def worker(files, return_num, return_dict):\n",
    "    authors = []\n",
    "    for file in files:\n",
    "        with open(file + '/curriculo.xml', encoding=\"ISO-8859-1\") as fd:\n",
    "            doc = xmltodict.parse(fd.read())\n",
    "        authors.append(get_author(doc))\n",
    "    return_dict[return_num] = authors"
   ]
  },
  {
   "cell_type": "markdown",
   "metadata": {},
   "source": [
    "### get all files"
   ]
  },
  {
   "cell_type": "code",
   "execution_count": 4,
   "metadata": {},
   "outputs": [],
   "source": [
    "files_list = []\n",
    "\n",
    "for folder in os.listdir(BASE_DIR):\n",
    "    path = os.path.join(BASE_DIR, folder)\n",
    "    if(os.path.isdir(path) == True and not folder.startswith('.')):\n",
    "        for files in os.listdir(path):\n",
    "            if not files.startswith('.'):\n",
    "                file = os.path.join(path, files)\n",
    "                files_list.append(file)\n"
   ]
  },
  {
   "cell_type": "markdown",
   "metadata": {},
   "source": [
    "### Define tasks"
   ]
  },
  {
   "cell_type": "code",
   "execution_count": null,
   "metadata": {},
   "outputs": [],
   "source": [
    "n_threads = 4\n",
    "n_data = len(files_list)\n",
    "if(n_data%n_threads == 0):\n",
    "        division = int(n_data/n_threads)\n",
    "else:\n",
    "    division = int(n_data/n_threads)+1\n",
    "    \n",
    "manager = multiprocessing.Manager()\n",
    "return_dict = manager.dict()\n",
    "jobs = []\n",
    "for i in range(n_threads):\n",
    "    init = i*division\n",
    "    end = (i+1)*division\n",
    "    p = multiprocessing.Process(target=worker, args=(files_list[init:end], i, return_dict))\n",
    "    jobs.append(p)\n",
    "    p.start()\n",
    "\n",
    "for proc in jobs:\n",
    "    proc.join()"
   ]
  },
  {
   "cell_type": "markdown",
   "metadata": {},
   "source": [
    "### Generate dataframe and save"
   ]
  },
  {
   "cell_type": "code",
   "execution_count": 63,
   "metadata": {},
   "outputs": [],
   "source": [
    "values = []\n",
    "for value in return_dict.values():\n",
    "    for item in value:\n",
    "        if item:\n",
    "            values.append(item)"
   ]
  },
  {
   "cell_type": "code",
   "execution_count": 66,
   "metadata": {},
   "outputs": [],
   "source": [
    "df = pd.DataFrame(values)"
   ]
  },
  {
   "cell_type": "code",
   "execution_count": 70,
   "metadata": {},
   "outputs": [
    {
     "data": {
      "text/plain": [
       "(457, 8)"
      ]
     },
     "execution_count": 70,
     "metadata": {},
     "output_type": "execute_result"
    }
   ],
   "source": [
    "df.shape"
   ]
  },
  {
   "cell_type": "code",
   "execution_count": 68,
   "metadata": {},
   "outputs": [],
   "source": [
    "df.to_csv('data.csv', sep='|')"
   ]
  },
  {
   "cell_type": "code",
   "execution_count": null,
   "metadata": {},
   "outputs": [],
   "source": [
    "'''author = {}\n",
    "author_inf = {}\n",
    "\n",
    "author_name = doc['CURRICULO-VITAE']['DADOS-GERAIS']['@NOME-EM-CITACOES-BIBLIOGRAFICAS']\n",
    "author_id = doc['CURRICULO-VITAE']['@NUMERO-IDENTIFICADOR']\n",
    "author_complete_name = doc['CURRICULO-VITAE']['DADOS-GERAIS']['@NOME-COMPLETO']\n",
    "\n",
    "author_inf['id'] = author_id\n",
    "author_inf['name'] = author_complete_name\n",
    "author_inf['ref_name'] = author_name\n",
    "author['informacoes'] = author_inf\n",
    "\n",
    "artigos = doc['CURRICULO-VITAE']['PRODUCAO-BIBLIOGRAFICA']['ARTIGOS-PUBLICADOS']['ARTIGO-PUBLICADO']\n",
    "pub = []\n",
    "for artigo in artigos:\n",
    "    if(artigo['DADOS-BASICOS-DO-ARTIGO']['@IDIOMA'] == \"Inglês\"):\n",
    "        paper = {}\n",
    "        paper['titulo'] = artigo['DADOS-BASICOS-DO-ARTIGO']['@TITULO-DO-ARTIGO']\n",
    "        paper['issn'] = artigo['DETALHAMENTO-DO-ARTIGO']['@ISSN']\n",
    "        paper['ano'] = artigo['DADOS-BASICOS-DO-ARTIGO']['@ANO-DO-ARTIGO']\n",
    "        paper['home_page'] = artigo['DADOS-BASICOS-DO-ARTIGO']['@HOME-PAGE-DO-TRABALHO']       \n",
    "        \n",
    "        \n",
    "        #print(artigo['DADOS-BASICOS-DO-ARTIGO']['@TITULO-DO-ARTIGO'])\n",
    "        #print(artigo['DETALHAMENTO-DO-ARTIGO']['@ISSN'])\n",
    "        #print(artigo['DADOS-BASICOS-DO-ARTIGO']['@HOME-PAGE-DO-TRABALHO'])\n",
    "        #print(artigo['DADOS-BASICOS-DO-ARTIGO']['@ANO-DO-ARTIGO'])\n",
    "        #authors = []\n",
    "        #authors_inf = {}\n",
    "        #for autores in artigo['AUTORES']:            \n",
    "        #    authors_inf['nome'] = autores['@NOME-COMPLETO-DO-AUTOR']\n",
    "        #    authors_inf['name_ref']  = autores['@NOME-PARA-CITACAO']\n",
    "        #    authors_inf['ordem'] = autores['@ORDEM-DE-AUTORIA']\n",
    "            #authors[autores['@NOME-PARA-CITACAO']] = autors_inf.copy()\n",
    "        #    authors.append(copy.deepcopy(authors_inf))\n",
    "            \n",
    "            #print(autores['@NOME-COMPLETO-DO-AUTOR'])\n",
    "            #print(autores['@NOME-PARA-CITACAO'])\n",
    "            #print(autores['@ORDEM-DE-AUTORIA'])\n",
    "            \n",
    "        #paper['autores'] = copy.deepcopy(authors)\n",
    "        pub.append(copy.deepcopy(paper))\n",
    "        print('\\n\\n')\n",
    "author['artigos'] = pub[:]'''"
   ]
  }
 ],
 "metadata": {
  "kernelspec": {
   "display_name": "Python 3",
   "language": "python",
   "name": "python3"
  },
  "language_info": {
   "codemirror_mode": {
    "name": "ipython",
    "version": 3
   },
   "file_extension": ".py",
   "mimetype": "text/x-python",
   "name": "python",
   "nbconvert_exporter": "python",
   "pygments_lexer": "ipython3",
   "version": "3.6.9"
  }
 },
 "nbformat": 4,
 "nbformat_minor": 4
}
