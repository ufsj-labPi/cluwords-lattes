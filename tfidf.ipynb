{
 "cells": [
  {
   "cell_type": "code",
   "execution_count": 1,
   "metadata": {},
   "outputs": [],
   "source": [
    "import pandas as pd\n",
    "import numpy as np\n",
    "from itertools import islice\n",
    "\n",
    "from nltk.stem.snowball import SnowballStemmer\n",
    "from sklearn.feature_extraction.text import CountVectorizer\n",
    "from sklearn.feature_extraction.text import TfidfTransformer\n",
    "from sklearn.feature_extraction.text import TfidfVectorizer\n",
    "from sklearn.decomposition import NMF"
   ]
  },
  {
   "cell_type": "code",
   "execution_count": 2,
   "metadata": {},
   "outputs": [],
   "source": [
    "select_year = 2017\n",
    "input = './data/out/%dpreprocess.csv.xz' % select_year"
   ]
  },
  {
   "cell_type": "code",
   "execution_count": 3,
   "metadata": {},
   "outputs": [
    {
     "output_type": "stream",
     "name": "stdout",
     "text": "<class 'pandas.core.frame.DataFrame'>\nRangeIndex: 3055 entries, 0 to 3054\nData columns (total 1 columns):\n #   Column  Non-Null Count  Dtype \n---  ------  --------------  ----- \n 0   titulo  3055 non-null   object\ndtypes: object(1)\nmemory usage: 24.0+ KB\n"
    }
   ],
   "source": [
    "df = pd.read_csv(input, compression='xz')\n",
    "df.info()"
   ]
  },
  {
   "cell_type": "code",
   "execution_count": 4,
   "metadata": {},
   "outputs": [],
   "source": [
    "stemmer = SnowballStemmer(\"english\")\n",
    "df['titulo'] = df['titulo'].map(lambda x: ' '.join([stemmer.stem(y) for y in x.split(' ')]))"
   ]
  },
  {
   "cell_type": "code",
   "execution_count": 5,
   "metadata": {},
   "outputs": [
    {
     "output_type": "execute_result",
     "data": {
      "text/plain": "[('exploit', 1493),\n ('photo', 2942),\n ('locat', 2247),\n ('direct', 1194),\n ('bas', 393),\n ('discoveri', 1205),\n ('gold', 1744),\n ('standard', 3753),\n ('social', 3652),\n ('media', 2372),\n ('corpus', 918),\n ('urban', 4130),\n ('issu', 2097),\n ('framework', 1644),\n ('spatial', 3708),\n ('analyt', 189),\n ('use', 4139),\n ('heterogen', 1822),\n ('data', 1005),\n ('sourc', 3690)]"
     },
     "metadata": {},
     "execution_count": 5
    }
   ],
   "source": [
    "# Initialize the vectorizer with new settings and check the new vocabulary length\n",
    "cvec = CountVectorizer(stop_words='english', min_df=.0010, max_df=.5, ngram_range=(1,2))\n",
    "cvec.fit(df['titulo'])\n",
    "list(islice(cvec.vocabulary_.items(), 20))\n",
    "#len(cvec.vocabulary_)"
   ]
  },
  {
   "cell_type": "code",
   "execution_count": 6,
   "metadata": {},
   "outputs": [
    {
     "output_type": "execute_result",
     "data": {
      "text/plain": "4360"
     },
     "metadata": {},
     "execution_count": 6
    }
   ],
   "source": [
    "len(cvec.vocabulary_)"
   ]
  },
  {
   "cell_type": "code",
   "execution_count": 7,
   "metadata": {},
   "outputs": [
    {
     "output_type": "stream",
     "name": "stdout",
     "text": "sparse matrix shape: (3055, 4360)\nnonzero count: 65589\nsparsity: 0.49%\n"
    }
   ],
   "source": [
    "cvec_counts = cvec.transform(df['titulo'])\n",
    "print('sparse matrix shape:', cvec_counts.shape)\n",
    "print('nonzero count:', cvec_counts.nnz)\n",
    "print('sparsity: %.2f%%' % (100.0 * cvec_counts.nnz / (cvec_counts.shape[0] * cvec_counts.shape[1])))"
   ]
  },
  {
   "cell_type": "code",
   "execution_count": 8,
   "metadata": {},
   "outputs": [
    {
     "output_type": "execute_result",
     "data": {
      "text/plain": "           term  occurrences\n4139        use         1131\n2486      model          856\n2638    network          765\n161     analysi          706\n419        base          636\n1005       data          592\n393         bas          568\n231    approach          522\n3809      studi          472\n121   algorithm          433\n2158      learn          431\n3661    softwar          385\n222      applic          368\n3087    problem          356\n1440      evalu          353\n2411     method          334\n1131     detect          320\n3101    process          308\n2550      multi          299\n2791      optim          296",
      "text/html": "<div>\n<style scoped>\n    .dataframe tbody tr th:only-of-type {\n        vertical-align: middle;\n    }\n\n    .dataframe tbody tr th {\n        vertical-align: top;\n    }\n\n    .dataframe thead th {\n        text-align: right;\n    }\n</style>\n<table border=\"1\" class=\"dataframe\">\n  <thead>\n    <tr style=\"text-align: right;\">\n      <th></th>\n      <th>term</th>\n      <th>occurrences</th>\n    </tr>\n  </thead>\n  <tbody>\n    <tr>\n      <th>4139</th>\n      <td>use</td>\n      <td>1131</td>\n    </tr>\n    <tr>\n      <th>2486</th>\n      <td>model</td>\n      <td>856</td>\n    </tr>\n    <tr>\n      <th>2638</th>\n      <td>network</td>\n      <td>765</td>\n    </tr>\n    <tr>\n      <th>161</th>\n      <td>analysi</td>\n      <td>706</td>\n    </tr>\n    <tr>\n      <th>419</th>\n      <td>base</td>\n      <td>636</td>\n    </tr>\n    <tr>\n      <th>1005</th>\n      <td>data</td>\n      <td>592</td>\n    </tr>\n    <tr>\n      <th>393</th>\n      <td>bas</td>\n      <td>568</td>\n    </tr>\n    <tr>\n      <th>231</th>\n      <td>approach</td>\n      <td>522</td>\n    </tr>\n    <tr>\n      <th>3809</th>\n      <td>studi</td>\n      <td>472</td>\n    </tr>\n    <tr>\n      <th>121</th>\n      <td>algorithm</td>\n      <td>433</td>\n    </tr>\n    <tr>\n      <th>2158</th>\n      <td>learn</td>\n      <td>431</td>\n    </tr>\n    <tr>\n      <th>3661</th>\n      <td>softwar</td>\n      <td>385</td>\n    </tr>\n    <tr>\n      <th>222</th>\n      <td>applic</td>\n      <td>368</td>\n    </tr>\n    <tr>\n      <th>3087</th>\n      <td>problem</td>\n      <td>356</td>\n    </tr>\n    <tr>\n      <th>1440</th>\n      <td>evalu</td>\n      <td>353</td>\n    </tr>\n    <tr>\n      <th>2411</th>\n      <td>method</td>\n      <td>334</td>\n    </tr>\n    <tr>\n      <th>1131</th>\n      <td>detect</td>\n      <td>320</td>\n    </tr>\n    <tr>\n      <th>3101</th>\n      <td>process</td>\n      <td>308</td>\n    </tr>\n    <tr>\n      <th>2550</th>\n      <td>multi</td>\n      <td>299</td>\n    </tr>\n    <tr>\n      <th>2791</th>\n      <td>optim</td>\n      <td>296</td>\n    </tr>\n  </tbody>\n</table>\n</div>"
     },
     "metadata": {},
     "execution_count": 8
    }
   ],
   "source": [
    "occ = np.asarray(cvec_counts.sum(axis=0)).ravel().tolist()\n",
    "counts_df = pd.DataFrame({'term': cvec.get_feature_names(), 'occurrences': occ})\n",
    "counts_df.sort_values(by='occurrences', ascending=False).head(20)"
   ]
  },
  {
   "cell_type": "code",
   "execution_count": 9,
   "metadata": {},
   "outputs": [
    {
     "output_type": "execute_result",
     "data": {
      "text/plain": "<3055x4360 sparse matrix of type '<class 'numpy.float64'>'\n\twith 65589 stored elements in Compressed Sparse Row format>"
     },
     "metadata": {},
     "execution_count": 9
    }
   ],
   "source": [
    "transformer = TfidfTransformer()\n",
    "transformed_weights = transformer.fit_transform(cvec_counts)\n",
    "transformed_weights"
   ]
  },
  {
   "cell_type": "code",
   "execution_count": 10,
   "metadata": {},
   "outputs": [
    {
     "output_type": "stream",
     "name": "stdout",
     "text": "sparse matrix shape: (3055, 4360)\nnonzero count: 65589\nsparsity: 0.49%\n"
    }
   ],
   "source": [
    "weights = np.asarray(transformed_weights.mean(axis=0)).ravel().tolist()\n",
    "weights_df = pd.DataFrame({'term': cvec.get_feature_names(), 'weight': weights})\n",
    "weights_df.sort_values(by='weight', ascending=False).head(20)\n",
    "\n",
    "cvec_counts = cvec.transform(df['titulo'])\n",
    "print('sparse matrix shape:', cvec_counts.shape)\n",
    "print('nonzero count:', cvec_counts.nnz)\n",
    "print('sparsity: %.2f%%' % (100.0 * cvec_counts.nnz / (cvec_counts.shape[0] * cvec_counts.shape[1])))"
   ]
  },
  {
   "cell_type": "code",
   "execution_count": 19,
   "metadata": {},
   "outputs": [
    {
     "output_type": "stream",
     "name": "stdout",
     "text": "Topic 1: statist,social network,human,network,analysi base,approach,network analysi,measur,use,analysi\nTopic 2: code,ecosystem,studi,agil,softwar engin,project,engin,softwar develop,develop,softwar\nTopic 3: schedul problem,rout problem,solv,rout,schedul,heurist,genet algorithm,genet,algorithm,problem\nTopic 4: wireless,mobil,alloc,rout,defin,virtual,optic network,optic,manag,network\nTopic 5: deep,recognit,artifici neural,artifici,classif,convolut neural,convolut,network,neural network,neural\nTopic 6: collabor,machin learn,machin,virtual learn,learn object,educ,virtual,learn environ,environ,learn\nTopic 7: framework,transpar,classif,stream,data stream,big data,open data,big,open,data\nTopic 8: amazon,social network,studi brazilian,urban,activ,public,social,industri,research,brazilian\nTopic 9: framework,forecast,integr,estim,model use,bas model,model driven,driven,model base,model\nTopic 10: larg,threshold,calculus,number,color graph,convex,path,edge,color,graph\nTopic 11: classif,configur,bridg,exploratori studi,studi brazilian,exploratori,sustain,case studi,case,studi\nTopic 12: robot,requir,systemat map,map,systemat review,systemat literatur,literatur review,literatur,review,systemat\nTopic 13: cluster,use wireless,industri,industri wireless,sink,lifetim,sensor network,wireless,wireless sensor,sensor\nTopic 14: evalu use,virtual realiti,estim,evalu,techniqu,mobil,3d,realiti,virtual,use\nTopic 15: perform evalu,privaci,mobil cloud,environ,secur,perform,evalu,cloud comput,comput,cloud\nTopic 16: level,base multi,featur,video,approach base,recognit,function,improv,model base,base\nTopic 17: decis,process improv,requir,goal,use,pattern,process model,busi process,busi,process\nTopic 18: sugarcan,propos,chang,region,river,basin,soil,plant,water,brazil\nTopic 19: distribut algorithm,algorithm,ag,multi ag,learn object,object optim,optim,multi object,multi,object\nTopic 20: context awar,privaci,awar,smart,middlewar,context,secur,internet thing,thing,internet\nTopic 21: sound,experiment,test case,accept,suit,bas test,test suit,impact,softwar test,test\nTopic 22: monitor,realiti,algorithm,augment,bas model,agent bas,bas approach,agent,approach,bas\nTopic 23: interfac,mobil robot,chao,format,identif,autonom,voltag,robot,robust,control\nTopic 24: replic,cor,effect,effici,machin,high,gpu,algorithm,perform,parallel\nTopic 25: predic,tim schedul,tim applic,time seri,seri,schedul,time,real tim,tim,real\nTopic 26: numer,forecast,point,appli,element method,optim algorithm,element,equat,optim,method\nTopic 27: techniqu,program model,programm,educ,integ program,ori program,ori,linear,integ,program\nTopic 28: tool,scrum,mobil,strategi,game teach,educ game,teach,evalu,educ,game\nTopic 29: semant,corefer,corefer annot,languag,corpus,open,annot,approach,text,portugues\nTopic 30: explor,model interact,user,multimod,interact visual,visual impair,impair,tool,interact,visual\nTopic 31: recognit,lung,imag classif,forest,textur,spectral,classif,automat,segment,imag\nTopic 32: use case,dynam softwar,line engin,search bas,line architectur,architectur,softwar product,product line,line,product\nTopic 33: drift,detect use,flow,swarm,correntropi,smell,anomali,communiti,communiti detect,detect\nTopic 34: cardiovascular,diseas,patient,semant framework,framework electron,electron health,health record,electron,record,health\nTopic 35: general,web,creat,treatment,content,collabor,framework,qualiti assess,qualiti,assess\nTopic 36: dynam,use inform,fusion,project,inform technolog,communic,precis,technolog,manag,inform\nTopic 37: flow,finit,finit element,comput,jet,generat,element,memori,format,simul\nTopic 38: captur,fixed point,probabilist,complex decis,decis,descript complex,descript,relat,complex,logic\nTopic 39: similar,individu,fault,diagnosi,fault diagnosi,ensembl,classifi,featur select,featur,select\nTopic 40: activ,design applic,build,assembl,methodolog,languag,synchron,design implement,implement,design\nTopic 41: kinet,stabil,structur predict,correl,protein structur,electron,protein,effect,properti,structur\nTopic 42: uso,brasil,avaliação,da informação,informação,um,uma,para,da,em\nTopic 43: proven,entiti,relat,domain,conceptu,architectur,scientif workflow,workflow,scientif,ontolog\nTopic 44: capac plan,foundat,multipl,build foundat,foundat mde,build,iaa,mde,composit,servic\nTopic 45: capac,risk,releas,minim,releas plan,requir,urban traffic,traffic,urban,plan\nTopic 46: estim,valid,framework,multivari,fuzzi cluster,mobil applic,mobil,cluster,fuzzi,applic\nTopic 47: genome,wid,strain,genom sequenc,genet,associ,cattl,sequenc,gene,genom\nTopic 48: hardwar,3d hevc,video,encod,architectur,effici,low,power,hevc,energi\nTopic 49: self adapt,construct,dynam,implement,self,p2p,effici,data stream,stream,adapt\nTopic 50: rout,autonom vehicl,vehicl use,autonom,strategi,unman aerial,aerial vehicl,aerial,unman,vehicl\n"
    }
   ],
   "source": [
    "#pd.DataFrame(transformed_weights.toarray(), columns=cvec.get_feature_names())\n",
    "\n",
    "nmf = NMF(n_components=50, solver=\"mu\")\n",
    "idx_to_word = np.array(cvec.get_feature_names())\n",
    "W = nmf.fit_transform(transformed_weights)\n",
    "H = nmf.components_\n",
    "\n",
    "for i, topic in enumerate(H):\n",
    "    print(\"Topic {}: {}\".format(i + 1, \",\".join([str(x) for x in idx_to_word[topic.argsort()[-10:]]])))"
   ]
  },
  {
   "cell_type": "code",
   "execution_count": 12,
   "metadata": {},
   "outputs": [
    {
     "output_type": "execute_result",
     "data": {
      "text/plain": "           term    weight\n4139        use  0.025585\n2486      model  0.022534\n2638    network  0.020671\n161     analysi  0.018871\n1005       data  0.017372\n419        base  0.017317\n393         bas  0.015733\n231    approach  0.015379\n2158      learn  0.014275\n3809      studi  0.014010\n121   algorithm  0.013853\n3087    problem  0.012309\n3661    softwar  0.012173\n222      applic  0.011936\n2411     method  0.011685\n1440      evalu  0.011085\n1131     detect  0.010994\n3101    process  0.010858\n1149    develop  0.010656\n814      comput  0.010447",
      "text/html": "<div>\n<style scoped>\n    .dataframe tbody tr th:only-of-type {\n        vertical-align: middle;\n    }\n\n    .dataframe tbody tr th {\n        vertical-align: top;\n    }\n\n    .dataframe thead th {\n        text-align: right;\n    }\n</style>\n<table border=\"1\" class=\"dataframe\">\n  <thead>\n    <tr style=\"text-align: right;\">\n      <th></th>\n      <th>term</th>\n      <th>weight</th>\n    </tr>\n  </thead>\n  <tbody>\n    <tr>\n      <th>4139</th>\n      <td>use</td>\n      <td>0.025585</td>\n    </tr>\n    <tr>\n      <th>2486</th>\n      <td>model</td>\n      <td>0.022534</td>\n    </tr>\n    <tr>\n      <th>2638</th>\n      <td>network</td>\n      <td>0.020671</td>\n    </tr>\n    <tr>\n      <th>161</th>\n      <td>analysi</td>\n      <td>0.018871</td>\n    </tr>\n    <tr>\n      <th>1005</th>\n      <td>data</td>\n      <td>0.017372</td>\n    </tr>\n    <tr>\n      <th>419</th>\n      <td>base</td>\n      <td>0.017317</td>\n    </tr>\n    <tr>\n      <th>393</th>\n      <td>bas</td>\n      <td>0.015733</td>\n    </tr>\n    <tr>\n      <th>231</th>\n      <td>approach</td>\n      <td>0.015379</td>\n    </tr>\n    <tr>\n      <th>2158</th>\n      <td>learn</td>\n      <td>0.014275</td>\n    </tr>\n    <tr>\n      <th>3809</th>\n      <td>studi</td>\n      <td>0.014010</td>\n    </tr>\n    <tr>\n      <th>121</th>\n      <td>algorithm</td>\n      <td>0.013853</td>\n    </tr>\n    <tr>\n      <th>3087</th>\n      <td>problem</td>\n      <td>0.012309</td>\n    </tr>\n    <tr>\n      <th>3661</th>\n      <td>softwar</td>\n      <td>0.012173</td>\n    </tr>\n    <tr>\n      <th>222</th>\n      <td>applic</td>\n      <td>0.011936</td>\n    </tr>\n    <tr>\n      <th>2411</th>\n      <td>method</td>\n      <td>0.011685</td>\n    </tr>\n    <tr>\n      <th>1440</th>\n      <td>evalu</td>\n      <td>0.011085</td>\n    </tr>\n    <tr>\n      <th>1131</th>\n      <td>detect</td>\n      <td>0.010994</td>\n    </tr>\n    <tr>\n      <th>3101</th>\n      <td>process</td>\n      <td>0.010858</td>\n    </tr>\n    <tr>\n      <th>1149</th>\n      <td>develop</td>\n      <td>0.010656</td>\n    </tr>\n    <tr>\n      <th>814</th>\n      <td>comput</td>\n      <td>0.010447</td>\n    </tr>\n  </tbody>\n</table>\n</div>"
     },
     "metadata": {},
     "execution_count": 12
    }
   ],
   "source": [
    "tfidf_vectorizer = TfidfVectorizer(stop_words='english', min_df=.0010, max_df=.5, ngram_range=(1,2))\n",
    "tfidf = tfidf_vectorizer.fit_transform(df.titulo)\n",
    "weights = np.asarray(tfidf.mean(axis=0)).ravel().tolist()\n",
    "weights_df = pd.DataFrame({'term': tfidf_vectorizer.get_feature_names(), 'weight': weights})\n",
    "weights_df.sort_values(by='weight', ascending=False).head(20)\n",
    "\n"
   ]
  },
  {
   "cell_type": "code",
   "execution_count": 13,
   "metadata": {},
   "outputs": [
    {
     "output_type": "stream",
     "name": "stdout",
     "text": "vocabulary: 4360\nsparse matrix shape: (3055, 4360)\nnonzero count: 65589\nsparsity: 0.49%\n"
    }
   ],
   "source": [
    "print('vocabulary:', len(tfidf_vectorizer.vocabulary_))\n",
    "print('sparse matrix shape:', tfidf.shape)\n",
    "print('nonzero count:', tfidf.nnz)\n",
    "print('sparsity: %.2f%%' % (100.0 * tfidf.nnz / (tfidf.shape[0] * tfidf.shape[1])))"
   ]
  },
  {
   "cell_type": "code",
   "execution_count": 40,
   "metadata": {},
   "outputs": [
    {
     "output_type": "stream",
     "name": "stdout",
     "text": "Topic 1: social,social network,analysi base,use,network analysi,identif,measur,gene,network,analysi\nTopic 2: code,studi,ecosystem,agil,softwar engin,project,engin,softwar develop,develop,softwar\nTopic 3: schedul problem,solv,rout problem,rout,schedul,heurist,genet algorithm,genet,algorithm,problem\nTopic 4: channel,defin,rout,lifetim,manag,wireless sensor,sensor network,wireless,sensor,network\nTopic 5: learn,imag,recognit,deep,convolut neural,classif,convolut,neural network,neural,network\nTopic 6: object,context,reinforc learn,virtual learn,machin learn,machin,learn object,environ,learn environ,learn\nTopic 7: data analysi,classif,transpar,data stream,stream,big data,open data,big,open,data\nTopic 8: analysi brazilian,technolog,scienc,transfer,studi brazilian,urban traffic,amazon,research,public,brazilian\nTopic 9: conceptu,framework,model use,cellular,integr,model driven,driven,model base,base,model\nTopic 10: modal,complex,number,calculus,color graph,convex,path,edge,color,graph\nTopic 11: exploratori studi,configur,compar studi,bridg,studi brazilian,exploratori,sustain,case studi,studi,case\nTopic 12: engin,requir engin,review literatur,requir,systemat review,systemat literatur,literatur review,systemat,literatur,review\nTopic 13: robot,analyt,recommend,user,usabl,studi,map studi,systemat,systemat map,map\nTopic 14: applic,3d,classif,predict,evalu use,estim,mobil,evalu,techniqu,use\nTopic 15: perform evalu,mobil cloud,environ,secur,evalu,perform,servic,cloud comput,comput,cloud\nTopic 16: lung,spectral,textur,forest,descriptor,recognit,automat,base,segment,imag\nTopic 17: languag,decis,goal,manag,requir,pattern,process model,busi process,busi,process\nTopic 18: environment,são,region,soil,propos,river,basin,plant,water,brazil\nTopic 19: algorithm,swarm,ag,multi ag,learn object,object optim,multi object,multi,optim,object\nTopic 20: mobil,attack,monitor,approach,bas model,bas approach,agent bas,applic,agent,bas\nTopic 21: requir,test case,valid,suit,accept,test suit,bas test,impact,softwar test,test\nTopic 22: 3d,immers,train,virtual environ,augment,augment realiti,environ,virtual realiti,realiti,virtual\nTopic 23: vehicl,mobil robot,format,voltag,identif,robot,robust,autonom,base,control\nTopic 24: perform time,perturb approach,enhanc perform,solar,seri predict,seri forecast,forecast,time seri,seri,time\nTopic 25: hardwar,complex,low,depth,encod,3d hevc,3d,base,video,hevc\nTopic 26: numer,finit element,point,appli,base,element method,element,equat,optim,method\nTopic 27: manag,program,access,transpar,evalu tool,visual impair,impair,evalu,visual,tool\nTopic 28: locat,scrum,mobil,educ game,strategi,game teach,teach,design,evalu,game\nTopic 29: novel,simul real,gpu bas,predic,schedul,tim schedul,tim applic,real tim,real,tim\nTopic 30: base,elabor,brazilian portugues,semant,corefer,corefer annot,corpus,annot,text,portugues\nTopic 31: teach,open,distanc,cours,student,distanc educ,educ robot,robot,program,educ\nTopic 32: dynam softwar,search,line engin,search bas,architectur,line architectur,softwar product,product line,line,product\nTopic 33: drift,anomali detect,behavior,flow,function,anomali,correntropi,communiti detect,communiti,detect\nTopic 34: inform,diseas,patient,semant framework,framework electron,electron health,health record,electron,record,health\nTopic 35: architectur,level,distribut,dynam,high,energi,effici,perform,parallel,power\nTopic 36: manag,context awar,awar,privaci,context,secur,inform,internet thing,thing,internet\nTopic 37: social media,media,vehicl,traffic,smart citi,plan,social,urban,citi,smart\nTopic 38: fault,base artifici,use artifici,estim,neural network,neural,artifici intellig,intellig,artifici neural,artifici\nTopic 39: membership,use fuzzi,high dimension,cluster method,dimension,data stream,stream,fuzzi cluster,cluster,fuzzi\nTopic 40: configur,configur manag,approach configur,manag scientif,experi,manag,proven,scientif workflow,workflow,scientif\nTopic 41: methodolog,instrument,experi,industri wireless,activ,innov,plan,research,design,industri\nTopic 42: spectral,geometr,instanc,neuron,estim,quantum,non,new approach,new,approach\nTopic 43: best practic,web,collabor,general,creat,content,qualiti assess,framework,qualiti,assess\nTopic 44: align,goal,complex,semant,conceptu,domain,entiti,relat,logic,ontolog\nTopic 45: character,structur predict,correl,protein structur,soil,function,effect,protein,properti,structur\nTopic 46: cattl,um,informação,gene,sequenc,uma,genom,em,para,da\nTopic 47: numer,model simul,finit,finit element,format,jet,element,memori,flow,simul\nTopic 48: self,implement,effici,genet,automat,diagnosi,fault toler,toler,fault,adapt\nTopic 49: interact visual,navig,ori,defin,human,visual,user,model interact,multimod,interact\nTopic 50: identif,releas plan,attribut,ensembl,individu,similar,dynam,featur select,featur,select\n"
    }
   ],
   "source": [
    "nmf = NMF(n_components=50, solver=\"mu\")\n",
    "idx_to_word = np.array(tfidf_vectorizer.get_feature_names())\n",
    "W = nmf.fit_transform(tfidf)\n",
    "H = nmf.components_\n",
    "\n",
    "for i, topic in enumerate(H):\n",
    "    print(\"Topic {}: {}\".format(i + 1, \",\".join([str(x) for x in idx_to_word[topic.argsort()[-10:]]])))"
   ]
  },
  {
   "cell_type": "code",
   "execution_count": 39,
   "metadata": {},
   "outputs": [
    {
     "output_type": "execute_result",
     "data": {
      "text/plain": "     Topic 0 words Topic 0 weights      Topic 1 words Topic 1 weights  \\\n0          analysi             2.8            softwar             2.2   \n1          network             0.4            develop             1.2   \n2         approach             0.3    softwar develop             0.6   \n3           measur             0.3              engin             0.6   \n4           social             0.2      softwar engin             0.4   \n5              use             0.2          ecosystem             0.3   \n6   social network             0.2               agil             0.3   \n7     analysi base             0.2              studi             0.3   \n8  network analysi             0.2            project             0.3   \n9          complex             0.2  softwar ecosystem             0.2   \n\n     Topic 2 words Topic 2 weights     Topic 3 words Topic 3 weights  \\\n0          problem             1.9           network             1.3   \n1        algorithm             1.1            sensor             1.2   \n2            genet             0.5          wireless             1.2   \n3  genet algorithm             0.4    sensor network             1.1   \n4          heurist             0.4   wireless sensor             1.1   \n5          schedul             0.4           lifetim             0.2   \n6             rout             0.3           channel             0.2   \n7     rout problem             0.3             defin             0.2   \n8  schedul problem             0.3  wireless network             0.2   \n9             solv             0.3              rout             0.2   \n\n     Topic 4 words Topic 4 weights  ...  Topic 45 words Topic 45 weights  \\\n0           neural             1.5  ...           fuzzi              1.6   \n1   neural network             1.4  ...         cluster              1.2   \n2          network             1.4  ...   fuzzi cluster              0.6   \n3         convolut             0.6  ...          method              0.5   \n4  convolut neural             0.5  ...       multivari              0.4   \n5         artifici             0.5  ...  cluster method              0.4   \n6  artifici neural             0.5  ...       dimension              0.3   \n7         recognit             0.3  ...      membership              0.3   \n8             deep             0.2  ...       use fuzzi              0.3   \n9             imag             0.2  ...        strategi              0.3   \n\n  Topic 46 words Topic 46 weights  Topic 47 words Topic 47 weights  \\\n0        ontolog              2.0           fault              1.4   \n1         semant              0.6           toler              0.9   \n2          relat              0.5     fault toler              0.8   \n3         entiti              0.4        diagnosi              0.6   \n4      portugues              0.4           power              0.4   \n5       conceptu              0.4      reconfigur              0.4   \n6          align              0.3          storag              0.3   \n7         domain              0.3  fault diagnosi              0.3   \n8      represent              0.3         automat              0.3   \n9           goal              0.3           motor              0.3   \n\n  Topic 48 words Topic 48 weights Topic 49 words Topic 49 weights  \n0          adapt              2.0        classif              2.0  \n1      implement              0.5           deep              0.5  \n2         stream              0.4    classif use              0.4  \n3         effici              0.4     deep learn              0.4  \n4        languag              0.4          label              0.3  \n5           self              0.3   data classif              0.3  \n6    data stream              0.3         textur              0.3  \n7       automata              0.2   imag classif              0.3  \n8     self adapt              0.2        automat              0.3  \n9            p2p              0.2       hierarch              0.2  \n\n[10 rows x 100 columns]",
      "text/html": "<div>\n<style scoped>\n    .dataframe tbody tr th:only-of-type {\n        vertical-align: middle;\n    }\n\n    .dataframe tbody tr th {\n        vertical-align: top;\n    }\n\n    .dataframe thead th {\n        text-align: right;\n    }\n</style>\n<table border=\"1\" class=\"dataframe\">\n  <thead>\n    <tr style=\"text-align: right;\">\n      <th></th>\n      <th>Topic 0 words</th>\n      <th>Topic 0 weights</th>\n      <th>Topic 1 words</th>\n      <th>Topic 1 weights</th>\n      <th>Topic 2 words</th>\n      <th>Topic 2 weights</th>\n      <th>Topic 3 words</th>\n      <th>Topic 3 weights</th>\n      <th>Topic 4 words</th>\n      <th>Topic 4 weights</th>\n      <th>...</th>\n      <th>Topic 45 words</th>\n      <th>Topic 45 weights</th>\n      <th>Topic 46 words</th>\n      <th>Topic 46 weights</th>\n      <th>Topic 47 words</th>\n      <th>Topic 47 weights</th>\n      <th>Topic 48 words</th>\n      <th>Topic 48 weights</th>\n      <th>Topic 49 words</th>\n      <th>Topic 49 weights</th>\n    </tr>\n  </thead>\n  <tbody>\n    <tr>\n      <th>0</th>\n      <td>analysi</td>\n      <td>2.8</td>\n      <td>softwar</td>\n      <td>2.2</td>\n      <td>problem</td>\n      <td>1.9</td>\n      <td>network</td>\n      <td>1.3</td>\n      <td>neural</td>\n      <td>1.5</td>\n      <td>...</td>\n      <td>fuzzi</td>\n      <td>1.6</td>\n      <td>ontolog</td>\n      <td>2.0</td>\n      <td>fault</td>\n      <td>1.4</td>\n      <td>adapt</td>\n      <td>2.0</td>\n      <td>classif</td>\n      <td>2.0</td>\n    </tr>\n    <tr>\n      <th>1</th>\n      <td>network</td>\n      <td>0.4</td>\n      <td>develop</td>\n      <td>1.2</td>\n      <td>algorithm</td>\n      <td>1.1</td>\n      <td>sensor</td>\n      <td>1.2</td>\n      <td>neural network</td>\n      <td>1.4</td>\n      <td>...</td>\n      <td>cluster</td>\n      <td>1.2</td>\n      <td>semant</td>\n      <td>0.6</td>\n      <td>toler</td>\n      <td>0.9</td>\n      <td>implement</td>\n      <td>0.5</td>\n      <td>deep</td>\n      <td>0.5</td>\n    </tr>\n    <tr>\n      <th>2</th>\n      <td>approach</td>\n      <td>0.3</td>\n      <td>softwar develop</td>\n      <td>0.6</td>\n      <td>genet</td>\n      <td>0.5</td>\n      <td>wireless</td>\n      <td>1.2</td>\n      <td>network</td>\n      <td>1.4</td>\n      <td>...</td>\n      <td>fuzzi cluster</td>\n      <td>0.6</td>\n      <td>relat</td>\n      <td>0.5</td>\n      <td>fault toler</td>\n      <td>0.8</td>\n      <td>stream</td>\n      <td>0.4</td>\n      <td>classif use</td>\n      <td>0.4</td>\n    </tr>\n    <tr>\n      <th>3</th>\n      <td>measur</td>\n      <td>0.3</td>\n      <td>engin</td>\n      <td>0.6</td>\n      <td>genet algorithm</td>\n      <td>0.4</td>\n      <td>sensor network</td>\n      <td>1.1</td>\n      <td>convolut</td>\n      <td>0.6</td>\n      <td>...</td>\n      <td>method</td>\n      <td>0.5</td>\n      <td>entiti</td>\n      <td>0.4</td>\n      <td>diagnosi</td>\n      <td>0.6</td>\n      <td>effici</td>\n      <td>0.4</td>\n      <td>deep learn</td>\n      <td>0.4</td>\n    </tr>\n    <tr>\n      <th>4</th>\n      <td>social</td>\n      <td>0.2</td>\n      <td>softwar engin</td>\n      <td>0.4</td>\n      <td>heurist</td>\n      <td>0.4</td>\n      <td>wireless sensor</td>\n      <td>1.1</td>\n      <td>convolut neural</td>\n      <td>0.5</td>\n      <td>...</td>\n      <td>multivari</td>\n      <td>0.4</td>\n      <td>portugues</td>\n      <td>0.4</td>\n      <td>power</td>\n      <td>0.4</td>\n      <td>languag</td>\n      <td>0.4</td>\n      <td>label</td>\n      <td>0.3</td>\n    </tr>\n    <tr>\n      <th>5</th>\n      <td>use</td>\n      <td>0.2</td>\n      <td>ecosystem</td>\n      <td>0.3</td>\n      <td>schedul</td>\n      <td>0.4</td>\n      <td>lifetim</td>\n      <td>0.2</td>\n      <td>artifici</td>\n      <td>0.5</td>\n      <td>...</td>\n      <td>cluster method</td>\n      <td>0.4</td>\n      <td>conceptu</td>\n      <td>0.4</td>\n      <td>reconfigur</td>\n      <td>0.4</td>\n      <td>self</td>\n      <td>0.3</td>\n      <td>data classif</td>\n      <td>0.3</td>\n    </tr>\n    <tr>\n      <th>6</th>\n      <td>social network</td>\n      <td>0.2</td>\n      <td>agil</td>\n      <td>0.3</td>\n      <td>rout</td>\n      <td>0.3</td>\n      <td>channel</td>\n      <td>0.2</td>\n      <td>artifici neural</td>\n      <td>0.5</td>\n      <td>...</td>\n      <td>dimension</td>\n      <td>0.3</td>\n      <td>align</td>\n      <td>0.3</td>\n      <td>storag</td>\n      <td>0.3</td>\n      <td>data stream</td>\n      <td>0.3</td>\n      <td>textur</td>\n      <td>0.3</td>\n    </tr>\n    <tr>\n      <th>7</th>\n      <td>analysi base</td>\n      <td>0.2</td>\n      <td>studi</td>\n      <td>0.3</td>\n      <td>rout problem</td>\n      <td>0.3</td>\n      <td>defin</td>\n      <td>0.2</td>\n      <td>recognit</td>\n      <td>0.3</td>\n      <td>...</td>\n      <td>membership</td>\n      <td>0.3</td>\n      <td>domain</td>\n      <td>0.3</td>\n      <td>fault diagnosi</td>\n      <td>0.3</td>\n      <td>automata</td>\n      <td>0.2</td>\n      <td>imag classif</td>\n      <td>0.3</td>\n    </tr>\n    <tr>\n      <th>8</th>\n      <td>network analysi</td>\n      <td>0.2</td>\n      <td>project</td>\n      <td>0.3</td>\n      <td>schedul problem</td>\n      <td>0.3</td>\n      <td>wireless network</td>\n      <td>0.2</td>\n      <td>deep</td>\n      <td>0.2</td>\n      <td>...</td>\n      <td>use fuzzi</td>\n      <td>0.3</td>\n      <td>represent</td>\n      <td>0.3</td>\n      <td>automat</td>\n      <td>0.3</td>\n      <td>self adapt</td>\n      <td>0.2</td>\n      <td>automat</td>\n      <td>0.3</td>\n    </tr>\n    <tr>\n      <th>9</th>\n      <td>complex</td>\n      <td>0.2</td>\n      <td>softwar ecosystem</td>\n      <td>0.2</td>\n      <td>solv</td>\n      <td>0.3</td>\n      <td>rout</td>\n      <td>0.2</td>\n      <td>imag</td>\n      <td>0.2</td>\n      <td>...</td>\n      <td>strategi</td>\n      <td>0.3</td>\n      <td>goal</td>\n      <td>0.3</td>\n      <td>motor</td>\n      <td>0.3</td>\n      <td>p2p</td>\n      <td>0.2</td>\n      <td>hierarch</td>\n      <td>0.2</td>\n    </tr>\n  </tbody>\n</table>\n<p>10 rows × 100 columns</p>\n</div>"
     },
     "metadata": {},
     "execution_count": 39
    }
   ],
   "source": [
    "def display_topics(model, feature_names, no_top_words):\n",
    "    topic_dict = {}\n",
    "    for topic_idx, topic in enumerate(model.components_):\n",
    "        topic_dict[\"Topic %d words\" % (topic_idx)]= ['{}'.format(feature_names[i])\n",
    "                        for i in topic.argsort()[:-no_top_words - 1:-1]]\n",
    "        topic_dict[\"Topic %d weights\" % (topic_idx)]= ['{:.1f}'.format(topic[i])\n",
    "                        for i in topic.argsort()[:-no_top_words - 1:-1]]\n",
    "    return pd.DataFrame(topic_dict)\n",
    "\n",
    "no_top_words = 10\n",
    "display_topics(nmf,idx_to_word,no_top_words)\n"
   ]
  },
  {
   "cell_type": "code",
   "execution_count": null,
   "metadata": {},
   "outputs": [],
   "source": []
  }
 ],
 "metadata": {
  "language_info": {
   "codemirror_mode": {
    "name": "ipython",
    "version": 3
   },
   "file_extension": ".py",
   "mimetype": "text/x-python",
   "name": "python",
   "nbconvert_exporter": "python",
   "pygments_lexer": "ipython3",
   "version": "3.8.2-final"
  },
  "orig_nbformat": 2,
  "kernelspec": {
   "name": "python38264bitvenvvenv2bbc39647f214cc383d5c83f858d10a1",
   "display_name": "Python 3.8.2 64-bit ('.venv': venv)"
  }
 },
 "nbformat": 4,
 "nbformat_minor": 2
}