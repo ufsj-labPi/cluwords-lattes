{
 "cells": [
  {
   "cell_type": "code",
   "execution_count": 1,
   "metadata": {},
   "outputs": [],
   "source": [
    "import pandas as pd\n",
    "import numpy as np\n",
    "from itertools import islice\n",
    "from nltk.stem.snowball import SnowballStemmer\n",
    "from sklearn.feature_extraction.text import CountVectorizer\n",
    "from sklearn.feature_extraction.text import TfidfTransformer"
   ]
  },
  {
   "cell_type": "code",
   "execution_count": 2,
   "metadata": {},
   "outputs": [],
   "source": [
    "input = './data/out/preprocess.csv.xz'"
   ]
  },
  {
   "cell_type": "code",
   "execution_count": 3,
   "metadata": {},
   "outputs": [
    {
     "output_type": "execute_result",
     "data": {
      "text/plain": "(9130, 1)"
     },
     "metadata": {},
     "execution_count": 3
    }
   ],
   "source": [
    "df = pd.read_csv(input, compression='xz')\n",
    "df.drop(['id'], axis=1, inplace=True)\n",
    "df.shape"
   ]
  },
  {
   "cell_type": "code",
   "execution_count": 4,
   "metadata": {},
   "outputs": [],
   "source": [
    "stemmer = SnowballStemmer(\"english\")\n",
    "df['titulo'] = df['titulo'].map(lambda x: ' '.join([stemmer.stem(y) for y in x.split(' ')]))"
   ]
  },
  {
   "cell_type": "code",
   "execution_count": 5,
   "metadata": {},
   "outputs": [
    {
     "output_type": "execute_result",
     "data": {
      "text/plain": "[('exploit', 233),\n ('locat', 360),\n ('direct', 183),\n ('bas', 57),\n ('discoveri', 184),\n ('standard', 617),\n ('social', 593),\n ('media', 384),\n ('urban', 691),\n ('issu', 333),\n ('social media', 594),\n ('framework', 262),\n ('spatial', 609),\n ('analyt', 26),\n ('heterogen', 289),\n ('data', 156),\n ('sourc', 607),\n ('gene', 269),\n ('express', 236),\n ('analysi', 25)]"
     },
     "metadata": {},
     "execution_count": 5
    }
   ],
   "source": [
    "# Initialize the vectorizer with new settings and check the new vocabulary length\n",
    "cvec = CountVectorizer(stop_words='english', min_df=.0025, max_df=.1, ngram_range=(1,3))\n",
    "cvec.fit(df['titulo'])\n",
    "list(islice(cvec.vocabulary_.items(), 20))\n",
    "#len(cvec.vocabulary_)"
   ]
  },
  {
   "cell_type": "code",
   "execution_count": 6,
   "metadata": {},
   "outputs": [
    {
     "output_type": "execute_result",
     "data": {
      "text/plain": "719"
     },
     "metadata": {},
     "execution_count": 6
    }
   ],
   "source": [
    "len(cvec.vocabulary_)"
   ]
  },
  {
   "cell_type": "code",
   "execution_count": 7,
   "metadata": {},
   "outputs": [
    {
     "output_type": "stream",
     "name": "stdout",
     "text": "sparse matrix shape: (9130, 719)\nnonzero count: 49804\nsparsity: 0.76%\n"
    }
   ],
   "source": [
    "cvec_counts = cvec.transform(df['titulo'])\n",
    "print('sparse matrix shape:', cvec_counts.shape)\n",
    "print('nonzero count:', cvec_counts.nnz)\n",
    "print('sparsity: %.2f%%' % (100.0 * cvec_counts.nnz / (cvec_counts.shape[0] * cvec_counts.shape[1])))"
   ]
  },
  {
   "cell_type": "code",
   "execution_count": 8,
   "metadata": {},
   "outputs": [
    {
     "output_type": "execute_result",
     "data": {
      "text/plain": "          term  occurrences\n398      model          858\n421    network          764\n25     analysi          708\n60        base          640\n156       data          599\n57         bas          570\n30    approach          523\n628      studi          474\n19   algorithm          434\n345      learn          432\n597    softwar          401\n29      applic          367\n485    problem          358\n224      evalu          355\n389     method          335\n173     detect          321\n487    process          308\n442      optim          301\n409      multi          301\n176    develop          290",
      "text/html": "<div>\n<style scoped>\n    .dataframe tbody tr th:only-of-type {\n        vertical-align: middle;\n    }\n\n    .dataframe tbody tr th {\n        vertical-align: top;\n    }\n\n    .dataframe thead th {\n        text-align: right;\n    }\n</style>\n<table border=\"1\" class=\"dataframe\">\n  <thead>\n    <tr style=\"text-align: right;\">\n      <th></th>\n      <th>term</th>\n      <th>occurrences</th>\n    </tr>\n  </thead>\n  <tbody>\n    <tr>\n      <th>398</th>\n      <td>model</td>\n      <td>858</td>\n    </tr>\n    <tr>\n      <th>421</th>\n      <td>network</td>\n      <td>764</td>\n    </tr>\n    <tr>\n      <th>25</th>\n      <td>analysi</td>\n      <td>708</td>\n    </tr>\n    <tr>\n      <th>60</th>\n      <td>base</td>\n      <td>640</td>\n    </tr>\n    <tr>\n      <th>156</th>\n      <td>data</td>\n      <td>599</td>\n    </tr>\n    <tr>\n      <th>57</th>\n      <td>bas</td>\n      <td>570</td>\n    </tr>\n    <tr>\n      <th>30</th>\n      <td>approach</td>\n      <td>523</td>\n    </tr>\n    <tr>\n      <th>628</th>\n      <td>studi</td>\n      <td>474</td>\n    </tr>\n    <tr>\n      <th>19</th>\n      <td>algorithm</td>\n      <td>434</td>\n    </tr>\n    <tr>\n      <th>345</th>\n      <td>learn</td>\n      <td>432</td>\n    </tr>\n    <tr>\n      <th>597</th>\n      <td>softwar</td>\n      <td>401</td>\n    </tr>\n    <tr>\n      <th>29</th>\n      <td>applic</td>\n      <td>367</td>\n    </tr>\n    <tr>\n      <th>485</th>\n      <td>problem</td>\n      <td>358</td>\n    </tr>\n    <tr>\n      <th>224</th>\n      <td>evalu</td>\n      <td>355</td>\n    </tr>\n    <tr>\n      <th>389</th>\n      <td>method</td>\n      <td>335</td>\n    </tr>\n    <tr>\n      <th>173</th>\n      <td>detect</td>\n      <td>321</td>\n    </tr>\n    <tr>\n      <th>487</th>\n      <td>process</td>\n      <td>308</td>\n    </tr>\n    <tr>\n      <th>442</th>\n      <td>optim</td>\n      <td>301</td>\n    </tr>\n    <tr>\n      <th>409</th>\n      <td>multi</td>\n      <td>301</td>\n    </tr>\n    <tr>\n      <th>176</th>\n      <td>develop</td>\n      <td>290</td>\n    </tr>\n  </tbody>\n</table>\n</div>"
     },
     "metadata": {},
     "execution_count": 8
    }
   ],
   "source": [
    "occ = np.asarray(cvec_counts.sum(axis=0)).ravel().tolist()\n",
    "counts_df = pd.DataFrame({'term': cvec.get_feature_names(), 'occurrences': occ})\n",
    "counts_df.sort_values(by='occurrences', ascending=False).head(20)"
   ]
  },
  {
   "cell_type": "code",
   "execution_count": 9,
   "metadata": {},
   "outputs": [
    {
     "output_type": "execute_result",
     "data": {
      "text/plain": "<9130x719 sparse matrix of type '<class 'numpy.float64'>'\n\twith 49804 stored elements in Compressed Sparse Row format>"
     },
     "metadata": {},
     "execution_count": 9
    }
   ],
   "source": [
    "transformer = TfidfTransformer()\n",
    "transformed_weights = transformer.fit_transform(cvec_counts)\n",
    "transformed_weights"
   ]
  },
  {
   "cell_type": "code",
   "execution_count": 12,
   "metadata": {},
   "outputs": [
    {
     "output_type": "execute_result",
     "data": {
      "text/plain": "          term    weight\n398      model  0.025522\n25     analysi  0.022144\n421    network  0.021979\n60        base  0.019030\n156       data  0.019027\n57         bas  0.017943\n30    approach  0.016927\n628      studi  0.015076\n19   algorithm  0.014465\n345      learn  0.014319\n597    softwar  0.013587\n29      applic  0.013195\n224      evalu  0.012850\n485    problem  0.012590\n173     detect  0.012480\n389     method  0.012372\n487    process  0.011480\n442      optim  0.011175\n137    control  0.010988\n122     comput  0.010910",
      "text/html": "<div>\n<style scoped>\n    .dataframe tbody tr th:only-of-type {\n        vertical-align: middle;\n    }\n\n    .dataframe tbody tr th {\n        vertical-align: top;\n    }\n\n    .dataframe thead th {\n        text-align: right;\n    }\n</style>\n<table border=\"1\" class=\"dataframe\">\n  <thead>\n    <tr style=\"text-align: right;\">\n      <th></th>\n      <th>term</th>\n      <th>weight</th>\n    </tr>\n  </thead>\n  <tbody>\n    <tr>\n      <th>398</th>\n      <td>model</td>\n      <td>0.025522</td>\n    </tr>\n    <tr>\n      <th>25</th>\n      <td>analysi</td>\n      <td>0.022144</td>\n    </tr>\n    <tr>\n      <th>421</th>\n      <td>network</td>\n      <td>0.021979</td>\n    </tr>\n    <tr>\n      <th>60</th>\n      <td>base</td>\n      <td>0.019030</td>\n    </tr>\n    <tr>\n      <th>156</th>\n      <td>data</td>\n      <td>0.019027</td>\n    </tr>\n    <tr>\n      <th>57</th>\n      <td>bas</td>\n      <td>0.017943</td>\n    </tr>\n    <tr>\n      <th>30</th>\n      <td>approach</td>\n      <td>0.016927</td>\n    </tr>\n    <tr>\n      <th>628</th>\n      <td>studi</td>\n      <td>0.015076</td>\n    </tr>\n    <tr>\n      <th>19</th>\n      <td>algorithm</td>\n      <td>0.014465</td>\n    </tr>\n    <tr>\n      <th>345</th>\n      <td>learn</td>\n      <td>0.014319</td>\n    </tr>\n    <tr>\n      <th>597</th>\n      <td>softwar</td>\n      <td>0.013587</td>\n    </tr>\n    <tr>\n      <th>29</th>\n      <td>applic</td>\n      <td>0.013195</td>\n    </tr>\n    <tr>\n      <th>224</th>\n      <td>evalu</td>\n      <td>0.012850</td>\n    </tr>\n    <tr>\n      <th>485</th>\n      <td>problem</td>\n      <td>0.012590</td>\n    </tr>\n    <tr>\n      <th>173</th>\n      <td>detect</td>\n      <td>0.012480</td>\n    </tr>\n    <tr>\n      <th>389</th>\n      <td>method</td>\n      <td>0.012372</td>\n    </tr>\n    <tr>\n      <th>487</th>\n      <td>process</td>\n      <td>0.011480</td>\n    </tr>\n    <tr>\n      <th>442</th>\n      <td>optim</td>\n      <td>0.011175</td>\n    </tr>\n    <tr>\n      <th>137</th>\n      <td>control</td>\n      <td>0.010988</td>\n    </tr>\n    <tr>\n      <th>122</th>\n      <td>comput</td>\n      <td>0.010910</td>\n    </tr>\n  </tbody>\n</table>\n</div>"
     },
     "metadata": {},
     "execution_count": 12
    }
   ],
   "source": [
    "weights = np.asarray(transformed_weights.mean(axis=0)).ravel().tolist()\n",
    "weights_df = pd.DataFrame({'term': cvec.get_feature_names(), 'weight': weights})\n",
    "weights_df.sort_values(by='weight', ascending=False).head(20)"
   ]
  },
  {
   "cell_type": "code",
   "execution_count": 15,
   "metadata": {},
   "outputs": [
    {
     "output_type": "execute_result",
     "data": {
      "text/plain": "       3d  academ  acceler  access  accuraci  action  activ  adapt  adopt  \\\n0     0.0     0.0      0.0     0.0  0.000000     0.0    0.0    0.0    0.0   \n1     0.0     0.0      0.0     0.0  0.000000     0.0    0.0    0.0    0.0   \n2     0.0     0.0      0.0     0.0  0.000000     0.0    0.0    0.0    0.0   \n3     0.0     0.0      0.0     0.0  0.000000     0.0    0.0    0.0    0.0   \n4     0.0     0.0      0.0     0.0  0.592943     0.0    0.0    0.0    0.0   \n...   ...     ...      ...     ...       ...     ...    ...    ...    ...   \n9125  0.0     0.0      0.0     0.0  0.000000     0.0    0.0    0.0    0.0   \n9126  0.0     0.0      0.0     0.0  0.000000     0.0    0.0    0.0    0.0   \n9127  0.0     0.0      0.0     0.0  0.000000     0.0    0.0    0.0    0.0   \n9128  0.0     0.0      0.0     0.0  0.000000     0.0    0.0    0.0    0.0   \n9129  0.0     0.0      0.0     0.0  0.000000     0.0    0.0    0.0    0.0   \n\n      advanc  ...  water  web  weight  wind  wireless  wireless sensor  \\\n0        0.0  ...    0.0  0.0     0.0   0.0       0.0              0.0   \n1        0.0  ...    0.0  0.0     0.0   0.0       0.0              0.0   \n2        0.0  ...    0.0  0.0     0.0   0.0       0.0              0.0   \n3        0.0  ...    0.0  0.0     0.0   0.0       0.0              0.0   \n4        0.0  ...    0.0  0.0     0.0   0.0       0.0              0.0   \n...      ...  ...    ...  ...     ...   ...       ...              ...   \n9125     0.0  ...    0.0  0.0     0.0   0.0       0.0              0.0   \n9126     0.0  ...    0.0  0.0     0.0   0.0       0.0              0.0   \n9127     0.0  ...    0.0  0.0     0.0   0.0       0.0              0.0   \n9128     0.0  ...    0.0  0.0     0.0   0.0       0.0              0.0   \n9129     0.0  ...    0.0  0.0     0.0   0.0       0.0              0.0   \n\n      wireless sensor network  work  workflow  world  \n0                         0.0   0.0       0.0    0.0  \n1                         0.0   0.0       0.0    0.0  \n2                         0.0   0.0       0.0    0.0  \n3                         0.0   0.0       0.0    0.0  \n4                         0.0   0.0       0.0    0.0  \n...                       ...   ...       ...    ...  \n9125                      0.0   0.0       0.0    0.0  \n9126                      0.0   0.0       0.0    0.0  \n9127                      0.0   0.0       0.0    0.0  \n9128                      0.0   0.0       0.0    0.0  \n9129                      0.0   0.0       0.0    0.0  \n\n[9130 rows x 719 columns]",
      "text/html": "<div>\n<style scoped>\n    .dataframe tbody tr th:only-of-type {\n        vertical-align: middle;\n    }\n\n    .dataframe tbody tr th {\n        vertical-align: top;\n    }\n\n    .dataframe thead th {\n        text-align: right;\n    }\n</style>\n<table border=\"1\" class=\"dataframe\">\n  <thead>\n    <tr style=\"text-align: right;\">\n      <th></th>\n      <th>3d</th>\n      <th>academ</th>\n      <th>acceler</th>\n      <th>access</th>\n      <th>accuraci</th>\n      <th>action</th>\n      <th>activ</th>\n      <th>adapt</th>\n      <th>adopt</th>\n      <th>advanc</th>\n      <th>...</th>\n      <th>water</th>\n      <th>web</th>\n      <th>weight</th>\n      <th>wind</th>\n      <th>wireless</th>\n      <th>wireless sensor</th>\n      <th>wireless sensor network</th>\n      <th>work</th>\n      <th>workflow</th>\n      <th>world</th>\n    </tr>\n  </thead>\n  <tbody>\n    <tr>\n      <th>0</th>\n      <td>0.0</td>\n      <td>0.0</td>\n      <td>0.0</td>\n      <td>0.0</td>\n      <td>0.000000</td>\n      <td>0.0</td>\n      <td>0.0</td>\n      <td>0.0</td>\n      <td>0.0</td>\n      <td>0.0</td>\n      <td>...</td>\n      <td>0.0</td>\n      <td>0.0</td>\n      <td>0.0</td>\n      <td>0.0</td>\n      <td>0.0</td>\n      <td>0.0</td>\n      <td>0.0</td>\n      <td>0.0</td>\n      <td>0.0</td>\n      <td>0.0</td>\n    </tr>\n    <tr>\n      <th>1</th>\n      <td>0.0</td>\n      <td>0.0</td>\n      <td>0.0</td>\n      <td>0.0</td>\n      <td>0.000000</td>\n      <td>0.0</td>\n      <td>0.0</td>\n      <td>0.0</td>\n      <td>0.0</td>\n      <td>0.0</td>\n      <td>...</td>\n      <td>0.0</td>\n      <td>0.0</td>\n      <td>0.0</td>\n      <td>0.0</td>\n      <td>0.0</td>\n      <td>0.0</td>\n      <td>0.0</td>\n      <td>0.0</td>\n      <td>0.0</td>\n      <td>0.0</td>\n    </tr>\n    <tr>\n      <th>2</th>\n      <td>0.0</td>\n      <td>0.0</td>\n      <td>0.0</td>\n      <td>0.0</td>\n      <td>0.000000</td>\n      <td>0.0</td>\n      <td>0.0</td>\n      <td>0.0</td>\n      <td>0.0</td>\n      <td>0.0</td>\n      <td>...</td>\n      <td>0.0</td>\n      <td>0.0</td>\n      <td>0.0</td>\n      <td>0.0</td>\n      <td>0.0</td>\n      <td>0.0</td>\n      <td>0.0</td>\n      <td>0.0</td>\n      <td>0.0</td>\n      <td>0.0</td>\n    </tr>\n    <tr>\n      <th>3</th>\n      <td>0.0</td>\n      <td>0.0</td>\n      <td>0.0</td>\n      <td>0.0</td>\n      <td>0.000000</td>\n      <td>0.0</td>\n      <td>0.0</td>\n      <td>0.0</td>\n      <td>0.0</td>\n      <td>0.0</td>\n      <td>...</td>\n      <td>0.0</td>\n      <td>0.0</td>\n      <td>0.0</td>\n      <td>0.0</td>\n      <td>0.0</td>\n      <td>0.0</td>\n      <td>0.0</td>\n      <td>0.0</td>\n      <td>0.0</td>\n      <td>0.0</td>\n    </tr>\n    <tr>\n      <th>4</th>\n      <td>0.0</td>\n      <td>0.0</td>\n      <td>0.0</td>\n      <td>0.0</td>\n      <td>0.592943</td>\n      <td>0.0</td>\n      <td>0.0</td>\n      <td>0.0</td>\n      <td>0.0</td>\n      <td>0.0</td>\n      <td>...</td>\n      <td>0.0</td>\n      <td>0.0</td>\n      <td>0.0</td>\n      <td>0.0</td>\n      <td>0.0</td>\n      <td>0.0</td>\n      <td>0.0</td>\n      <td>0.0</td>\n      <td>0.0</td>\n      <td>0.0</td>\n    </tr>\n    <tr>\n      <th>...</th>\n      <td>...</td>\n      <td>...</td>\n      <td>...</td>\n      <td>...</td>\n      <td>...</td>\n      <td>...</td>\n      <td>...</td>\n      <td>...</td>\n      <td>...</td>\n      <td>...</td>\n      <td>...</td>\n      <td>...</td>\n      <td>...</td>\n      <td>...</td>\n      <td>...</td>\n      <td>...</td>\n      <td>...</td>\n      <td>...</td>\n      <td>...</td>\n      <td>...</td>\n      <td>...</td>\n    </tr>\n    <tr>\n      <th>9125</th>\n      <td>0.0</td>\n      <td>0.0</td>\n      <td>0.0</td>\n      <td>0.0</td>\n      <td>0.000000</td>\n      <td>0.0</td>\n      <td>0.0</td>\n      <td>0.0</td>\n      <td>0.0</td>\n      <td>0.0</td>\n      <td>...</td>\n      <td>0.0</td>\n      <td>0.0</td>\n      <td>0.0</td>\n      <td>0.0</td>\n      <td>0.0</td>\n      <td>0.0</td>\n      <td>0.0</td>\n      <td>0.0</td>\n      <td>0.0</td>\n      <td>0.0</td>\n    </tr>\n    <tr>\n      <th>9126</th>\n      <td>0.0</td>\n      <td>0.0</td>\n      <td>0.0</td>\n      <td>0.0</td>\n      <td>0.000000</td>\n      <td>0.0</td>\n      <td>0.0</td>\n      <td>0.0</td>\n      <td>0.0</td>\n      <td>0.0</td>\n      <td>...</td>\n      <td>0.0</td>\n      <td>0.0</td>\n      <td>0.0</td>\n      <td>0.0</td>\n      <td>0.0</td>\n      <td>0.0</td>\n      <td>0.0</td>\n      <td>0.0</td>\n      <td>0.0</td>\n      <td>0.0</td>\n    </tr>\n    <tr>\n      <th>9127</th>\n      <td>0.0</td>\n      <td>0.0</td>\n      <td>0.0</td>\n      <td>0.0</td>\n      <td>0.000000</td>\n      <td>0.0</td>\n      <td>0.0</td>\n      <td>0.0</td>\n      <td>0.0</td>\n      <td>0.0</td>\n      <td>...</td>\n      <td>0.0</td>\n      <td>0.0</td>\n      <td>0.0</td>\n      <td>0.0</td>\n      <td>0.0</td>\n      <td>0.0</td>\n      <td>0.0</td>\n      <td>0.0</td>\n      <td>0.0</td>\n      <td>0.0</td>\n    </tr>\n    <tr>\n      <th>9128</th>\n      <td>0.0</td>\n      <td>0.0</td>\n      <td>0.0</td>\n      <td>0.0</td>\n      <td>0.000000</td>\n      <td>0.0</td>\n      <td>0.0</td>\n      <td>0.0</td>\n      <td>0.0</td>\n      <td>0.0</td>\n      <td>...</td>\n      <td>0.0</td>\n      <td>0.0</td>\n      <td>0.0</td>\n      <td>0.0</td>\n      <td>0.0</td>\n      <td>0.0</td>\n      <td>0.0</td>\n      <td>0.0</td>\n      <td>0.0</td>\n      <td>0.0</td>\n    </tr>\n    <tr>\n      <th>9129</th>\n      <td>0.0</td>\n      <td>0.0</td>\n      <td>0.0</td>\n      <td>0.0</td>\n      <td>0.000000</td>\n      <td>0.0</td>\n      <td>0.0</td>\n      <td>0.0</td>\n      <td>0.0</td>\n      <td>0.0</td>\n      <td>...</td>\n      <td>0.0</td>\n      <td>0.0</td>\n      <td>0.0</td>\n      <td>0.0</td>\n      <td>0.0</td>\n      <td>0.0</td>\n      <td>0.0</td>\n      <td>0.0</td>\n      <td>0.0</td>\n      <td>0.0</td>\n    </tr>\n  </tbody>\n</table>\n<p>9130 rows × 719 columns</p>\n</div>"
     },
     "metadata": {},
     "execution_count": 15
    }
   ],
   "source": [
    "pd.DataFrame(transformed_weights.toarray(), columns=cvec.get_feature_names())"
   ]
  },
  {
   "cell_type": "code",
   "execution_count": null,
   "metadata": {},
   "outputs": [],
   "source": []
  }
 ],
 "metadata": {
  "language_info": {
   "codemirror_mode": {
    "name": "ipython",
    "version": 3
   },
   "file_extension": ".py",
   "mimetype": "text/x-python",
   "name": "python",
   "nbconvert_exporter": "python",
   "pygments_lexer": "ipython3",
   "version": "3.8.2-final"
  },
  "orig_nbformat": 2,
  "kernelspec": {
   "name": "python38264bitvenvvenv2bbc39647f214cc383d5c83f858d10a1",
   "display_name": "Python 3.8.2 64-bit ('.venv': venv)"
  }
 },
 "nbformat": 4,
 "nbformat_minor": 2
}