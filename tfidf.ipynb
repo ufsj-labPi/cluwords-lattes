{
 "cells": [
  {
   "cell_type": "code",
   "execution_count": 1,
   "metadata": {},
   "outputs": [],
   "source": [
    "import pandas as pd\n",
    "import numpy as np\n",
    "from itertools import islice\n",
    "from nltk.stem.snowball import SnowballStemmer\n",
    "from sklearn.feature_extraction.text import CountVectorizer\n",
    "from sklearn.feature_extraction.text import TfidfTransformer"
   ]
  },
  {
   "cell_type": "code",
   "execution_count": 2,
   "metadata": {},
   "outputs": [],
   "source": [
    "select_year = 2017\n",
    "input = './data/out/%dpreprocess.csv.xz' % select_year"
   ]
  },
  {
   "cell_type": "code",
   "execution_count": 3,
   "metadata": {},
   "outputs": [
    {
     "output_type": "execute_result",
     "data": {
      "text/plain": "(3111, 1)"
     },
     "metadata": {},
     "execution_count": 3
    }
   ],
   "source": [
    "df = pd.read_csv(input, compression='xz')\n",
    "df.shape"
   ]
  },
  {
   "cell_type": "code",
   "execution_count": 4,
   "metadata": {},
   "outputs": [],
   "source": [
    "stemmer = SnowballStemmer(\"english\")\n",
    "df['titulo'] = df['titulo'].map(lambda x: ' '.join([stemmer.stem(y) for y in x.split(' ')]))"
   ]
  },
  {
   "cell_type": "code",
   "execution_count": 5,
   "metadata": {},
   "outputs": [
    {
     "output_type": "execute_result",
     "data": {
      "text/plain": "[('exploit', 8811),\n ('photo', 17378),\n ('locat', 13217),\n ('direct', 6918),\n ('clusteringbas', 4269),\n ('pointsofinterest', 17647),\n ('discoveri', 6956),\n ('goldstandard', 10240),\n ('social', 21423),\n ('media', 13940),\n ('corpus', 5398),\n ('urban', 24345),\n ('issu', 12372),\n ('framework', 9591),\n ('spatial', 21770),\n ('analyt', 1191),\n ('heterogen', 10667),\n ('data', 5830),\n ('sourc', 21688),\n ('exploit photo', 8828)]"
     },
     "metadata": {},
     "execution_count": 5
    }
   ],
   "source": [
    "# Initialize the vectorizer with new settings and check the new vocabulary length\n",
    "cvec = CountVectorizer(stop_words='english', min_df=.0005, max_df=.15, ngram_range=(1,3))\n",
    "cvec.fit(df['titulo'])\n",
    "list(islice(cvec.vocabulary_.items(), 20))\n",
    "#len(cvec.vocabulary_)"
   ]
  },
  {
   "cell_type": "code",
   "execution_count": 6,
   "metadata": {},
   "outputs": [
    {
     "output_type": "execute_result",
     "data": {
      "text/plain": "25714"
     },
     "metadata": {},
     "execution_count": 6
    }
   ],
   "source": [
    "len(cvec.vocabulary_)"
   ]
  },
  {
   "cell_type": "code",
   "execution_count": 7,
   "metadata": {},
   "outputs": [
    {
     "output_type": "stream",
     "name": "stdout",
     "text": "sparse matrix shape: (3111, 25714)\nnonzero count: 107694\nsparsity: 0.13%\n"
    }
   ],
   "source": [
    "cvec_counts = cvec.transform(df['titulo'])\n",
    "print('sparse matrix shape:', cvec_counts.shape)\n",
    "print('nonzero count:', cvec_counts.nnz)\n",
    "print('sparsity: %.2f%%' % (100.0 * cvec_counts.nnz / (cvec_counts.shape[0] * cvec_counts.shape[1])))"
   ]
  },
  {
   "cell_type": "code",
   "execution_count": 8,
   "metadata": {},
   "outputs": [
    {
     "output_type": "execute_result",
     "data": {
      "text/plain": "            term  occurrences\n5830        data          576\n1561    approach          523\n22328      studi          476\n717    algorithm          434\n12774      learn          407\n21471    softwar          400\n1464      applic          368\n8422       evalu          354\n18155    problem          351\n14114     method          331\n6478      detect          320\n16506      optim          299\n18254    process          297\n6628     develop          290\n11219       imag          282\n5257     control          281\n4825      comput          279\n4027     classif          256\n6386      design          255\n11435     improv          238",
      "text/html": "<div>\n<style scoped>\n    .dataframe tbody tr th:only-of-type {\n        vertical-align: middle;\n    }\n\n    .dataframe tbody tr th {\n        vertical-align: top;\n    }\n\n    .dataframe thead th {\n        text-align: right;\n    }\n</style>\n<table border=\"1\" class=\"dataframe\">\n  <thead>\n    <tr style=\"text-align: right;\">\n      <th></th>\n      <th>term</th>\n      <th>occurrences</th>\n    </tr>\n  </thead>\n  <tbody>\n    <tr>\n      <th>5830</th>\n      <td>data</td>\n      <td>576</td>\n    </tr>\n    <tr>\n      <th>1561</th>\n      <td>approach</td>\n      <td>523</td>\n    </tr>\n    <tr>\n      <th>22328</th>\n      <td>studi</td>\n      <td>476</td>\n    </tr>\n    <tr>\n      <th>717</th>\n      <td>algorithm</td>\n      <td>434</td>\n    </tr>\n    <tr>\n      <th>12774</th>\n      <td>learn</td>\n      <td>407</td>\n    </tr>\n    <tr>\n      <th>21471</th>\n      <td>softwar</td>\n      <td>400</td>\n    </tr>\n    <tr>\n      <th>1464</th>\n      <td>applic</td>\n      <td>368</td>\n    </tr>\n    <tr>\n      <th>8422</th>\n      <td>evalu</td>\n      <td>354</td>\n    </tr>\n    <tr>\n      <th>18155</th>\n      <td>problem</td>\n      <td>351</td>\n    </tr>\n    <tr>\n      <th>14114</th>\n      <td>method</td>\n      <td>331</td>\n    </tr>\n    <tr>\n      <th>6478</th>\n      <td>detect</td>\n      <td>320</td>\n    </tr>\n    <tr>\n      <th>16506</th>\n      <td>optim</td>\n      <td>299</td>\n    </tr>\n    <tr>\n      <th>18254</th>\n      <td>process</td>\n      <td>297</td>\n    </tr>\n    <tr>\n      <th>6628</th>\n      <td>develop</td>\n      <td>290</td>\n    </tr>\n    <tr>\n      <th>11219</th>\n      <td>imag</td>\n      <td>282</td>\n    </tr>\n    <tr>\n      <th>5257</th>\n      <td>control</td>\n      <td>281</td>\n    </tr>\n    <tr>\n      <th>4825</th>\n      <td>comput</td>\n      <td>279</td>\n    </tr>\n    <tr>\n      <th>4027</th>\n      <td>classif</td>\n      <td>256</td>\n    </tr>\n    <tr>\n      <th>6386</th>\n      <td>design</td>\n      <td>255</td>\n    </tr>\n    <tr>\n      <th>11435</th>\n      <td>improv</td>\n      <td>238</td>\n    </tr>\n  </tbody>\n</table>\n</div>"
     },
     "metadata": {},
     "execution_count": 8
    }
   ],
   "source": [
    "occ = np.asarray(cvec_counts.sum(axis=0)).ravel().tolist()\n",
    "counts_df = pd.DataFrame({'term': cvec.get_feature_names(), 'occurrences': occ})\n",
    "counts_df.sort_values(by='occurrences', ascending=False).head(20)"
   ]
  },
  {
   "cell_type": "code",
   "execution_count": 9,
   "metadata": {},
   "outputs": [
    {
     "output_type": "execute_result",
     "data": {
      "text/plain": "<3111x25714 sparse matrix of type '<class 'numpy.float64'>'\n\twith 107694 stored elements in Compressed Sparse Row format>"
     },
     "metadata": {},
     "execution_count": 9
    }
   ],
   "source": [
    "transformer = TfidfTransformer()\n",
    "transformed_weights = transformer.fit_transform(cvec_counts)\n",
    "transformed_weights"
   ]
  },
  {
   "cell_type": "code",
   "execution_count": 10,
   "metadata": {},
   "outputs": [
    {
     "output_type": "execute_result",
     "data": {
      "text/plain": "            term    weight\n5830        data  0.012218\n1561    approach  0.011334\n22328      studi  0.010269\n717    algorithm  0.010018\n12774      learn  0.009732\n21471    softwar  0.008948\n18155    problem  0.008689\n1464      applic  0.008523\n14114     method  0.008353\n6478      detect  0.007915\n6628     develop  0.007849\n5257     control  0.007844\n8422       evalu  0.007814\n18254    process  0.007640\n16506      optim  0.007478\n4825      comput  0.007190\n11219       imag  0.006983\n6386      design  0.006841\n21150      simul  0.006717\n13501      manag  0.006185",
      "text/html": "<div>\n<style scoped>\n    .dataframe tbody tr th:only-of-type {\n        vertical-align: middle;\n    }\n\n    .dataframe tbody tr th {\n        vertical-align: top;\n    }\n\n    .dataframe thead th {\n        text-align: right;\n    }\n</style>\n<table border=\"1\" class=\"dataframe\">\n  <thead>\n    <tr style=\"text-align: right;\">\n      <th></th>\n      <th>term</th>\n      <th>weight</th>\n    </tr>\n  </thead>\n  <tbody>\n    <tr>\n      <th>5830</th>\n      <td>data</td>\n      <td>0.012218</td>\n    </tr>\n    <tr>\n      <th>1561</th>\n      <td>approach</td>\n      <td>0.011334</td>\n    </tr>\n    <tr>\n      <th>22328</th>\n      <td>studi</td>\n      <td>0.010269</td>\n    </tr>\n    <tr>\n      <th>717</th>\n      <td>algorithm</td>\n      <td>0.010018</td>\n    </tr>\n    <tr>\n      <th>12774</th>\n      <td>learn</td>\n      <td>0.009732</td>\n    </tr>\n    <tr>\n      <th>21471</th>\n      <td>softwar</td>\n      <td>0.008948</td>\n    </tr>\n    <tr>\n      <th>18155</th>\n      <td>problem</td>\n      <td>0.008689</td>\n    </tr>\n    <tr>\n      <th>1464</th>\n      <td>applic</td>\n      <td>0.008523</td>\n    </tr>\n    <tr>\n      <th>14114</th>\n      <td>method</td>\n      <td>0.008353</td>\n    </tr>\n    <tr>\n      <th>6478</th>\n      <td>detect</td>\n      <td>0.007915</td>\n    </tr>\n    <tr>\n      <th>6628</th>\n      <td>develop</td>\n      <td>0.007849</td>\n    </tr>\n    <tr>\n      <th>5257</th>\n      <td>control</td>\n      <td>0.007844</td>\n    </tr>\n    <tr>\n      <th>8422</th>\n      <td>evalu</td>\n      <td>0.007814</td>\n    </tr>\n    <tr>\n      <th>18254</th>\n      <td>process</td>\n      <td>0.007640</td>\n    </tr>\n    <tr>\n      <th>16506</th>\n      <td>optim</td>\n      <td>0.007478</td>\n    </tr>\n    <tr>\n      <th>4825</th>\n      <td>comput</td>\n      <td>0.007190</td>\n    </tr>\n    <tr>\n      <th>11219</th>\n      <td>imag</td>\n      <td>0.006983</td>\n    </tr>\n    <tr>\n      <th>6386</th>\n      <td>design</td>\n      <td>0.006841</td>\n    </tr>\n    <tr>\n      <th>21150</th>\n      <td>simul</td>\n      <td>0.006717</td>\n    </tr>\n    <tr>\n      <th>13501</th>\n      <td>manag</td>\n      <td>0.006185</td>\n    </tr>\n  </tbody>\n</table>\n</div>"
     },
     "metadata": {},
     "execution_count": 10
    }
   ],
   "source": [
    "weights = np.asarray(transformed_weights.mean(axis=0)).ravel().tolist()\n",
    "weights_df = pd.DataFrame({'term': cvec.get_feature_names(), 'weight': weights})\n",
    "weights_df.sort_values(by='weight', ascending=False).head(20)"
   ]
  },
  {
   "cell_type": "code",
   "execution_count": 11,
   "metadata": {},
   "outputs": [
    {
     "output_type": "execute_result",
     "data": {
      "text/plain": "       02  03h1  03h1 proteobacterium  03h1 proteobacterium obtain   10  \\\n0     0.0   0.0                   0.0                          0.0  0.0   \n1     0.0   0.0                   0.0                          0.0  0.0   \n2     0.0   0.0                   0.0                          0.0  0.0   \n3     0.0   0.0                   0.0                          0.0  0.0   \n4     0.0   0.0                   0.0                          0.0  0.0   \n...   ...   ...                   ...                          ...  ...   \n3106  0.0   0.0                   0.0                          0.0  0.0   \n3107  0.0   0.0                   0.0                          0.0  0.0   \n3108  0.0   0.0                   0.0                          0.0  0.0   \n3109  0.0   0.0                   0.0                          0.0  0.0   \n3110  0.0   0.0                   0.0                          0.0  0.0   \n\n      10 1007  100  1000  1000 genom  1000 genom databas  ...  \\\n0         0.0  0.0   0.0         0.0                 0.0  ...   \n1         0.0  0.0   0.0         0.0                 0.0  ...   \n2         0.0  0.0   0.0         0.0                 0.0  ...   \n3         0.0  0.0   0.0         0.0                 0.0  ...   \n4         0.0  0.0   0.0         0.0                 0.0  ...   \n...       ...  ...   ...         ...                 ...  ...   \n3106      0.0  0.0   0.0         0.0                 0.0  ...   \n3107      0.0  0.0   0.0         0.0                 0.0  ...   \n3108      0.0  0.0   0.0         0.0                 0.0  ...   \n3109      0.0  0.0   0.0         0.0                 0.0  ...   \n3110      0.0  0.0   0.0         0.0                 0.0  ...   \n\n      µbrkga parallel bias  água  área  árvore   éu  único  único saúd  \\\n0                      0.0   0.0   0.0     0.0  0.0    0.0         0.0   \n1                      0.0   0.0   0.0     0.0  0.0    0.0         0.0   \n2                      0.0   0.0   0.0     0.0  0.0    0.0         0.0   \n3                      0.0   0.0   0.0     0.0  0.0    0.0         0.0   \n4                      0.0   0.0   0.0     0.0  0.0    0.0         0.0   \n...                    ...   ...   ...     ...  ...    ...         ...   \n3106                   0.0   0.0   0.0     0.0  0.0    0.0         0.0   \n3107                   0.0   0.0   0.0     0.0  0.0    0.0         0.0   \n3108                   0.0   0.0   0.0     0.0  0.0    0.0         0.0   \n3109                   0.0   0.0   0.0     0.0  0.0    0.0         0.0   \n3110                   0.0   0.0   0.0     0.0  0.0    0.0         0.0   \n\n      βglucosidas  βglucosidas use  βglucosidas use biofuel  \n0             0.0              0.0                      0.0  \n1             0.0              0.0                      0.0  \n2             0.0              0.0                      0.0  \n3             0.0              0.0                      0.0  \n4             0.0              0.0                      0.0  \n...           ...              ...                      ...  \n3106          0.0              0.0                      0.0  \n3107          0.0              0.0                      0.0  \n3108          0.0              0.0                      0.0  \n3109          0.0              0.0                      0.0  \n3110          0.0              0.0                      0.0  \n\n[3111 rows x 25714 columns]",
      "text/html": "<div>\n<style scoped>\n    .dataframe tbody tr th:only-of-type {\n        vertical-align: middle;\n    }\n\n    .dataframe tbody tr th {\n        vertical-align: top;\n    }\n\n    .dataframe thead th {\n        text-align: right;\n    }\n</style>\n<table border=\"1\" class=\"dataframe\">\n  <thead>\n    <tr style=\"text-align: right;\">\n      <th></th>\n      <th>02</th>\n      <th>03h1</th>\n      <th>03h1 proteobacterium</th>\n      <th>03h1 proteobacterium obtain</th>\n      <th>10</th>\n      <th>10 1007</th>\n      <th>100</th>\n      <th>1000</th>\n      <th>1000 genom</th>\n      <th>1000 genom databas</th>\n      <th>...</th>\n      <th>µbrkga parallel bias</th>\n      <th>água</th>\n      <th>área</th>\n      <th>árvore</th>\n      <th>éu</th>\n      <th>único</th>\n      <th>único saúd</th>\n      <th>βglucosidas</th>\n      <th>βglucosidas use</th>\n      <th>βglucosidas use biofuel</th>\n    </tr>\n  </thead>\n  <tbody>\n    <tr>\n      <th>0</th>\n      <td>0.0</td>\n      <td>0.0</td>\n      <td>0.0</td>\n      <td>0.0</td>\n      <td>0.0</td>\n      <td>0.0</td>\n      <td>0.0</td>\n      <td>0.0</td>\n      <td>0.0</td>\n      <td>0.0</td>\n      <td>...</td>\n      <td>0.0</td>\n      <td>0.0</td>\n      <td>0.0</td>\n      <td>0.0</td>\n      <td>0.0</td>\n      <td>0.0</td>\n      <td>0.0</td>\n      <td>0.0</td>\n      <td>0.0</td>\n      <td>0.0</td>\n    </tr>\n    <tr>\n      <th>1</th>\n      <td>0.0</td>\n      <td>0.0</td>\n      <td>0.0</td>\n      <td>0.0</td>\n      <td>0.0</td>\n      <td>0.0</td>\n      <td>0.0</td>\n      <td>0.0</td>\n      <td>0.0</td>\n      <td>0.0</td>\n      <td>...</td>\n      <td>0.0</td>\n      <td>0.0</td>\n      <td>0.0</td>\n      <td>0.0</td>\n      <td>0.0</td>\n      <td>0.0</td>\n      <td>0.0</td>\n      <td>0.0</td>\n      <td>0.0</td>\n      <td>0.0</td>\n    </tr>\n    <tr>\n      <th>2</th>\n      <td>0.0</td>\n      <td>0.0</td>\n      <td>0.0</td>\n      <td>0.0</td>\n      <td>0.0</td>\n      <td>0.0</td>\n      <td>0.0</td>\n      <td>0.0</td>\n      <td>0.0</td>\n      <td>0.0</td>\n      <td>...</td>\n      <td>0.0</td>\n      <td>0.0</td>\n      <td>0.0</td>\n      <td>0.0</td>\n      <td>0.0</td>\n      <td>0.0</td>\n      <td>0.0</td>\n      <td>0.0</td>\n      <td>0.0</td>\n      <td>0.0</td>\n    </tr>\n    <tr>\n      <th>3</th>\n      <td>0.0</td>\n      <td>0.0</td>\n      <td>0.0</td>\n      <td>0.0</td>\n      <td>0.0</td>\n      <td>0.0</td>\n      <td>0.0</td>\n      <td>0.0</td>\n      <td>0.0</td>\n      <td>0.0</td>\n      <td>...</td>\n      <td>0.0</td>\n      <td>0.0</td>\n      <td>0.0</td>\n      <td>0.0</td>\n      <td>0.0</td>\n      <td>0.0</td>\n      <td>0.0</td>\n      <td>0.0</td>\n      <td>0.0</td>\n      <td>0.0</td>\n    </tr>\n    <tr>\n      <th>4</th>\n      <td>0.0</td>\n      <td>0.0</td>\n      <td>0.0</td>\n      <td>0.0</td>\n      <td>0.0</td>\n      <td>0.0</td>\n      <td>0.0</td>\n      <td>0.0</td>\n      <td>0.0</td>\n      <td>0.0</td>\n      <td>...</td>\n      <td>0.0</td>\n      <td>0.0</td>\n      <td>0.0</td>\n      <td>0.0</td>\n      <td>0.0</td>\n      <td>0.0</td>\n      <td>0.0</td>\n      <td>0.0</td>\n      <td>0.0</td>\n      <td>0.0</td>\n    </tr>\n    <tr>\n      <th>...</th>\n      <td>...</td>\n      <td>...</td>\n      <td>...</td>\n      <td>...</td>\n      <td>...</td>\n      <td>...</td>\n      <td>...</td>\n      <td>...</td>\n      <td>...</td>\n      <td>...</td>\n      <td>...</td>\n      <td>...</td>\n      <td>...</td>\n      <td>...</td>\n      <td>...</td>\n      <td>...</td>\n      <td>...</td>\n      <td>...</td>\n      <td>...</td>\n      <td>...</td>\n      <td>...</td>\n    </tr>\n    <tr>\n      <th>3106</th>\n      <td>0.0</td>\n      <td>0.0</td>\n      <td>0.0</td>\n      <td>0.0</td>\n      <td>0.0</td>\n      <td>0.0</td>\n      <td>0.0</td>\n      <td>0.0</td>\n      <td>0.0</td>\n      <td>0.0</td>\n      <td>...</td>\n      <td>0.0</td>\n      <td>0.0</td>\n      <td>0.0</td>\n      <td>0.0</td>\n      <td>0.0</td>\n      <td>0.0</td>\n      <td>0.0</td>\n      <td>0.0</td>\n      <td>0.0</td>\n      <td>0.0</td>\n    </tr>\n    <tr>\n      <th>3107</th>\n      <td>0.0</td>\n      <td>0.0</td>\n      <td>0.0</td>\n      <td>0.0</td>\n      <td>0.0</td>\n      <td>0.0</td>\n      <td>0.0</td>\n      <td>0.0</td>\n      <td>0.0</td>\n      <td>0.0</td>\n      <td>...</td>\n      <td>0.0</td>\n      <td>0.0</td>\n      <td>0.0</td>\n      <td>0.0</td>\n      <td>0.0</td>\n      <td>0.0</td>\n      <td>0.0</td>\n      <td>0.0</td>\n      <td>0.0</td>\n      <td>0.0</td>\n    </tr>\n    <tr>\n      <th>3108</th>\n      <td>0.0</td>\n      <td>0.0</td>\n      <td>0.0</td>\n      <td>0.0</td>\n      <td>0.0</td>\n      <td>0.0</td>\n      <td>0.0</td>\n      <td>0.0</td>\n      <td>0.0</td>\n      <td>0.0</td>\n      <td>...</td>\n      <td>0.0</td>\n      <td>0.0</td>\n      <td>0.0</td>\n      <td>0.0</td>\n      <td>0.0</td>\n      <td>0.0</td>\n      <td>0.0</td>\n      <td>0.0</td>\n      <td>0.0</td>\n      <td>0.0</td>\n    </tr>\n    <tr>\n      <th>3109</th>\n      <td>0.0</td>\n      <td>0.0</td>\n      <td>0.0</td>\n      <td>0.0</td>\n      <td>0.0</td>\n      <td>0.0</td>\n      <td>0.0</td>\n      <td>0.0</td>\n      <td>0.0</td>\n      <td>0.0</td>\n      <td>...</td>\n      <td>0.0</td>\n      <td>0.0</td>\n      <td>0.0</td>\n      <td>0.0</td>\n      <td>0.0</td>\n      <td>0.0</td>\n      <td>0.0</td>\n      <td>0.0</td>\n      <td>0.0</td>\n      <td>0.0</td>\n    </tr>\n    <tr>\n      <th>3110</th>\n      <td>0.0</td>\n      <td>0.0</td>\n      <td>0.0</td>\n      <td>0.0</td>\n      <td>0.0</td>\n      <td>0.0</td>\n      <td>0.0</td>\n      <td>0.0</td>\n      <td>0.0</td>\n      <td>0.0</td>\n      <td>...</td>\n      <td>0.0</td>\n      <td>0.0</td>\n      <td>0.0</td>\n      <td>0.0</td>\n      <td>0.0</td>\n      <td>0.0</td>\n      <td>0.0</td>\n      <td>0.0</td>\n      <td>0.0</td>\n      <td>0.0</td>\n    </tr>\n  </tbody>\n</table>\n<p>3111 rows × 25714 columns</p>\n</div>"
     },
     "metadata": {},
     "execution_count": 11
    }
   ],
   "source": [
    "pd.DataFrame(transformed_weights.toarray(), columns=cvec.get_feature_names())"
   ]
  },
  {
   "cell_type": "code",
   "execution_count": null,
   "metadata": {},
   "outputs": [],
   "source": []
  }
 ],
 "metadata": {
  "language_info": {
   "codemirror_mode": {
    "name": "ipython",
    "version": 3
   },
   "file_extension": ".py",
   "mimetype": "text/x-python",
   "name": "python",
   "nbconvert_exporter": "python",
   "pygments_lexer": "ipython3",
   "version": "3.8.2-final"
  },
  "orig_nbformat": 2,
  "kernelspec": {
   "name": "python38264bitvenvvenv2bbc39647f214cc383d5c83f858d10a1",
   "display_name": "Python 3.8.2 64-bit ('.venv': venv)"
  }
 },
 "nbformat": 4,
 "nbformat_minor": 2
}