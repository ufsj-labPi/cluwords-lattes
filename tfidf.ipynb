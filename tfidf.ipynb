{
 "cells": [
  {
   "cell_type": "code",
   "execution_count": 1,
   "metadata": {},
   "outputs": [],
   "source": [
    "import pandas as pd\n",
    "import numpy as np\n",
    "from itertools import islice\n",
    "from nltk.stem.snowball import SnowballStemmer\n",
    "from sklearn.feature_extraction.text import CountVectorizer\n",
    "from sklearn.feature_extraction.text import TfidfTransformer\n",
    "from sklearn.decomposition import NMF"
   ]
  },
  {
   "cell_type": "code",
   "execution_count": 2,
   "metadata": {},
   "outputs": [],
   "source": [
    "select_year = 2017\n",
    "input = './data/out/%dpreprocess.csv.xz' % select_year"
   ]
  },
  {
   "cell_type": "code",
   "execution_count": 3,
   "metadata": {},
   "outputs": [
    {
     "output_type": "stream",
     "name": "stdout",
     "text": "<class 'pandas.core.frame.DataFrame'>\nRangeIndex: 3055 entries, 0 to 3054\nData columns (total 1 columns):\n #   Column  Non-Null Count  Dtype \n---  ------  --------------  ----- \n 0   titulo  3055 non-null   object\ndtypes: object(1)\nmemory usage: 24.0+ KB\n"
    }
   ],
   "source": [
    "df = pd.read_csv(input, compression='xz')\n",
    "df.info()"
   ]
  },
  {
   "cell_type": "code",
   "execution_count": 4,
   "metadata": {},
   "outputs": [],
   "source": [
    "stemmer = SnowballStemmer(\"english\")\n",
    "df['titulo'] = df['titulo'].map(lambda x: ' '.join([stemmer.stem(y) for y in x.split(' ')]))"
   ]
  },
  {
   "cell_type": "code",
   "execution_count": 5,
   "metadata": {},
   "outputs": [
    {
     "output_type": "execute_result",
     "data": {
      "text/plain": "[('exploit', 566),\n ('locat', 890),\n ('direct', 453),\n ('bas', 138),\n ('discoveri', 455),\n ('gold', 674),\n ('standard', 1496),\n ('social', 1445),\n ('media', 935),\n ('corpus', 348),\n ('urban', 1651),\n ('issu', 824),\n ('framework', 629),\n ('spatial', 1478),\n ('analyt', 65),\n ('use', 1654),\n ('heterogen', 706),\n ('data', 383),\n ('sourc', 1468),\n ('social media', 1446)]"
     },
     "metadata": {},
     "execution_count": 5
    }
   ],
   "source": [
    "# Initialize the vectorizer with new settings and check the new vocabulary length\n",
    "cvec = CountVectorizer(stop_words='english', min_df=.0025, max_df=.5, ngram_range=(1,2))\n",
    "cvec.fit(df['titulo'])\n",
    "list(islice(cvec.vocabulary_.items(), 20))\n",
    "#len(cvec.vocabulary_)"
   ]
  },
  {
   "cell_type": "code",
   "execution_count": 6,
   "metadata": {},
   "outputs": [
    {
     "output_type": "execute_result",
     "data": {
      "text/plain": "1738"
     },
     "metadata": {},
     "execution_count": 6
    }
   ],
   "source": [
    "len(cvec.vocabulary_)"
   ]
  },
  {
   "cell_type": "code",
   "execution_count": 7,
   "metadata": {},
   "outputs": [
    {
     "output_type": "stream",
     "name": "stdout",
     "text": "sparse matrix shape: (3055, 1738)\nnonzero count: 52768\nsparsity: 0.99%\n"
    }
   ],
   "source": [
    "cvec_counts = cvec.transform(df['titulo'])\n",
    "print('sparse matrix shape:', cvec_counts.shape)\n",
    "print('nonzero count:', cvec_counts.nnz)\n",
    "print('sparsity: %.2f%%' % (100.0 * cvec_counts.nnz / (cvec_counts.shape[0] * cvec_counts.shape[1])))"
   ]
  },
  {
   "cell_type": "code",
   "execution_count": 8,
   "metadata": {},
   "outputs": [
    {
     "output_type": "execute_result",
     "data": {
      "text/plain": "           term  occurrences\n1654        use         1131\n978       model          856\n1031    network          765\n61      analysi          706\n144        base          636\n383        data          592\n138         bas          568\n81     approach          522\n1520      studi          472\n46    algorithm          433\n856       learn          431\n1449    softwar          385\n79       applic          368\n1205    problem          356\n547       evalu          353\n950      method          334\n430      detect          320\n1208    process          308\n1001      multi          299\n1086      optim          296",
      "text/html": "<div>\n<style scoped>\n    .dataframe tbody tr th:only-of-type {\n        vertical-align: middle;\n    }\n\n    .dataframe tbody tr th {\n        vertical-align: top;\n    }\n\n    .dataframe thead th {\n        text-align: right;\n    }\n</style>\n<table border=\"1\" class=\"dataframe\">\n  <thead>\n    <tr style=\"text-align: right;\">\n      <th></th>\n      <th>term</th>\n      <th>occurrences</th>\n    </tr>\n  </thead>\n  <tbody>\n    <tr>\n      <th>1654</th>\n      <td>use</td>\n      <td>1131</td>\n    </tr>\n    <tr>\n      <th>978</th>\n      <td>model</td>\n      <td>856</td>\n    </tr>\n    <tr>\n      <th>1031</th>\n      <td>network</td>\n      <td>765</td>\n    </tr>\n    <tr>\n      <th>61</th>\n      <td>analysi</td>\n      <td>706</td>\n    </tr>\n    <tr>\n      <th>144</th>\n      <td>base</td>\n      <td>636</td>\n    </tr>\n    <tr>\n      <th>383</th>\n      <td>data</td>\n      <td>592</td>\n    </tr>\n    <tr>\n      <th>138</th>\n      <td>bas</td>\n      <td>568</td>\n    </tr>\n    <tr>\n      <th>81</th>\n      <td>approach</td>\n      <td>522</td>\n    </tr>\n    <tr>\n      <th>1520</th>\n      <td>studi</td>\n      <td>472</td>\n    </tr>\n    <tr>\n      <th>46</th>\n      <td>algorithm</td>\n      <td>433</td>\n    </tr>\n    <tr>\n      <th>856</th>\n      <td>learn</td>\n      <td>431</td>\n    </tr>\n    <tr>\n      <th>1449</th>\n      <td>softwar</td>\n      <td>385</td>\n    </tr>\n    <tr>\n      <th>79</th>\n      <td>applic</td>\n      <td>368</td>\n    </tr>\n    <tr>\n      <th>1205</th>\n      <td>problem</td>\n      <td>356</td>\n    </tr>\n    <tr>\n      <th>547</th>\n      <td>evalu</td>\n      <td>353</td>\n    </tr>\n    <tr>\n      <th>950</th>\n      <td>method</td>\n      <td>334</td>\n    </tr>\n    <tr>\n      <th>430</th>\n      <td>detect</td>\n      <td>320</td>\n    </tr>\n    <tr>\n      <th>1208</th>\n      <td>process</td>\n      <td>308</td>\n    </tr>\n    <tr>\n      <th>1001</th>\n      <td>multi</td>\n      <td>299</td>\n    </tr>\n    <tr>\n      <th>1086</th>\n      <td>optim</td>\n      <td>296</td>\n    </tr>\n  </tbody>\n</table>\n</div>"
     },
     "metadata": {},
     "execution_count": 8
    }
   ],
   "source": [
    "occ = np.asarray(cvec_counts.sum(axis=0)).ravel().tolist()\n",
    "counts_df = pd.DataFrame({'term': cvec.get_feature_names(), 'occurrences': occ})\n",
    "counts_df.sort_values(by='occurrences', ascending=False).head(20)"
   ]
  },
  {
   "cell_type": "code",
   "execution_count": 9,
   "metadata": {},
   "outputs": [
    {
     "output_type": "execute_result",
     "data": {
      "text/plain": "<3055x1738 sparse matrix of type '<class 'numpy.float64'>'\n\twith 52768 stored elements in Compressed Sparse Row format>"
     },
     "metadata": {},
     "execution_count": 9
    }
   ],
   "source": [
    "transformer = TfidfTransformer()\n",
    "transformed_weights = transformer.fit_transform(cvec_counts)\n",
    "transformed_weights"
   ]
  },
  {
   "cell_type": "code",
   "execution_count": 10,
   "metadata": {},
   "outputs": [
    {
     "output_type": "execute_result",
     "data": {
      "text/plain": "           term    weight\n1654        use  0.030496\n978       model  0.026791\n1031    network  0.024483\n61      analysi  0.022708\n383        data  0.020849\n144        base  0.020660\n138         bas  0.018881\n81     approach  0.018515\n1520      studi  0.016754\n46    algorithm  0.016510\n856       learn  0.016475\n1205    problem  0.014730\n1449    softwar  0.014233\n950      method  0.014200\n79       applic  0.014138\n430      detect  0.013297\n547       evalu  0.013149\n436     develop  0.012719\n1208    process  0.012612\n298      comput  0.012434",
      "text/html": "<div>\n<style scoped>\n    .dataframe tbody tr th:only-of-type {\n        vertical-align: middle;\n    }\n\n    .dataframe tbody tr th {\n        vertical-align: top;\n    }\n\n    .dataframe thead th {\n        text-align: right;\n    }\n</style>\n<table border=\"1\" class=\"dataframe\">\n  <thead>\n    <tr style=\"text-align: right;\">\n      <th></th>\n      <th>term</th>\n      <th>weight</th>\n    </tr>\n  </thead>\n  <tbody>\n    <tr>\n      <th>1654</th>\n      <td>use</td>\n      <td>0.030496</td>\n    </tr>\n    <tr>\n      <th>978</th>\n      <td>model</td>\n      <td>0.026791</td>\n    </tr>\n    <tr>\n      <th>1031</th>\n      <td>network</td>\n      <td>0.024483</td>\n    </tr>\n    <tr>\n      <th>61</th>\n      <td>analysi</td>\n      <td>0.022708</td>\n    </tr>\n    <tr>\n      <th>383</th>\n      <td>data</td>\n      <td>0.020849</td>\n    </tr>\n    <tr>\n      <th>144</th>\n      <td>base</td>\n      <td>0.020660</td>\n    </tr>\n    <tr>\n      <th>138</th>\n      <td>bas</td>\n      <td>0.018881</td>\n    </tr>\n    <tr>\n      <th>81</th>\n      <td>approach</td>\n      <td>0.018515</td>\n    </tr>\n    <tr>\n      <th>1520</th>\n      <td>studi</td>\n      <td>0.016754</td>\n    </tr>\n    <tr>\n      <th>46</th>\n      <td>algorithm</td>\n      <td>0.016510</td>\n    </tr>\n    <tr>\n      <th>856</th>\n      <td>learn</td>\n      <td>0.016475</td>\n    </tr>\n    <tr>\n      <th>1205</th>\n      <td>problem</td>\n      <td>0.014730</td>\n    </tr>\n    <tr>\n      <th>1449</th>\n      <td>softwar</td>\n      <td>0.014233</td>\n    </tr>\n    <tr>\n      <th>950</th>\n      <td>method</td>\n      <td>0.014200</td>\n    </tr>\n    <tr>\n      <th>79</th>\n      <td>applic</td>\n      <td>0.014138</td>\n    </tr>\n    <tr>\n      <th>430</th>\n      <td>detect</td>\n      <td>0.013297</td>\n    </tr>\n    <tr>\n      <th>547</th>\n      <td>evalu</td>\n      <td>0.013149</td>\n    </tr>\n    <tr>\n      <th>436</th>\n      <td>develop</td>\n      <td>0.012719</td>\n    </tr>\n    <tr>\n      <th>1208</th>\n      <td>process</td>\n      <td>0.012612</td>\n    </tr>\n    <tr>\n      <th>298</th>\n      <td>comput</td>\n      <td>0.012434</td>\n    </tr>\n  </tbody>\n</table>\n</div>"
     },
     "metadata": {},
     "execution_count": 10
    }
   ],
   "source": [
    "weights = np.asarray(transformed_weights.mean(axis=0)).ravel().tolist()\n",
    "weights_df = pd.DataFrame({'term': cvec.get_feature_names(), 'weight': weights})\n",
    "weights_df.sort_values(by='weight', ascending=False).head(20)"
   ]
  },
  {
   "cell_type": "code",
   "execution_count": 11,
   "metadata": {},
   "outputs": [
    {
     "output_type": "stream",
     "name": "stdout",
     "text": "Topic 1: improv,perform,adapt,architectur,applic,effici,optim,design,approach,bas\nTopic 2: project,softwar engin,studi,engin,softwar product,product line,line,test,product,softwar\nTopic 3: rout,object,schedul,heurist,multi,genet algorithm,optim,genet,algorithm,problem\nTopic 4: mobil,defin,power,rout,manag,sensor network,wireless sensor,wireless,sensor,network\nTopic 5: deep,recognit,classif,artifici neural,artifici,convolut neural,convolut,network,neural network,neural\nTopic 6: teach,machin learn,object,machin,learn object,virtual,learn environ,educ,environ,learn\nTopic 7: workflow,open data,scientif,big data,visual,stream,data stream,big,open,data\nTopic 8: use,public,tool,educ,studi brazilian,sustain,brazilian,case studi,case,studi\nTopic 9: integr,estim,busi process,conceptu,languag,model base,busi,ontolog,process,model\nTopic 10: larg,threshold,number,convex,complex,path,modal,edge,color,graph\nTopic 11: reveal,effect,identif,social network,network analysi,social,network,genom,gene,analysi\nTopic 12: interact,tool,mobil,estim,predict,3d,method,evalu,techniqu,use\nTopic 13: internet,privaci,perform,environ,secur,evalu,servic,cloud comput,comput,cloud\nTopic 14: design,systemat map,game,systemat review,map,systemat literatur,literatur review,literatur,review,systemat\nTopic 15: textur,classifi,featur select,automat,select,method,featur,segment,classif,imag\nTopic 16: model base,recognit,object,improv,ag,multi ag,function,multi,detect,base\nTopic 17: voltag,optim,autonom,identif,robust,fuzzi,busi process,busi,process,control\nTopic 18: sugarcan,soil,environment,plant,manag,assess,product,water,structur,brazil\nTopic 19: execut,applic,video,low,schedul,time,simul,real tim,real,tim\nTopic 20: challeng,teach,project,method,game,applic,agil,softwar develop,simul,develop\n"
    }
   ],
   "source": [
    "#pd.DataFrame(transformed_weights.toarray(), columns=cvec.get_feature_names())\n",
    "\n",
    "nmf = NMF(n_components=20, solver=\"mu\")\n",
    "idx_to_word = np.array(cvec.get_feature_names())\n",
    "W = nmf.fit_transform(transformed_weights)\n",
    "H = nmf.components_\n",
    "\n",
    "for i, topic in enumerate(H):\n",
    "    print(\"Topic {}: {}\".format(i + 1, \",\".join([str(x) for x in idx_to_word[topic.argsort()[-10:]]])))"
   ]
  },
  {
   "cell_type": "code",
   "execution_count": null,
   "metadata": {},
   "outputs": [],
   "source": []
  }
 ],
 "metadata": {
  "language_info": {
   "codemirror_mode": {
    "name": "ipython",
    "version": 3
   },
   "file_extension": ".py",
   "mimetype": "text/x-python",
   "name": "python",
   "nbconvert_exporter": "python",
   "pygments_lexer": "ipython3",
   "version": "3.8.2-final"
  },
  "orig_nbformat": 2,
  "kernelspec": {
   "name": "python38264bitvenvvenv2bbc39647f214cc383d5c83f858d10a1",
   "display_name": "Python 3.8.2 64-bit ('.venv': venv)"
  }
 },
 "nbformat": 4,
 "nbformat_minor": 2
}