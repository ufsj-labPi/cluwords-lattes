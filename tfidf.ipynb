{
 "cells": [
  {
   "cell_type": "code",
   "execution_count": 1,
   "metadata": {},
   "outputs": [],
   "source": [
    "import pandas as pd\n",
    "import numpy as np\n",
    "from itertools import islice\n",
    "from nltk.stem.snowball import SnowballStemmer\n",
    "from sklearn.feature_extraction.text import CountVectorizer\n",
    "from sklearn.feature_extraction.text import TfidfTransformer"
   ]
  },
  {
   "cell_type": "code",
   "execution_count": 2,
   "metadata": {},
   "outputs": [],
   "source": [
    "select_year = 2017\n",
    "input = './data/out/%dpreprocess.csv.xz' % select_year"
   ]
  },
  {
   "cell_type": "code",
   "execution_count": 3,
   "metadata": {},
   "outputs": [
    {
     "output_type": "stream",
     "name": "stdout",
     "text": "<class 'pandas.core.frame.DataFrame'>\nRangeIndex: 3111 entries, 0 to 3110\nData columns (total 1 columns):\n #   Column  Non-Null Count  Dtype \n---  ------  --------------  ----- \n 0   titulo  3111 non-null   object\ndtypes: object(1)\nmemory usage: 24.4+ KB\n"
    }
   ],
   "source": [
    "df = pd.read_csv(input, compression='xz')\n",
    "df.info()"
   ]
  },
  {
   "cell_type": "code",
   "execution_count": 4,
   "metadata": {},
   "outputs": [],
   "source": [
    "stemmer = SnowballStemmer(\"english\")\n",
    "df['titulo'] = df['titulo'].map(lambda x: ' '.join([stemmer.stem(y) for y in x.split(' ')]))"
   ]
  },
  {
   "cell_type": "code",
   "execution_count": 5,
   "metadata": {},
   "outputs": [
    {
     "output_type": "execute_result",
     "data": {
      "text/plain": "[('exploit', 583),\n ('locat', 913),\n ('direct', 464),\n ('bas', 140),\n ('discoveri', 466),\n ('gold', 694),\n ('standard', 1525),\n ('social', 1474),\n ('media', 958),\n ('corpus', 355),\n ('urban', 1681),\n ('issu', 845),\n ('framework', 647),\n ('spatial', 1507),\n ('analyt', 65),\n ('heterogen', 727),\n ('data', 393),\n ('sourc', 1497),\n ('social media', 1475),\n ('gene', 672)]"
     },
     "metadata": {},
     "execution_count": 5
    }
   ],
   "source": [
    "# Initialize the vectorizer with new settings and check the new vocabulary length\n",
    "cvec = CountVectorizer(stop_words='english', min_df=.0025, max_df=.15, ngram_range=(1,2))\n",
    "cvec.fit(df['titulo'])\n",
    "list(islice(cvec.vocabulary_.items(), 20))\n",
    "#len(cvec.vocabulary_)"
   ]
  },
  {
   "cell_type": "code",
   "execution_count": 6,
   "metadata": {},
   "outputs": [
    {
     "output_type": "execute_result",
     "data": {
      "text/plain": "1768"
     },
     "metadata": {},
     "execution_count": 6
    }
   ],
   "source": [
    "len(cvec.vocabulary_)"
   ]
  },
  {
   "cell_type": "code",
   "execution_count": 7,
   "metadata": {},
   "outputs": [
    {
     "output_type": "stream",
     "name": "stdout",
     "text": "sparse matrix shape: (3111, 1768)\nnonzero count: 50625\nsparsity: 0.92%\n"
    }
   ],
   "source": [
    "cvec_counts = cvec.transform(df['titulo'])\n",
    "print('sparse matrix shape:', cvec_counts.shape)\n",
    "print('nonzero count:', cvec_counts.nnz)\n",
    "print('sparsity: %.2f%%' % (100.0 * cvec_counts.nnz / (cvec_counts.shape[0] * cvec_counts.shape[1])))"
   ]
  },
  {
   "cell_type": "code",
   "execution_count": 8,
   "metadata": {},
   "outputs": [
    {
     "output_type": "execute_result",
     "data": {
      "text/plain": "           term  occurrences\n393        data          600\n140         bas          570\n83     approach          523\n1549      studi          476\n47    algorithm          434\n879       learn          432\n1478    softwar          401\n81       applic          368\n1226    problem          359\n564       evalu          355\n973      method          335\n441      detect          321\n1230    process          308\n1106      optim          301\n1023      multi          301\n303      comput          291\n447     develop          290\n340     control          289\n766        imag          283\n439      design          261",
      "text/html": "<div>\n<style scoped>\n    .dataframe tbody tr th:only-of-type {\n        vertical-align: middle;\n    }\n\n    .dataframe tbody tr th {\n        vertical-align: top;\n    }\n\n    .dataframe thead th {\n        text-align: right;\n    }\n</style>\n<table border=\"1\" class=\"dataframe\">\n  <thead>\n    <tr style=\"text-align: right;\">\n      <th></th>\n      <th>term</th>\n      <th>occurrences</th>\n    </tr>\n  </thead>\n  <tbody>\n    <tr>\n      <th>393</th>\n      <td>data</td>\n      <td>600</td>\n    </tr>\n    <tr>\n      <th>140</th>\n      <td>bas</td>\n      <td>570</td>\n    </tr>\n    <tr>\n      <th>83</th>\n      <td>approach</td>\n      <td>523</td>\n    </tr>\n    <tr>\n      <th>1549</th>\n      <td>studi</td>\n      <td>476</td>\n    </tr>\n    <tr>\n      <th>47</th>\n      <td>algorithm</td>\n      <td>434</td>\n    </tr>\n    <tr>\n      <th>879</th>\n      <td>learn</td>\n      <td>432</td>\n    </tr>\n    <tr>\n      <th>1478</th>\n      <td>softwar</td>\n      <td>401</td>\n    </tr>\n    <tr>\n      <th>81</th>\n      <td>applic</td>\n      <td>368</td>\n    </tr>\n    <tr>\n      <th>1226</th>\n      <td>problem</td>\n      <td>359</td>\n    </tr>\n    <tr>\n      <th>564</th>\n      <td>evalu</td>\n      <td>355</td>\n    </tr>\n    <tr>\n      <th>973</th>\n      <td>method</td>\n      <td>335</td>\n    </tr>\n    <tr>\n      <th>441</th>\n      <td>detect</td>\n      <td>321</td>\n    </tr>\n    <tr>\n      <th>1230</th>\n      <td>process</td>\n      <td>308</td>\n    </tr>\n    <tr>\n      <th>1106</th>\n      <td>optim</td>\n      <td>301</td>\n    </tr>\n    <tr>\n      <th>1023</th>\n      <td>multi</td>\n      <td>301</td>\n    </tr>\n    <tr>\n      <th>303</th>\n      <td>comput</td>\n      <td>291</td>\n    </tr>\n    <tr>\n      <th>447</th>\n      <td>develop</td>\n      <td>290</td>\n    </tr>\n    <tr>\n      <th>340</th>\n      <td>control</td>\n      <td>289</td>\n    </tr>\n    <tr>\n      <th>766</th>\n      <td>imag</td>\n      <td>283</td>\n    </tr>\n    <tr>\n      <th>439</th>\n      <td>design</td>\n      <td>261</td>\n    </tr>\n  </tbody>\n</table>\n</div>"
     },
     "metadata": {},
     "execution_count": 8
    }
   ],
   "source": [
    "occ = np.asarray(cvec_counts.sum(axis=0)).ravel().tolist()\n",
    "counts_df = pd.DataFrame({'term': cvec.get_feature_names(), 'occurrences': occ})\n",
    "counts_df.sort_values(by='occurrences', ascending=False).head(20)"
   ]
  },
  {
   "cell_type": "code",
   "execution_count": 9,
   "metadata": {},
   "outputs": [
    {
     "output_type": "execute_result",
     "data": {
      "text/plain": "<3111x1768 sparse matrix of type '<class 'numpy.float64'>'\n\twith 50625 stored elements in Compressed Sparse Row format>"
     },
     "metadata": {},
     "execution_count": 9
    }
   ],
   "source": [
    "transformer = TfidfTransformer()\n",
    "transformed_weights = transformer.fit_transform(cvec_counts)\n",
    "transformed_weights"
   ]
  },
  {
   "cell_type": "code",
   "execution_count": 10,
   "metadata": {},
   "outputs": [
    {
     "output_type": "execute_result",
     "data": {
      "text/plain": "           term    weight\n393        data  0.020894\n140         bas  0.018739\n83     approach  0.018344\n1549      studi  0.016634\n47    algorithm  0.016358\n879       learn  0.016252\n1478    softwar  0.014673\n1226    problem  0.014559\n973      method  0.014058\n81       applic  0.014042\n441      detect  0.013308\n564       evalu  0.013105\n447     develop  0.012622\n1230    process  0.012488\n303      comput  0.012288\n340     control  0.012268\n1106      optim  0.012232\n766        imag  0.011527\n1023      multi  0.011402\n439      design  0.011323",
      "text/html": "<div>\n<style scoped>\n    .dataframe tbody tr th:only-of-type {\n        vertical-align: middle;\n    }\n\n    .dataframe tbody tr th {\n        vertical-align: top;\n    }\n\n    .dataframe thead th {\n        text-align: right;\n    }\n</style>\n<table border=\"1\" class=\"dataframe\">\n  <thead>\n    <tr style=\"text-align: right;\">\n      <th></th>\n      <th>term</th>\n      <th>weight</th>\n    </tr>\n  </thead>\n  <tbody>\n    <tr>\n      <th>393</th>\n      <td>data</td>\n      <td>0.020894</td>\n    </tr>\n    <tr>\n      <th>140</th>\n      <td>bas</td>\n      <td>0.018739</td>\n    </tr>\n    <tr>\n      <th>83</th>\n      <td>approach</td>\n      <td>0.018344</td>\n    </tr>\n    <tr>\n      <th>1549</th>\n      <td>studi</td>\n      <td>0.016634</td>\n    </tr>\n    <tr>\n      <th>47</th>\n      <td>algorithm</td>\n      <td>0.016358</td>\n    </tr>\n    <tr>\n      <th>879</th>\n      <td>learn</td>\n      <td>0.016252</td>\n    </tr>\n    <tr>\n      <th>1478</th>\n      <td>softwar</td>\n      <td>0.014673</td>\n    </tr>\n    <tr>\n      <th>1226</th>\n      <td>problem</td>\n      <td>0.014559</td>\n    </tr>\n    <tr>\n      <th>973</th>\n      <td>method</td>\n      <td>0.014058</td>\n    </tr>\n    <tr>\n      <th>81</th>\n      <td>applic</td>\n      <td>0.014042</td>\n    </tr>\n    <tr>\n      <th>441</th>\n      <td>detect</td>\n      <td>0.013308</td>\n    </tr>\n    <tr>\n      <th>564</th>\n      <td>evalu</td>\n      <td>0.013105</td>\n    </tr>\n    <tr>\n      <th>447</th>\n      <td>develop</td>\n      <td>0.012622</td>\n    </tr>\n    <tr>\n      <th>1230</th>\n      <td>process</td>\n      <td>0.012488</td>\n    </tr>\n    <tr>\n      <th>303</th>\n      <td>comput</td>\n      <td>0.012288</td>\n    </tr>\n    <tr>\n      <th>340</th>\n      <td>control</td>\n      <td>0.012268</td>\n    </tr>\n    <tr>\n      <th>1106</th>\n      <td>optim</td>\n      <td>0.012232</td>\n    </tr>\n    <tr>\n      <th>766</th>\n      <td>imag</td>\n      <td>0.011527</td>\n    </tr>\n    <tr>\n      <th>1023</th>\n      <td>multi</td>\n      <td>0.011402</td>\n    </tr>\n    <tr>\n      <th>439</th>\n      <td>design</td>\n      <td>0.011323</td>\n    </tr>\n  </tbody>\n</table>\n</div>"
     },
     "metadata": {},
     "execution_count": 10
    }
   ],
   "source": [
    "weights = np.asarray(transformed_weights.mean(axis=0)).ravel().tolist()\n",
    "weights_df = pd.DataFrame({'term': cvec.get_feature_names(), 'weight': weights})\n",
    "weights_df.sort_values(by='weight', ascending=False).head(20)"
   ]
  },
  {
   "cell_type": "code",
   "execution_count": 11,
   "metadata": {},
   "outputs": [
    {
     "output_type": "execute_result",
     "data": {
      "text/plain": "       10   15  2015  2017        2d   3d  802  absolut  abstract   ac  ...  \\\n0     0.0  0.0   0.0   0.0  0.000000  0.0  0.0      0.0       0.0  0.0  ...   \n1     0.0  0.0   0.0   0.0  0.000000  0.0  0.0      0.0       0.0  0.0  ...   \n2     0.0  0.0   0.0   0.0  0.000000  0.0  0.0      0.0       0.0  0.0  ...   \n3     0.0  0.0   0.0   0.0  0.000000  0.0  0.0      0.0       0.0  0.0  ...   \n4     0.0  0.0   0.0   0.0  0.000000  0.0  0.0      0.0       0.0  0.0  ...   \n...   ...  ...   ...   ...       ...  ...  ...      ...       ...  ...  ...   \n3106  0.0  0.0   0.0   0.0  0.497197  0.0  0.0      0.0       0.0  0.0  ...   \n3107  0.0  0.0   0.0   0.0  0.000000  0.0  0.0      0.0       0.0  0.0  ...   \n3108  0.0  0.0   0.0   0.0  0.000000  0.0  0.0      0.0       0.0  0.0  ...   \n3109  0.0  0.0   0.0   0.0  0.000000  0.0  0.0      0.0       0.0  0.0  ...   \n3110  0.0  0.0   0.0   0.0  0.000000  0.0  0.0      0.0       0.0  0.0  ...   \n\n      women  word  work  workflow  workload  world  year  yield  zika  zone  \n0       0.0   0.0   0.0       0.0       0.0    0.0   0.0    0.0   0.0   0.0  \n1       0.0   0.0   0.0       0.0       0.0    0.0   0.0    0.0   0.0   0.0  \n2       0.0   0.0   0.0       0.0       0.0    0.0   0.0    0.0   0.0   0.0  \n3       0.0   0.0   0.0       0.0       0.0    0.0   0.0    0.0   0.0   0.0  \n4       0.0   0.0   0.0       0.0       0.0    0.0   0.0    0.0   0.0   0.0  \n...     ...   ...   ...       ...       ...    ...   ...    ...   ...   ...  \n3106    0.0   0.0   0.0       0.0       0.0    0.0   0.0    0.0   0.0   0.0  \n3107    0.0   0.0   0.0       0.0       0.0    0.0   0.0    0.0   0.0   0.0  \n3108    0.0   0.0   0.0       0.0       0.0    0.0   0.0    0.0   0.0   0.0  \n3109    0.0   0.0   0.0       0.0       0.0    0.0   0.0    0.0   0.0   0.0  \n3110    0.0   0.0   0.0       0.0       0.0    0.0   0.0    0.0   0.0   0.0  \n\n[3111 rows x 1768 columns]",
      "text/html": "<div>\n<style scoped>\n    .dataframe tbody tr th:only-of-type {\n        vertical-align: middle;\n    }\n\n    .dataframe tbody tr th {\n        vertical-align: top;\n    }\n\n    .dataframe thead th {\n        text-align: right;\n    }\n</style>\n<table border=\"1\" class=\"dataframe\">\n  <thead>\n    <tr style=\"text-align: right;\">\n      <th></th>\n      <th>10</th>\n      <th>15</th>\n      <th>2015</th>\n      <th>2017</th>\n      <th>2d</th>\n      <th>3d</th>\n      <th>802</th>\n      <th>absolut</th>\n      <th>abstract</th>\n      <th>ac</th>\n      <th>...</th>\n      <th>women</th>\n      <th>word</th>\n      <th>work</th>\n      <th>workflow</th>\n      <th>workload</th>\n      <th>world</th>\n      <th>year</th>\n      <th>yield</th>\n      <th>zika</th>\n      <th>zone</th>\n    </tr>\n  </thead>\n  <tbody>\n    <tr>\n      <th>0</th>\n      <td>0.0</td>\n      <td>0.0</td>\n      <td>0.0</td>\n      <td>0.0</td>\n      <td>0.000000</td>\n      <td>0.0</td>\n      <td>0.0</td>\n      <td>0.0</td>\n      <td>0.0</td>\n      <td>0.0</td>\n      <td>...</td>\n      <td>0.0</td>\n      <td>0.0</td>\n      <td>0.0</td>\n      <td>0.0</td>\n      <td>0.0</td>\n      <td>0.0</td>\n      <td>0.0</td>\n      <td>0.0</td>\n      <td>0.0</td>\n      <td>0.0</td>\n    </tr>\n    <tr>\n      <th>1</th>\n      <td>0.0</td>\n      <td>0.0</td>\n      <td>0.0</td>\n      <td>0.0</td>\n      <td>0.000000</td>\n      <td>0.0</td>\n      <td>0.0</td>\n      <td>0.0</td>\n      <td>0.0</td>\n      <td>0.0</td>\n      <td>...</td>\n      <td>0.0</td>\n      <td>0.0</td>\n      <td>0.0</td>\n      <td>0.0</td>\n      <td>0.0</td>\n      <td>0.0</td>\n      <td>0.0</td>\n      <td>0.0</td>\n      <td>0.0</td>\n      <td>0.0</td>\n    </tr>\n    <tr>\n      <th>2</th>\n      <td>0.0</td>\n      <td>0.0</td>\n      <td>0.0</td>\n      <td>0.0</td>\n      <td>0.000000</td>\n      <td>0.0</td>\n      <td>0.0</td>\n      <td>0.0</td>\n      <td>0.0</td>\n      <td>0.0</td>\n      <td>...</td>\n      <td>0.0</td>\n      <td>0.0</td>\n      <td>0.0</td>\n      <td>0.0</td>\n      <td>0.0</td>\n      <td>0.0</td>\n      <td>0.0</td>\n      <td>0.0</td>\n      <td>0.0</td>\n      <td>0.0</td>\n    </tr>\n    <tr>\n      <th>3</th>\n      <td>0.0</td>\n      <td>0.0</td>\n      <td>0.0</td>\n      <td>0.0</td>\n      <td>0.000000</td>\n      <td>0.0</td>\n      <td>0.0</td>\n      <td>0.0</td>\n      <td>0.0</td>\n      <td>0.0</td>\n      <td>...</td>\n      <td>0.0</td>\n      <td>0.0</td>\n      <td>0.0</td>\n      <td>0.0</td>\n      <td>0.0</td>\n      <td>0.0</td>\n      <td>0.0</td>\n      <td>0.0</td>\n      <td>0.0</td>\n      <td>0.0</td>\n    </tr>\n    <tr>\n      <th>4</th>\n      <td>0.0</td>\n      <td>0.0</td>\n      <td>0.0</td>\n      <td>0.0</td>\n      <td>0.000000</td>\n      <td>0.0</td>\n      <td>0.0</td>\n      <td>0.0</td>\n      <td>0.0</td>\n      <td>0.0</td>\n      <td>...</td>\n      <td>0.0</td>\n      <td>0.0</td>\n      <td>0.0</td>\n      <td>0.0</td>\n      <td>0.0</td>\n      <td>0.0</td>\n      <td>0.0</td>\n      <td>0.0</td>\n      <td>0.0</td>\n      <td>0.0</td>\n    </tr>\n    <tr>\n      <th>...</th>\n      <td>...</td>\n      <td>...</td>\n      <td>...</td>\n      <td>...</td>\n      <td>...</td>\n      <td>...</td>\n      <td>...</td>\n      <td>...</td>\n      <td>...</td>\n      <td>...</td>\n      <td>...</td>\n      <td>...</td>\n      <td>...</td>\n      <td>...</td>\n      <td>...</td>\n      <td>...</td>\n      <td>...</td>\n      <td>...</td>\n      <td>...</td>\n      <td>...</td>\n      <td>...</td>\n    </tr>\n    <tr>\n      <th>3106</th>\n      <td>0.0</td>\n      <td>0.0</td>\n      <td>0.0</td>\n      <td>0.0</td>\n      <td>0.497197</td>\n      <td>0.0</td>\n      <td>0.0</td>\n      <td>0.0</td>\n      <td>0.0</td>\n      <td>0.0</td>\n      <td>...</td>\n      <td>0.0</td>\n      <td>0.0</td>\n      <td>0.0</td>\n      <td>0.0</td>\n      <td>0.0</td>\n      <td>0.0</td>\n      <td>0.0</td>\n      <td>0.0</td>\n      <td>0.0</td>\n      <td>0.0</td>\n    </tr>\n    <tr>\n      <th>3107</th>\n      <td>0.0</td>\n      <td>0.0</td>\n      <td>0.0</td>\n      <td>0.0</td>\n      <td>0.000000</td>\n      <td>0.0</td>\n      <td>0.0</td>\n      <td>0.0</td>\n      <td>0.0</td>\n      <td>0.0</td>\n      <td>...</td>\n      <td>0.0</td>\n      <td>0.0</td>\n      <td>0.0</td>\n      <td>0.0</td>\n      <td>0.0</td>\n      <td>0.0</td>\n      <td>0.0</td>\n      <td>0.0</td>\n      <td>0.0</td>\n      <td>0.0</td>\n    </tr>\n    <tr>\n      <th>3108</th>\n      <td>0.0</td>\n      <td>0.0</td>\n      <td>0.0</td>\n      <td>0.0</td>\n      <td>0.000000</td>\n      <td>0.0</td>\n      <td>0.0</td>\n      <td>0.0</td>\n      <td>0.0</td>\n      <td>0.0</td>\n      <td>...</td>\n      <td>0.0</td>\n      <td>0.0</td>\n      <td>0.0</td>\n      <td>0.0</td>\n      <td>0.0</td>\n      <td>0.0</td>\n      <td>0.0</td>\n      <td>0.0</td>\n      <td>0.0</td>\n      <td>0.0</td>\n    </tr>\n    <tr>\n      <th>3109</th>\n      <td>0.0</td>\n      <td>0.0</td>\n      <td>0.0</td>\n      <td>0.0</td>\n      <td>0.000000</td>\n      <td>0.0</td>\n      <td>0.0</td>\n      <td>0.0</td>\n      <td>0.0</td>\n      <td>0.0</td>\n      <td>...</td>\n      <td>0.0</td>\n      <td>0.0</td>\n      <td>0.0</td>\n      <td>0.0</td>\n      <td>0.0</td>\n      <td>0.0</td>\n      <td>0.0</td>\n      <td>0.0</td>\n      <td>0.0</td>\n      <td>0.0</td>\n    </tr>\n    <tr>\n      <th>3110</th>\n      <td>0.0</td>\n      <td>0.0</td>\n      <td>0.0</td>\n      <td>0.0</td>\n      <td>0.000000</td>\n      <td>0.0</td>\n      <td>0.0</td>\n      <td>0.0</td>\n      <td>0.0</td>\n      <td>0.0</td>\n      <td>...</td>\n      <td>0.0</td>\n      <td>0.0</td>\n      <td>0.0</td>\n      <td>0.0</td>\n      <td>0.0</td>\n      <td>0.0</td>\n      <td>0.0</td>\n      <td>0.0</td>\n      <td>0.0</td>\n      <td>0.0</td>\n    </tr>\n  </tbody>\n</table>\n<p>3111 rows × 1768 columns</p>\n</div>"
     },
     "metadata": {},
     "execution_count": 11
    }
   ],
   "source": [
    "pd.DataFrame(transformed_weights.toarray(), columns=cvec.get_feature_names())"
   ]
  },
  {
   "cell_type": "code",
   "execution_count": null,
   "metadata": {},
   "outputs": [],
   "source": []
  }
 ],
 "metadata": {
  "language_info": {
   "codemirror_mode": {
    "name": "ipython",
    "version": 3
   },
   "file_extension": ".py",
   "mimetype": "text/x-python",
   "name": "python",
   "nbconvert_exporter": "python",
   "pygments_lexer": "ipython3",
   "version": "3.8.2-final"
  },
  "orig_nbformat": 2,
  "kernelspec": {
   "name": "python38264bitvenvvenv2bbc39647f214cc383d5c83f858d10a1",
   "display_name": "Python 3.8.2 64-bit ('.venv': venv)"
  }
 },
 "nbformat": 4,
 "nbformat_minor": 2
}