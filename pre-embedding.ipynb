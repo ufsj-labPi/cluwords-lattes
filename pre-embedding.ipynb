{
 "cells": [
  {
   "cell_type": "code",
   "execution_count": 1,
   "metadata": {},
   "outputs": [],
   "source": [
    "import pandas as pd\n",
    "import string, csv, html\n",
    "\n",
    "from pathlib import Path\n",
    "from bs4 import BeautifulSoup"
   ]
  },
  {
   "cell_type": "code",
   "execution_count": 2,
   "metadata": {},
   "outputs": [],
   "source": [
    "papers_file = './data/papers_22072019.csv.xz'\n",
    "works_file  = './data/works_22072019.csv.xz'"
   ]
  },
  {
   "cell_type": "code",
   "execution_count": 3,
   "metadata": {},
   "outputs": [],
   "source": [
    "# Artigos Extraidos\n",
    "df_papers = pd.read_csv(papers_file, sep='|', compression='xz')\n",
    "df_papers.drop(df_papers.loc[df_papers['idioma']!='Inglês'].index, inplace=True)\n",
    "df_papers.drop(['id_doc','autores_cnpq','autores',\n",
    "                'idioma','revista','natureza','ano'], axis=1, inplace=True)\n",
    "df_papers.dropna(inplace=True)\n",
    "#df_papers.info()\n",
    "\n",
    "# Trabalhos Extraidos\n",
    "df_works = pd.read_csv(works_file, sep='|', compression='xz')\n",
    "df_works.drop(df_works.loc[df_works['idioma']!='Inglês'].index, inplace=True)\n",
    "df_works.drop(['id_doc','autores_cnpq','autores',\n",
    "                'idioma','anais','natureza','ano'], axis=1, inplace=True)\n",
    "df_works.dropna(inplace=True)\n",
    "#df_works.info()"
   ]
  },
  {
   "cell_type": "code",
   "execution_count": 4,
   "metadata": {},
   "outputs": [],
   "source": [
    "frames = [df_papers, df_works]\n",
    "\n",
    "# Concatena Artigos e Trabalhos\n",
    "df_lattes = pd.concat(frames)\n",
    "df_lattes.sort_values(by=['id'], ignore_index=True, inplace=True)\n",
    "\n",
    "del [frames, df_papers, df_works]\n",
    "#df_lattes.info()\n",
    "\n",
    "df_lattes = df_lattes.groupby('id', sort=False).titulo.apply(' '.join).reset_index(name='titulo')"
   ]
  },
  {
   "cell_type": "code",
   "execution_count": 5,
   "metadata": {},
   "outputs": [],
   "source": [
    "def decode_html(text):\n",
    "    decoded = html.unescape(text)\n",
    "    return decoded\n",
    "\n",
    "def strip_html(text):\n",
    "    soup = BeautifulSoup(text, \"html.parser\")\n",
    "    return soup.get_text()\n",
    "\n",
    "def remove_separation(text):\n",
    "    table = text.maketrans('-/', '  ')\n",
    "    return text.translate(table)\n",
    "\n",
    "def strip_ponct(text):\n",
    "    table = str.maketrans({key: None for key in string.punctuation})\n",
    "    return text.translate(table)\n",
    "\n",
    "def one_space(text):\n",
    "    return \" \".join(text.split())\n",
    "\n",
    "df_lattes['titulo'] = df_lattes['titulo'].apply(decode_html)\n",
    "df_lattes['titulo'] = df_lattes['titulo'].apply(strip_html)\n",
    "df_lattes['titulo'] = df_lattes['titulo'].apply(remove_separation)\n",
    "df_lattes['titulo'] = df_lattes['titulo'].apply(strip_ponct)\n",
    "df_lattes['titulo'] = df_lattes['titulo'].apply(one_space)"
   ]
  },
  {
   "cell_type": "code",
   "execution_count": 6,
   "metadata": {},
   "outputs": [],
   "source": [
    "path = './data/corpus/'\n",
    "Path(path).mkdir(exist_ok=True)\n",
    "dev_file = '%scorpus.csv' % path\n",
    "ida_file = '%sauthors.csv.xz' % path\n",
    "pre_file = '%scorpus.csv.xz' % path\n",
    "\n",
    "df_lattes.to_csv(dev_file, index=None, columns = ['titulo'])\n",
    "df_lattes.to_csv(ida_file, index=None, compression='xz', columns = ['id'])\n",
    "df_lattes.to_csv(pre_file, index=None, compression='xz', columns = ['titulo'])"
   ]
  },
  {
   "cell_type": "code",
   "execution_count": null,
   "metadata": {},
   "outputs": [],
   "source": []
  }
 ],
 "metadata": {
  "language_info": {
   "codemirror_mode": {
    "name": "ipython",
    "version": 3
   },
   "file_extension": ".py",
   "mimetype": "text/x-python",
   "name": "python",
   "nbconvert_exporter": "python",
   "pygments_lexer": "ipython3",
   "version": "3.8.2-final"
  },
  "orig_nbformat": 2,
  "kernelspec": {
   "name": "python38264bitvenvvenv2bbc39647f214cc383d5c83f858d10a1",
   "display_name": "Python 3.8.2 64-bit ('.venv': venv)"
  }
 },
 "nbformat": 4,
 "nbformat_minor": 2
}