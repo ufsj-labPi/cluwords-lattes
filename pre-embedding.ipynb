{
 "cells": [
  {
   "cell_type": "code",
   "execution_count": 9,
   "metadata": {},
   "outputs": [],
   "source": [
    "import pandas as pd\n",
    "import string\n",
    "\n",
    "from time import time\n",
    "from pathlib import Path\n",
    "\n",
    "from nltk.tokenize import word_tokenize\n",
    "from nltk.stem.snowball import SnowballStemmer\n",
    "#from nltk.stem import PorterStemmer\n",
    "from nltk.corpus import stopwords\n",
    "\n",
    "DATA_PATH = './data'\n",
    "Path(DATA_PATH).mkdir(exist_ok=True)\n",
    "\n",
    "DEFAULT_STEMMER = SnowballStemmer('english')\n",
    "DEFAULT_STOPWORDS = stopwords.words('english')"
   ]
  },
  {
   "cell_type": "code",
   "execution_count": 10,
   "metadata": {},
   "outputs": [
    {
     "output_type": "stream",
     "name": "stdout",
     "text": "CPU times: user 447 ms, sys: 23 ms, total: 470 ms\nWall time: 480 ms\n(172165, 3) df shape\n"
    },
    {
     "output_type": "execute_result",
     "data": {
      "text/plain": "                id                                             titulo   ano\n0  101982954114164  3D reconstruction methods for digital preserva...  2014\n1  101982954114164  3D Viewer Software Build Based on Scanned Synt...  2016\n2  102488447573085  The Globalization Strategy of a High-Tech Mult...  1996\n3  102488447573085  Information Systems as an Instrument of Qualit...  2000\n4  102488447573085  The Experience of a Cardiology Unit in the Dev...  2002\n5  102488447573085  Information Systems as an Instrument for Quali...  2002\n6  102488447573085  Clustering and Categorization Applied to Crypt...  2006\n7  102488447573085  Criptoanalisys Outwit using Context Sensitive ...  2016\n8  102488447573085  Cryptographic Algorithm Identification Using M...  2016\n9  103102694865890  Influence of baroclinic sistems in severe rain...  2011",
      "text/html": "<div>\n<style scoped>\n    .dataframe tbody tr th:only-of-type {\n        vertical-align: middle;\n    }\n\n    .dataframe tbody tr th {\n        vertical-align: top;\n    }\n\n    .dataframe thead th {\n        text-align: right;\n    }\n</style>\n<table border=\"1\" class=\"dataframe\">\n  <thead>\n    <tr style=\"text-align: right;\">\n      <th></th>\n      <th>id</th>\n      <th>titulo</th>\n      <th>ano</th>\n    </tr>\n  </thead>\n  <tbody>\n    <tr>\n      <th>0</th>\n      <td>101982954114164</td>\n      <td>3D reconstruction methods for digital preserva...</td>\n      <td>2014</td>\n    </tr>\n    <tr>\n      <th>1</th>\n      <td>101982954114164</td>\n      <td>3D Viewer Software Build Based on Scanned Synt...</td>\n      <td>2016</td>\n    </tr>\n    <tr>\n      <th>2</th>\n      <td>102488447573085</td>\n      <td>The Globalization Strategy of a High-Tech Mult...</td>\n      <td>1996</td>\n    </tr>\n    <tr>\n      <th>3</th>\n      <td>102488447573085</td>\n      <td>Information Systems as an Instrument of Qualit...</td>\n      <td>2000</td>\n    </tr>\n    <tr>\n      <th>4</th>\n      <td>102488447573085</td>\n      <td>The Experience of a Cardiology Unit in the Dev...</td>\n      <td>2002</td>\n    </tr>\n    <tr>\n      <th>5</th>\n      <td>102488447573085</td>\n      <td>Information Systems as an Instrument for Quali...</td>\n      <td>2002</td>\n    </tr>\n    <tr>\n      <th>6</th>\n      <td>102488447573085</td>\n      <td>Clustering and Categorization Applied to Crypt...</td>\n      <td>2006</td>\n    </tr>\n    <tr>\n      <th>7</th>\n      <td>102488447573085</td>\n      <td>Criptoanalisys Outwit using Context Sensitive ...</td>\n      <td>2016</td>\n    </tr>\n    <tr>\n      <th>8</th>\n      <td>102488447573085</td>\n      <td>Cryptographic Algorithm Identification Using M...</td>\n      <td>2016</td>\n    </tr>\n    <tr>\n      <th>9</th>\n      <td>103102694865890</td>\n      <td>Influence of baroclinic sistems in severe rain...</td>\n      <td>2011</td>\n    </tr>\n  </tbody>\n</table>\n</div>"
     },
     "metadata": {},
     "execution_count": 10
    }
   ],
   "source": [
    "# Data Read\n",
    "data_file = '{}/df_lattes.pkl.xz'.format(DATA_PATH)\n",
    "%time df = pd.read_pickle(data_file, compression='xz')\n",
    "print('{} df shape'.format(df.shape))\n",
    "df.head(10)"
   ]
  },
  {
   "cell_type": "code",
   "execution_count": 3,
   "metadata": {},
   "outputs": [],
   "source": [
    "# drop id, ano\n",
    "df.drop(['id','ano'], axis=1, inplace=True)"
   ]
  },
  {
   "cell_type": "code",
   "execution_count": 4,
   "metadata": {},
   "outputs": [
    {
     "output_type": "stream",
     "name": "stdout",
     "text": "Time: 0.04 mins\n"
    },
    {
     "output_type": "execute_result",
     "data": {
      "text/plain": "                                              titulo  \\\n0  3D reconstruction methods for digital preserva...   \n1  3D Viewer Software Build Based on Scanned Synt...   \n2  The Globalization Strategy of a High-Tech Mult...   \n3  Information Systems as an Instrument of Qualit...   \n4  The Experience of a Cardiology Unit in the Dev...   \n5  Information Systems as an Instrument for Quali...   \n6  Clustering and Categorization Applied to Crypt...   \n7  Criptoanalisys Outwit using Context Sensitive ...   \n8  Cryptographic Algorithm Identification Using M...   \n9  Influence of baroclinic sistems in severe rain...   \n\n                                               clean  \n0  3d reconstruction methods for digital preserva...  \n1  3d viewer software build based on scanned synt...  \n2  the globalization strategy of a high tech mult...  \n3  information systems as an instrument of qualit...  \n4  the experience of a cardiology unit in the dev...  \n5  information systems as an instrument for quali...  \n6  clustering and categorization applied to crypt...  \n7  criptoanalisys outwit using context sensitive ...  \n8  cryptographic algorithm identification using m...  \n9  influence of baroclinic sistems in severe rain...  ",
      "text/html": "<div>\n<style scoped>\n    .dataframe tbody tr th:only-of-type {\n        vertical-align: middle;\n    }\n\n    .dataframe tbody tr th {\n        vertical-align: top;\n    }\n\n    .dataframe thead th {\n        text-align: right;\n    }\n</style>\n<table border=\"1\" class=\"dataframe\">\n  <thead>\n    <tr style=\"text-align: right;\">\n      <th></th>\n      <th>titulo</th>\n      <th>clean</th>\n    </tr>\n  </thead>\n  <tbody>\n    <tr>\n      <th>0</th>\n      <td>3D reconstruction methods for digital preserva...</td>\n      <td>3d reconstruction methods for digital preserva...</td>\n    </tr>\n    <tr>\n      <th>1</th>\n      <td>3D Viewer Software Build Based on Scanned Synt...</td>\n      <td>3d viewer software build based on scanned synt...</td>\n    </tr>\n    <tr>\n      <th>2</th>\n      <td>The Globalization Strategy of a High-Tech Mult...</td>\n      <td>the globalization strategy of a high tech mult...</td>\n    </tr>\n    <tr>\n      <th>3</th>\n      <td>Information Systems as an Instrument of Qualit...</td>\n      <td>information systems as an instrument of qualit...</td>\n    </tr>\n    <tr>\n      <th>4</th>\n      <td>The Experience of a Cardiology Unit in the Dev...</td>\n      <td>the experience of a cardiology unit in the dev...</td>\n    </tr>\n    <tr>\n      <th>5</th>\n      <td>Information Systems as an Instrument for Quali...</td>\n      <td>information systems as an instrument for quali...</td>\n    </tr>\n    <tr>\n      <th>6</th>\n      <td>Clustering and Categorization Applied to Crypt...</td>\n      <td>clustering and categorization applied to crypt...</td>\n    </tr>\n    <tr>\n      <th>7</th>\n      <td>Criptoanalisys Outwit using Context Sensitive ...</td>\n      <td>criptoanalisys outwit using context sensitive ...</td>\n    </tr>\n    <tr>\n      <th>8</th>\n      <td>Cryptographic Algorithm Identification Using M...</td>\n      <td>cryptographic algorithm identification using m...</td>\n    </tr>\n    <tr>\n      <th>9</th>\n      <td>Influence of baroclinic sistems in severe rain...</td>\n      <td>influence of baroclinic sistems in severe rain...</td>\n    </tr>\n  </tbody>\n</table>\n</div>"
     },
     "metadata": {},
     "execution_count": 4
    }
   ],
   "source": [
    "# Normalização\n",
    "df.insert(1, 'clean', df['titulo'])\n",
    "\n",
    "def remove_separation(doc):\n",
    "    table = doc.maketrans('-/', '  ')\n",
    "    return doc.translate(table)\n",
    "\n",
    "def strip_ponct(doc):\n",
    "    table = str.maketrans({key: None for key in string.punctuation})\n",
    "    return doc.translate(table)\n",
    "\n",
    "def normaliza(doc):\n",
    "    doc = remove_separation(doc)\n",
    "    doc = strip_ponct(doc)\n",
    "    doc = doc.lower()\n",
    "    return doc\n",
    "\n",
    "t = time()\n",
    "df['clean'] = df['clean'].apply(normaliza)\n",
    "\n",
    "print('Time: {} mins'.format(round((time() - t) / 60, 2)))\n",
    "df.head(10)"
   ]
  },
  {
   "cell_type": "code",
   "execution_count": 5,
   "metadata": {},
   "outputs": [
    {
     "output_type": "stream",
     "name": "stdout",
     "text": "Time: 1.12 mins\n"
    },
    {
     "output_type": "execute_result",
     "data": {
      "text/plain": "                                              titulo  \\\n0  3D reconstruction methods for digital preserva...   \n1  3D Viewer Software Build Based on Scanned Synt...   \n2  The Globalization Strategy of a High-Tech Mult...   \n3  Information Systems as an Instrument of Qualit...   \n4  The Experience of a Cardiology Unit in the Dev...   \n5  Information Systems as an Instrument for Quali...   \n6  Clustering and Categorization Applied to Crypt...   \n7  Criptoanalisys Outwit using Context Sensitive ...   \n8  Cryptographic Algorithm Identification Using M...   \n9  Influence of baroclinic sistems in severe rain...   \n\n                                               clean  w_count  \n0  3d reconstruct method digit preserv cultur her...        8  \n1  3d viewer softwar build base scan synthet fema...       11  \n2  global strategi high tech multin corpor case s...       12  \n3  inform system instrument qualiti program healt...        7  \n4  experi cardiolog unit develop qualiti program ...       10  \n5           inform system instrument qualiti program        5  \n6                 cluster categor appli cryptanalysi        4  \n7    criptoanalisi outwit use context sensit grammar        6  \n8  cryptograph algorithm identif use machin learn...        8  \n9  influenc baroclin sistem sever rainstorm buena...        8  ",
      "text/html": "<div>\n<style scoped>\n    .dataframe tbody tr th:only-of-type {\n        vertical-align: middle;\n    }\n\n    .dataframe tbody tr th {\n        vertical-align: top;\n    }\n\n    .dataframe thead th {\n        text-align: right;\n    }\n</style>\n<table border=\"1\" class=\"dataframe\">\n  <thead>\n    <tr style=\"text-align: right;\">\n      <th></th>\n      <th>titulo</th>\n      <th>clean</th>\n      <th>w_count</th>\n    </tr>\n  </thead>\n  <tbody>\n    <tr>\n      <th>0</th>\n      <td>3D reconstruction methods for digital preserva...</td>\n      <td>3d reconstruct method digit preserv cultur her...</td>\n      <td>8</td>\n    </tr>\n    <tr>\n      <th>1</th>\n      <td>3D Viewer Software Build Based on Scanned Synt...</td>\n      <td>3d viewer softwar build base scan synthet fema...</td>\n      <td>11</td>\n    </tr>\n    <tr>\n      <th>2</th>\n      <td>The Globalization Strategy of a High-Tech Mult...</td>\n      <td>global strategi high tech multin corpor case s...</td>\n      <td>12</td>\n    </tr>\n    <tr>\n      <th>3</th>\n      <td>Information Systems as an Instrument of Qualit...</td>\n      <td>inform system instrument qualiti program healt...</td>\n      <td>7</td>\n    </tr>\n    <tr>\n      <th>4</th>\n      <td>The Experience of a Cardiology Unit in the Dev...</td>\n      <td>experi cardiolog unit develop qualiti program ...</td>\n      <td>10</td>\n    </tr>\n    <tr>\n      <th>5</th>\n      <td>Information Systems as an Instrument for Quali...</td>\n      <td>inform system instrument qualiti program</td>\n      <td>5</td>\n    </tr>\n    <tr>\n      <th>6</th>\n      <td>Clustering and Categorization Applied to Crypt...</td>\n      <td>cluster categor appli cryptanalysi</td>\n      <td>4</td>\n    </tr>\n    <tr>\n      <th>7</th>\n      <td>Criptoanalisys Outwit using Context Sensitive ...</td>\n      <td>criptoanalisi outwit use context sensit grammar</td>\n      <td>6</td>\n    </tr>\n    <tr>\n      <th>8</th>\n      <td>Cryptographic Algorithm Identification Using M...</td>\n      <td>cryptograph algorithm identif use machin learn...</td>\n      <td>8</td>\n    </tr>\n    <tr>\n      <th>9</th>\n      <td>Influence of baroclinic sistems in severe rain...</td>\n      <td>influenc baroclin sistem sever rainstorm buena...</td>\n      <td>8</td>\n    </tr>\n  </tbody>\n</table>\n</div>"
     },
     "metadata": {},
     "execution_count": 5
    }
   ],
   "source": [
    "# Stopwords / Lemma\n",
    "def remove_stopwords(doc, stop_words=DEFAULT_STOPWORDS):\n",
    "    words = [w for w in doc if not w in stop_words]\n",
    "    return words\n",
    "\n",
    "def stem_text(doc, stemmer=DEFAULT_STEMMER):\n",
    "    words = [stemmer.stem(w) for w in doc]\n",
    "    return words\n",
    "\n",
    "def preprocess(doc):\n",
    "    doc = word_tokenize(doc)\n",
    "    doc = remove_stopwords(doc)\n",
    "    doc = stem_text(doc)\n",
    "    doc = [w for w in doc if len(w) > 1]\n",
    "    doc = ' '.join(doc)\n",
    "    return doc\n",
    "\n",
    "t = time()\n",
    "df['clean'] = df['clean'].apply(preprocess)\n",
    "df['w_count'] = df['clean'].str.split().str.len()\n",
    "\n",
    "print('Time: {} mins'.format(round((time() - t) / 60, 2)))\n",
    "df.head(10)"
   ]
  },
  {
   "cell_type": "code",
   "execution_count": 6,
   "metadata": {},
   "outputs": [
    {
     "output_type": "stream",
     "name": "stdout",
     "text": "Docs without benefit to train: 845\n"
    }
   ],
   "source": [
    "no_benefit = df['w_count'].loc[df['w_count']<=2].count()\n",
    "print('Docs without benefit to train:', no_benefit)\n",
    "\n",
    "df.drop(df.loc[df['w_count']<=2].index, inplace=True)\n",
    "df.drop(['titulo','w_count'], axis=1, inplace=True)\n",
    "df.dropna(inplace=True)\n",
    "df.drop_duplicates(inplace=True)\n",
    "df.reset_index(inplace=True, drop=True)"
   ]
  },
  {
   "cell_type": "code",
   "execution_count": 7,
   "metadata": {},
   "outputs": [
    {
     "output_type": "execute_result",
     "data": {
      "text/plain": "(123114, 1)"
     },
     "metadata": {},
     "execution_count": 7
    }
   ],
   "source": [
    "df.shape"
   ]
  },
  {
   "cell_type": "code",
   "execution_count": 8,
   "metadata": {},
   "outputs": [],
   "source": [
    "path = '{}/models'.format(DATA_PATH)\n",
    "Path(path).mkdir(exist_ok=True)\n",
    "\n",
    "dev_file = '{}/corpus.csv'.format(path)\n",
    "pre_file = '{}/corpus.csv.xz'.format(path)\n",
    "\n",
    "df.to_csv(dev_file, index=None, header=False, columns=['clean'])\n",
    "df.to_csv(pre_file, index=None, header=False, compression='xz', columns=['clean'])"
   ]
  },
  {
   "cell_type": "code",
   "execution_count": null,
   "metadata": {},
   "outputs": [],
   "source": []
  }
 ],
 "metadata": {
  "language_info": {
   "codemirror_mode": {
    "name": "ipython",
    "version": 3
   },
   "file_extension": ".py",
   "mimetype": "text/x-python",
   "name": "python",
   "nbconvert_exporter": "python",
   "pygments_lexer": "ipython3",
   "version": "3.8.2-final"
  },
  "orig_nbformat": 2,
  "kernelspec": {
   "name": "python38264bitvenvvenv2bbc39647f214cc383d5c83f858d10a1",
   "display_name": "Python 3.8.2 64-bit ('.venv': venv)"
  }
 },
 "nbformat": 4,
 "nbformat_minor": 2
}