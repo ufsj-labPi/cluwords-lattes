{
 "cells": [
  {
   "cell_type": "code",
   "execution_count": 1,
   "metadata": {},
   "outputs": [],
   "source": [
    "import logging\n",
    "import pandas as pd\n",
    "import string, html\n",
    "\n",
    "from time import time\n",
    "from pathlib import Path\n",
    "from bs4 import BeautifulSoup\n",
    "from collections import defaultdict\n",
    "\n",
    "from nltk.tokenize import word_tokenize, sent_tokenize\n",
    "from nltk.stem import PorterStemmer\n",
    "from nltk.corpus import stopwords\n",
    "\n",
    "# Setting up the loggings to monitor gensim\n",
    "logging.basicConfig(format=\"%(levelname)s - %(asctime)s: %(message)s\", datefmt= '%H:%M:%S', level=logging.INFO)"
   ]
  },
  {
   "cell_type": "code",
   "execution_count": 2,
   "metadata": {},
   "outputs": [],
   "source": [
    "papers_file = './data/papers_22072019.csv.xz'\n",
    "works_file  = './data/works_22072019.csv.xz'\n",
    "\n",
    "default_stemmer = PorterStemmer()\n",
    "default_stopwords = stopwords.words('english')"
   ]
  },
  {
   "cell_type": "markdown",
   "metadata": {},
   "source": [
    "### Data Read"
   ]
  },
  {
   "cell_type": "code",
   "execution_count": 3,
   "metadata": {},
   "outputs": [
    {
     "output_type": "stream",
     "name": "stdout",
     "text": "artigos shape: (61154, 1)\ntrabalhos shape: (119965, 1)\n"
    }
   ],
   "source": [
    "# Artigos Extraidos\n",
    "df_papers = pd.read_csv(papers_file, sep='|', compression='xz')\n",
    "df_papers.drop(df_papers.loc[df_papers['idioma']!='Inglês'].index, inplace=True)\n",
    "df_papers.drop(['id','id_doc','autores_cnpq','autores',\n",
    "                'idioma','revista','natureza','ano'], axis=1, inplace=True)\n",
    "df_papers.dropna(inplace=True)\n",
    "df_papers.reset_index(inplace=True, drop=True)\n",
    "\n",
    "# Trabalhos Extraidos\n",
    "df_works = pd.read_csv(works_file, sep='|', compression='xz')\n",
    "df_works.drop(df_works.loc[df_works['idioma']!='Inglês'].index, inplace=True)\n",
    "df_works.drop(['id','id_doc','autores_cnpq','autores',\n",
    "                'idioma','anais','natureza','ano'], axis=1, inplace=True)\n",
    "df_works.dropna(inplace=True)\n",
    "df_works.reset_index(inplace=True, drop=True)\n",
    "\n",
    "# Check shape\n",
    "print('artigos shape:', df_papers.shape)\n",
    "print('trabalhos shape:', df_works.shape)"
   ]
  },
  {
   "cell_type": "markdown",
   "metadata": {},
   "source": [
    "### Concatena Dataframes"
   ]
  },
  {
   "cell_type": "code",
   "execution_count": 4,
   "metadata": {},
   "outputs": [
    {
     "output_type": "stream",
     "name": "stdout",
     "text": "docs shape: (145194, 1)\n"
    }
   ],
   "source": [
    "frames = [df_papers, df_works]\n",
    "df = pd.concat(frames)\n",
    "df.dropna(inplace=True)\n",
    "df.drop_duplicates(inplace=True)\n",
    "df.reset_index(inplace=True, drop=True)\n",
    "\n",
    "del [frames, df_papers, df_works]\n",
    "print('docs shape:', df.shape)"
   ]
  },
  {
   "cell_type": "markdown",
   "metadata": {},
   "source": [
    "### Cleannig"
   ]
  },
  {
   "cell_type": "code",
   "execution_count": 5,
   "metadata": {},
   "outputs": [
    {
     "output_type": "stream",
     "name": "stdout",
     "text": "Time to clean up everything: 2.09 mins\n"
    },
    {
     "output_type": "execute_result",
     "data": {
      "text/plain": "                                              titulo  \\\n0  Isolating Complex Polynomial Roots: An algebra...   \n1  An algebraic algorithm to Isolate Complex poly...   \n2  Using Computer Algebra and Chebyshev Polynomia...   \n3  Reviewing the SacarWeb design based in discoun...   \n4  Extended Immersive Learning Environment: A Hyb...   \n5  New Technologies for Information and Communica...   \n6  School vs Industry A Relation of Competencies ...   \n7  3D virtual worlds using open source platform a...   \n8  Technology PLC - Power Line Communication, Use...   \n9  Immersive Learning Environment Using 3D Virtua...   \n\n                                               clean  \n0  isol complex polynomi root algebra algorithm u...  \n1  algebra algorithm isol complex polynomi zero u...  \n2  use comput algebra chebyshev polynomi count po...  \n3   review sacarweb design base discount usabl engin  \n4  extend immers learn environ hybrid remot virtu...  \n5  new technolog inform commun pwm remot experi 3...  \n6              school vs industri relat compet skill  \n7  3d virtual world use open sourc platform integ...  \n8  technolog plc power line commun use monitor sy...  \n9  immers learn environ use 3d virtual world inte...  ",
      "text/html": "<div>\n<style scoped>\n    .dataframe tbody tr th:only-of-type {\n        vertical-align: middle;\n    }\n\n    .dataframe tbody tr th {\n        vertical-align: top;\n    }\n\n    .dataframe thead th {\n        text-align: right;\n    }\n</style>\n<table border=\"1\" class=\"dataframe\">\n  <thead>\n    <tr style=\"text-align: right;\">\n      <th></th>\n      <th>titulo</th>\n      <th>clean</th>\n    </tr>\n  </thead>\n  <tbody>\n    <tr>\n      <th>0</th>\n      <td>Isolating Complex Polynomial Roots: An algebra...</td>\n      <td>isol complex polynomi root algebra algorithm u...</td>\n    </tr>\n    <tr>\n      <th>1</th>\n      <td>An algebraic algorithm to Isolate Complex poly...</td>\n      <td>algebra algorithm isol complex polynomi zero u...</td>\n    </tr>\n    <tr>\n      <th>2</th>\n      <td>Using Computer Algebra and Chebyshev Polynomia...</td>\n      <td>use comput algebra chebyshev polynomi count po...</td>\n    </tr>\n    <tr>\n      <th>3</th>\n      <td>Reviewing the SacarWeb design based in discoun...</td>\n      <td>review sacarweb design base discount usabl engin</td>\n    </tr>\n    <tr>\n      <th>4</th>\n      <td>Extended Immersive Learning Environment: A Hyb...</td>\n      <td>extend immers learn environ hybrid remot virtu...</td>\n    </tr>\n    <tr>\n      <th>5</th>\n      <td>New Technologies for Information and Communica...</td>\n      <td>new technolog inform commun pwm remot experi 3...</td>\n    </tr>\n    <tr>\n      <th>6</th>\n      <td>School vs Industry A Relation of Competencies ...</td>\n      <td>school vs industri relat compet skill</td>\n    </tr>\n    <tr>\n      <th>7</th>\n      <td>3D virtual worlds using open source platform a...</td>\n      <td>3d virtual world use open sourc platform integ...</td>\n    </tr>\n    <tr>\n      <th>8</th>\n      <td>Technology PLC - Power Line Communication, Use...</td>\n      <td>technolog plc power line commun use monitor sy...</td>\n    </tr>\n    <tr>\n      <th>9</th>\n      <td>Immersive Learning Environment Using 3D Virtua...</td>\n      <td>immers learn environ use 3d virtual world inte...</td>\n    </tr>\n  </tbody>\n</table>\n</div>"
     },
     "metadata": {},
     "execution_count": 5
    }
   ],
   "source": [
    "def decode_html(doc):\n",
    "    return html.unescape(doc)\n",
    "\n",
    "def strip_html(doc):\n",
    "    soup = BeautifulSoup(doc, \"html.parser\")\n",
    "    return soup.get_text()\n",
    "\n",
    "def remove_separation(doc):\n",
    "    table = doc.maketrans('-/', '  ')\n",
    "    return doc.translate(table)\n",
    "\n",
    "def strip_ponct(doc):\n",
    "    table = str.maketrans({key: None for key in string.punctuation})\n",
    "    return doc.translate(table)\n",
    "\n",
    "def one_space(doc):\n",
    "    return ' '.join(doc.split()).lower()\n",
    "\n",
    "def tokenize_text(doc):\n",
    "    return [w for s in sent_tokenize(doc) for w in word_tokenize(s)]\n",
    "\n",
    "def stem_text(doc, stemmer=default_stemmer):\n",
    "    tokens = tokenize_text(doc)\n",
    "    return ' '.join([stemmer.stem(t) for t in tokens])\n",
    "\n",
    "def remove_stopwords(doc, stop_words=default_stopwords):\n",
    "    tokens = [w for w in tokenize_text(doc) if w not in stop_words]\n",
    "    return ' '.join(tokens)\n",
    "\n",
    "t = time()\n",
    "df['clean'] = df['titulo'].apply(decode_html)\n",
    "df['clean'] = df['clean'].apply(strip_html)\n",
    "df['clean'] = df['clean'].apply(remove_separation)\n",
    "df['clean'] = df['clean'].apply(strip_ponct)\n",
    "df['clean'] = df['clean'].apply(one_space)\n",
    "df['clean'] = df['clean'].apply(stem_text)\n",
    "df['clean'] = df['clean'].apply(remove_stopwords)\n",
    "\n",
    "print('Time to clean up everything: {} mins'.format(round((time() - t) / 60, 2)))\n",
    "df.head(10)"
   ]
  },
  {
   "cell_type": "markdown",
   "metadata": {},
   "source": [
    "### Remove snetences <= 2 words"
   ]
  },
  {
   "cell_type": "code",
   "execution_count": 6,
   "metadata": {},
   "outputs": [
    {
     "output_type": "stream",
     "name": "stdout",
     "text": "Docs without benefit to train: 746\n"
    }
   ],
   "source": [
    "df['wcount'] = df['clean'].str.count(' ') + 1\n",
    "no_benefit = df['wcount'].loc[df['wcount']<=2].count()\n",
    "print('Docs without benefit to train:', no_benefit)\n",
    "\n",
    "# Remove wcount <= 2\n",
    "df.drop(df.loc[df['wcount']<=2].index, inplace=True)\n",
    "df.drop(['titulo','wcount'], axis=1, inplace=True)\n",
    "df.dropna(inplace=True)\n",
    "df.drop_duplicates(inplace=True)\n",
    "df.reset_index(inplace=True, drop=True)\n"
   ]
  },
  {
   "cell_type": "markdown",
   "metadata": {},
   "source": [
    "### Salva Corpus"
   ]
  },
  {
   "cell_type": "code",
   "execution_count": 9,
   "metadata": {},
   "outputs": [],
   "source": [
    "path = './data/models/'\n",
    "Path(path).mkdir(exist_ok=True)\n",
    "dev_file = '%scorpus.csv' % path\n",
    "pre_file = '%scorpus.csv.xz' % path\n",
    "\n",
    "df.to_csv(dev_file, index=None, header=False)\n",
    "df.to_csv(pre_file, index=None, header=False, compression='xz')"
   ]
  },
  {
   "cell_type": "code",
   "execution_count": null,
   "metadata": {},
   "outputs": [],
   "source": []
  }
 ],
 "metadata": {
  "language_info": {
   "codemirror_mode": {
    "name": "ipython",
    "version": 3
   },
   "file_extension": ".py",
   "mimetype": "text/x-python",
   "name": "python",
   "nbconvert_exporter": "python",
   "pygments_lexer": "ipython3",
   "version": "3.8.2-final"
  },
  "orig_nbformat": 2,
  "kernelspec": {
   "name": "python38264bitvenvvenv2bbc39647f214cc383d5c83f858d10a1",
   "display_name": "Python 3.8.2 64-bit ('.venv': venv)"
  }
 },
 "nbformat": 4,
 "nbformat_minor": 2
}