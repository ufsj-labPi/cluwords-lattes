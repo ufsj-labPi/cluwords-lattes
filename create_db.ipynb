{
 "cells": [
  {
   "cell_type": "code",
   "execution_count": 1,
   "metadata": {},
   "outputs": [],
   "source": [
    "import xmltodict\n",
    "import pandas as pd\n",
    "import copy\n",
    "import csv\n",
    "import os\n",
    "import langid\n",
    "import mysql.connector\n",
    "import re\n",
    "\n",
    "from IPython.display import clear_output\n",
    "BASE_DIR = '/home/antonio/lattes_base/Collection'"
   ]
  },
  {
   "cell_type": "code",
   "execution_count": 2,
   "metadata": {},
   "outputs": [],
   "source": [
    "def insert_values(doc, cursor):\n",
    "    try:\n",
    "        author_id = doc['CURRICULO-VITAE']['@NUMERO-IDENTIFICADOR']\n",
    "        print(author_id)\n",
    "        name = doc['CURRICULO-VITAE']['DADOS-GERAIS']['@NOME-COMPLETO']\n",
    "        citation_name = doc['CURRICULO-VITAE']['DADOS-GERAIS']['@NOME-EM-CITACOES-BIBLIOGRAFICAS']\n",
    "\n",
    "        try:\n",
    "            try:\n",
    "                graduacao = doc['CURRICULO-VITAE']['DADOS-GERAIS']['FORMACAO-ACADEMICA-TITULACAO']['GRADUACAO']['@NOME-CURSO']\n",
    "            except:\n",
    "                graduacao = doc['CURRICULO-VITAE']['DADOS-GERAIS']['FORMACAO-ACADEMICA-TITULACAO']['GRADUACAO'][0]['@NOME-CURSO']\n",
    "        except:\n",
    "            graduacao = None\n",
    "        try:\n",
    "            mestrado = doc['CURRICULO-VITAE']['DADOS-GERAIS']['FORMACAO-ACADEMICA-TITULACAO']['MESTRADO']['@NOME-CURSO']\n",
    "        except:\n",
    "            mestrado = None\n",
    "        try:\n",
    "            doutorado = doc['CURRICULO-VITAE']['DADOS-GERAIS']['FORMACAO-ACADEMICA-TITULACAO']['DOUTORADO']['@NOME-CURSO']\n",
    "        except:\n",
    "            doutorado = None\n",
    "\n",
    "        sql = \"INSERT INTO tbl_Autor (IdAutor, NomeAutor, NomeCitacao, Graduacao, Mestrado, Doutorado) VALUES (%s,%s,%s,%s,%s,%s)\"\n",
    "        values = (author_id, name, citation_name, graduacao, mestrado, doutorado)\n",
    "        cursor.execute(sql, values)\n",
    "\n",
    "\n",
    "        try:\n",
    "            artigos = doc['CURRICULO-VITAE']['PRODUCAO-BIBLIOGRAFICA']['ARTIGOS-PUBLICADOS']['ARTIGO-PUBLICADO']\n",
    "            for artigo in artigos:\n",
    "                if(artigo['DADOS-BASICOS-DO-ARTIGO']['@IDIOMA'] == \"Inglês\"):\n",
    "                    try:\n",
    "                        issn = artigo['DETALHAMENTO-DO-ARTIGO']['@ISSN']\n",
    "                        titulo = artigo['DADOS-BASICOS-DO-ARTIGO']['@TITULO-DO-ARTIGO']\n",
    "                        ano = artigo['DADOS-BASICOS-DO-ARTIGO']['@ANO-DO-ARTIGO']\n",
    "                        home = artigo['DADOS-BASICOS-DO-ARTIGO']['@HOME-PAGE-DO-TRABALHO']\n",
    "                        sql = \"INSERT INTO tbl_Artigos (Issn, Titulo, Ano, Homepage) VALUES (%s,%s,%s,%s)\"\n",
    "                        values = (issn, titulo, ano, home)\n",
    "                        cursor.execute(sql, values)\n",
    "                    except:\n",
    "                        pass\n",
    "        except:\n",
    "            pass\n",
    "    except:\n",
    "        pass"
   ]
  },
  {
   "cell_type": "code",
   "execution_count": 3,
   "metadata": {},
   "outputs": [],
   "source": [
    "def link_papers_authors(doc, cursor):\n",
    "    author = doc['CURRICULO-VITAE']['@NUMERO-IDENTIFICADOR']\n",
    "    artigos = doc['CURRICULO-VITAE']['PRODUCAO-BIBLIOGRAFICA']['ARTIGOS-PUBLICADOS']['ARTIGO-PUBLICADO']\n",
    "    for artigo in artigos:\n",
    "        if(artigo['DADOS-BASICOS-DO-ARTIGO']['@IDIOMA'] == \"Inglês\"):\n",
    "            sql = \"INSERT INTO tbl_ArtigosAutores (IdAutor, Issn,) VALUES (%s,%s)\"\n",
    "            values = (author, artigo['DETALHAMENTO-DO-ARTIGO']['@ISSN'])\n",
    "            cursor.execute(sql, values)"
   ]
  },
  {
   "cell_type": "code",
   "execution_count": 4,
   "metadata": {},
   "outputs": [],
   "source": [
    "def link_coauthors(doc, cursor):\n",
    "    artigos = doc['CURRICULO-VITAE']['PRODUCAO-BIBLIOGRAFICA']['ARTIGOS-PUBLICADOS']['ARTIGO-PUBLICADO']\n",
    "    for artigo in artigos:\n",
    "        if(artigo['DADOS-BASICOS-DO-ARTIGO']['@IDIOMA'] == \"Inglês\"):\n",
    "            issn = artigo['DETALHAMENTO-DO-ARTIGO']['@ISSN']\n",
    "            for autores in artigo['AUTORES']:     \n",
    "                sql = \"INSERT INTO tbl_ArtigosAutores (IdAutor, Issn,) VALUES (%s,%s)\"\n",
    "                values = (autores['@NRO-ID-CNPQ'], issn)\n",
    "                cursor.execute(sql, values)"
   ]
  },
  {
   "cell_type": "markdown",
   "metadata": {},
   "source": [
    "### get all files"
   ]
  },
  {
   "cell_type": "code",
   "execution_count": 5,
   "metadata": {},
   "outputs": [],
   "source": [
    "files_list = []\n",
    "\n",
    "for folder in os.listdir(BASE_DIR):\n",
    "    path = os.path.join(BASE_DIR, folder)\n",
    "    if(os.path.isdir(path) == True and not folder.startswith('.')):\n",
    "        for files in os.listdir(path):\n",
    "            if not files.startswith('.'):\n",
    "                file = os.path.join(path, files)\n",
    "                files_list.append(file)\n"
   ]
  },
  {
   "cell_type": "code",
   "execution_count": 6,
   "metadata": {},
   "outputs": [
    {
     "data": {
      "text/plain": [
       "295303"
      ]
     },
     "execution_count": 6,
     "metadata": {},
     "output_type": "execute_result"
    }
   ],
   "source": [
    "n_files = len(files_list)\n",
    "n_files"
   ]
  },
  {
   "cell_type": "markdown",
   "metadata": {},
   "source": [
    "### Define tasks"
   ]
  },
  {
   "cell_type": "code",
   "execution_count": 7,
   "metadata": {},
   "outputs": [],
   "source": [
    "mydb = mysql.connector.connect(\n",
    "    host=\"localhost\",\n",
    "    user=\"root\",\n",
    "    password=\"root\",\n",
    "    database=\"lattes\"\n",
    ")"
   ]
  },
  {
   "cell_type": "code",
   "execution_count": 8,
   "metadata": {},
   "outputs": [],
   "source": [
    "cursor = mydb.cursor()"
   ]
  },
  {
   "cell_type": "code",
   "execution_count": null,
   "metadata": {
    "scrolled": true
   },
   "outputs": [
    {
     "name": "stdout",
     "output_type": "stream",
     "text": [
      "3.0717601920739037%\n"
     ]
    }
   ],
   "source": [
    "for index, file in enumerate (files_list, start=0):\n",
    "    with open(file + '/curriculo.xml', encoding=\"ISO-8859-1\") as fd:\n",
    "        doc = xmltodict.parse(fd.read())\n",
    "        insert_values(doc, cursor)\n",
    "        clear_output(wait=True)\n",
    "        print(str(index * 100 / n_files) + '%')"
   ]
  },
  {
   "cell_type": "code",
   "execution_count": null,
   "metadata": {},
   "outputs": [],
   "source": [
    "for index, file in enumerate (files_list, start=0):\n",
    "    with open(file + '/curriculo.xml', encoding=\"ISO-8859-1\") as fd:\n",
    "        doc = xmltodict.parse(fd.read())\n",
    "        link_papers_authors(doc, cursor)\n",
    "        clear_output(wait=True)\n",
    "        print(str(index * 100 / n_files) + '%')        "
   ]
  },
  {
   "cell_type": "code",
   "execution_count": null,
   "metadata": {},
   "outputs": [],
   "source": [
    "for index, file in enumerate (files_list, start=0):\n",
    "    with open(file + '/curriculo.xml', encoding=\"ISO-8859-1\") as fd:\n",
    "        doc = xmltodict.parse(fd.read())\n",
    "        link_coauthors(doc, cursor)\n",
    "        clear_output(wait=True)\n",
    "        print(str(index * 100 / n_files) + '%')"
   ]
  },
  {
   "cell_type": "code",
   "execution_count": null,
   "metadata": {},
   "outputs": [],
   "source": [
    "cursor.close()\n",
    "mydb.commit()\n",
    "mydb.close()"
   ]
  }
 ],
 "metadata": {
  "kernelspec": {
   "display_name": "Python 3",
   "language": "python",
   "name": "python3"
  },
  "language_info": {
   "codemirror_mode": {
    "name": "ipython",
    "version": 3
   },
   "file_extension": ".py",
   "mimetype": "text/x-python",
   "name": "python",
   "nbconvert_exporter": "python",
   "pygments_lexer": "ipython3",
   "version": "3.6.9"
  }
 },
 "nbformat": 4,
 "nbformat_minor": 4
}
